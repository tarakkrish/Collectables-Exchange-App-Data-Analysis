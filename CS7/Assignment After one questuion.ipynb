{
  "metadata": {
    "kernelspec": {
      "name": "python",
      "display_name": "Python (Pyodide)",
      "language": "python"
    },
    "language_info": {
      "codemirror_mode": {
        "name": "python",
        "version": 3
      },
      "file_extension": ".py",
      "mimetype": "text/x-python",
      "name": "python",
      "nbconvert_exporter": "python",
      "pygments_lexer": "ipython3",
      "version": "3.8"
    }
  },
  "nbformat_minor": 4,
  "nbformat": 4,
  "cells": [
    {
      "cell_type": "code",
      "source": "# Assignment -4 [Module 4-Distributions]",
      "metadata": {
        "trusted": true
      },
      "outputs": [],
      "execution_count": null
    },
    {
      "cell_type": "code",
      "source": "import piplite # When using the JupyterLite web-based environment, this is needed for installing specific session-based libraries inside of a \"wrapper\" called \"piplite\".\nawait piplite.install(\"seaborn\") # For installing the seaborn library in a piplite wrapper for use in this web-based environment session.\nawait piplite.install(\"openpyxl\")  # For installing the openpyxl library in a piplite wrapper for use in this web-based environment session.",
      "metadata": {
        "trusted": true
      },
      "outputs": [],
      "execution_count": 100
    },
    {
      "cell_type": "code",
      "source": "# Import required libraries\nimport pandas as pd # For data processing\nimport seaborn as sns # For plotting\nimport matplotlib.pyplot as plt # For plotting\nimport matplotlib as mpl # For plot formatting",
      "metadata": {
        "trusted": true
      },
      "outputs": [],
      "execution_count": 101
    },
    {
      "cell_type": "code",
      "source": "# Use the \"ExcelFile()\" function from a library called \"pandas\" that was imported as a variable called \"pd\" to read an excel file called \"O-Collectables Exchange App-D6.xlsx'\" and each of its sheets and save it to a variable called \"D6\" for later use.\nD6 = pd.ExcelFile('O-Collectables Exchange App-D6.xlsx')",
      "metadata": {
        "trusted": true
      },
      "outputs": [],
      "execution_count": 102
    },
    {
      "cell_type": "code",
      "source": "# Use the \"sheet_names\" attribute to output a list of all sheets in the an xlsx file that was assigned to a variable called \"D6\".\nD6.sheet_names\n",
      "metadata": {
        "trusted": true
      },
      "outputs": [
        {
          "execution_count": 103,
          "output_type": "execute_result",
          "data": {
            "text/plain": "['Data', 'Data Dictionary']"
          },
          "metadata": {}
        }
      ],
      "execution_count": 103
    },
    {
      "cell_type": "code",
      "source": "# Use the \"read_excel()\" from a library called \"pandas\" that was imported as \"pd\" to save the D6 \"Data\" sheet as a variable called \"D6_data\" for later use\nD6_data = pd.read_excel(D6, \"Data\")",
      "metadata": {
        "trusted": true
      },
      "outputs": [],
      "execution_count": 104
    },
    {
      "cell_type": "code",
      "source": "# Use the \"head()\" function to show the first five rows of the content of D6_data for data inspection.\nD6_data.head()",
      "metadata": {
        "trusted": true
      },
      "outputs": [
        {
          "execution_count": 105,
          "output_type": "execute_result",
          "data": {
            "text/plain": "   ID  Q16  Q17  Q18  Q19\n0   1    2    1    2    4\n1   2    6    2    2    1\n2   3    4    2    3    4\n3   4    2    2    1    1\n4   5    2    1    2    4",
            "text/html": "<div>\n<style scoped>\n    .dataframe tbody tr th:only-of-type {\n        vertical-align: middle;\n    }\n\n    .dataframe tbody tr th {\n        vertical-align: top;\n    }\n\n    .dataframe thead th {\n        text-align: right;\n    }\n</style>\n<table border=\"1\" class=\"dataframe\">\n  <thead>\n    <tr style=\"text-align: right;\">\n      <th></th>\n      <th>ID</th>\n      <th>Q16</th>\n      <th>Q17</th>\n      <th>Q18</th>\n      <th>Q19</th>\n    </tr>\n  </thead>\n  <tbody>\n    <tr>\n      <th>0</th>\n      <td>1</td>\n      <td>2</td>\n      <td>1</td>\n      <td>2</td>\n      <td>4</td>\n    </tr>\n    <tr>\n      <th>1</th>\n      <td>2</td>\n      <td>6</td>\n      <td>2</td>\n      <td>2</td>\n      <td>1</td>\n    </tr>\n    <tr>\n      <th>2</th>\n      <td>3</td>\n      <td>4</td>\n      <td>2</td>\n      <td>3</td>\n      <td>4</td>\n    </tr>\n    <tr>\n      <th>3</th>\n      <td>4</td>\n      <td>2</td>\n      <td>2</td>\n      <td>1</td>\n      <td>1</td>\n    </tr>\n    <tr>\n      <th>4</th>\n      <td>5</td>\n      <td>2</td>\n      <td>1</td>\n      <td>2</td>\n      <td>4</td>\n    </tr>\n  </tbody>\n</table>\n</div>"
          },
          "metadata": {}
        }
      ],
      "execution_count": 105
    },
    {
      "cell_type": "code",
      "source": "# Use the \"read_excel()\" from a library called \"pandas\" that was imported as \"pd\" to save the D6 \"Data Dictionary\" sheet as a variable called \"D6_DD\" for later use\nD6_DD = pd.read_excel(D6, \"Data Dictionary\")",
      "metadata": {
        "trusted": true
      },
      "outputs": [],
      "execution_count": 106
    },
    {
      "cell_type": "code",
      "source": "# Call the \"D6_DD\" variable to print the entire contents to the screen for data inspection.\nD6_DD",
      "metadata": {
        "trusted": true
      },
      "outputs": [
        {
          "execution_count": 107,
          "output_type": "execute_result",
          "data": {
            "text/plain": "    ID                                         ResponseNO  \\\n0  Q16  How much would you be willing to pay for an ap...   \n1  Q17  How much would you be willing to spend per ord...   \n2  Q18  How much would you be willing to spend for an ...   \n3  Q19  How much would you be willing to spend per mon...   \n\n            Unnamed: 2           Unnamed: 3         Unnamed: 4  \\\n0  I would not use (0)    $0.99 or less (1)    $1 to $1.99 (2)   \n1  I would not use (0)    $4.99 or less (1)    $5 to $9.99 (2)   \n2  I would not use (0)  I would not pay (1)  $1.99 or less (2)   \n3  I would not use (0)    $4.99 or less (1)    $5 to $6.99 (2)   \n\n          Unnamed: 5       Unnamed: 6       Unnamed: 7      Unnamed: 8  \n0    $2 to $2.99 (3)  $3 to $3.99 (4)  $4 to $4.99 (5)  $5 or more (6)  \n1  $10 to $14.99 (3)  $15 or more (4)              NaN             NaN  \n2    $2 to $3.99 (3)  $4 to $5.99 (4)   $6 or more (5)             NaN  \n3    $7 to $8.99 (3)   $9 or more (4)              NaN             NaN  ",
            "text/html": "<div>\n<style scoped>\n    .dataframe tbody tr th:only-of-type {\n        vertical-align: middle;\n    }\n\n    .dataframe tbody tr th {\n        vertical-align: top;\n    }\n\n    .dataframe thead th {\n        text-align: right;\n    }\n</style>\n<table border=\"1\" class=\"dataframe\">\n  <thead>\n    <tr style=\"text-align: right;\">\n      <th></th>\n      <th>ID</th>\n      <th>ResponseNO</th>\n      <th>Unnamed: 2</th>\n      <th>Unnamed: 3</th>\n      <th>Unnamed: 4</th>\n      <th>Unnamed: 5</th>\n      <th>Unnamed: 6</th>\n      <th>Unnamed: 7</th>\n      <th>Unnamed: 8</th>\n    </tr>\n  </thead>\n  <tbody>\n    <tr>\n      <th>0</th>\n      <td>Q16</td>\n      <td>How much would you be willing to pay for an ap...</td>\n      <td>I would not use (0)</td>\n      <td>$0.99 or less (1)</td>\n      <td>$1 to $1.99 (2)</td>\n      <td>$2 to $2.99 (3)</td>\n      <td>$3 to $3.99 (4)</td>\n      <td>$4 to $4.99 (5)</td>\n      <td>$5 or more (6)</td>\n    </tr>\n    <tr>\n      <th>1</th>\n      <td>Q17</td>\n      <td>How much would you be willing to spend per ord...</td>\n      <td>I would not use (0)</td>\n      <td>$4.99 or less (1)</td>\n      <td>$5 to $9.99 (2)</td>\n      <td>$10 to $14.99 (3)</td>\n      <td>$15 or more (4)</td>\n      <td>NaN</td>\n      <td>NaN</td>\n    </tr>\n    <tr>\n      <th>2</th>\n      <td>Q18</td>\n      <td>How much would you be willing to spend for an ...</td>\n      <td>I would not use (0)</td>\n      <td>I would not pay (1)</td>\n      <td>$1.99 or less (2)</td>\n      <td>$2 to $3.99 (3)</td>\n      <td>$4 to $5.99 (4)</td>\n      <td>$6 or more (5)</td>\n      <td>NaN</td>\n    </tr>\n    <tr>\n      <th>3</th>\n      <td>Q19</td>\n      <td>How much would you be willing to spend per mon...</td>\n      <td>I would not use (0)</td>\n      <td>$4.99 or less (1)</td>\n      <td>$5 to $6.99 (2)</td>\n      <td>$7 to $8.99 (3)</td>\n      <td>$9 or more (4)</td>\n      <td>NaN</td>\n      <td>NaN</td>\n    </tr>\n  </tbody>\n</table>\n</div>"
          },
          "metadata": {}
        }
      ],
      "execution_count": 107
    },
    {
      "cell_type": "code",
      "source": "# Use the \"T\" attribute to Transpose the D6_DD dataframe to give another way to read it in an output cell. You decide which is easier for your and your team to understand.\nD6_DD.T\n",
      "metadata": {
        "trusted": true
      },
      "outputs": [
        {
          "execution_count": 108,
          "output_type": "execute_result",
          "data": {
            "text/plain": "                                                            0  \\\nID                                                        Q16   \nResponseNO  How much would you be willing to pay for an ap...   \nUnnamed: 2                                I would not use (0)   \nUnnamed: 3                                  $0.99 or less (1)   \nUnnamed: 4                                    $1 to $1.99 (2)   \nUnnamed: 5                                    $2 to $2.99 (3)   \nUnnamed: 6                                    $3 to $3.99 (4)   \nUnnamed: 7                                    $4 to $4.99 (5)   \nUnnamed: 8                                     $5 or more (6)   \n\n                                                            1  \\\nID                                                        Q17   \nResponseNO  How much would you be willing to spend per ord...   \nUnnamed: 2                                I would not use (0)   \nUnnamed: 3                                  $4.99 or less (1)   \nUnnamed: 4                                    $5 to $9.99 (2)   \nUnnamed: 5                                  $10 to $14.99 (3)   \nUnnamed: 6                                    $15 or more (4)   \nUnnamed: 7                                                NaN   \nUnnamed: 8                                                NaN   \n\n                                                            2  \\\nID                                                        Q18   \nResponseNO  How much would you be willing to spend for an ...   \nUnnamed: 2                                I would not use (0)   \nUnnamed: 3                                I would not pay (1)   \nUnnamed: 4                                  $1.99 or less (2)   \nUnnamed: 5                                    $2 to $3.99 (3)   \nUnnamed: 6                                    $4 to $5.99 (4)   \nUnnamed: 7                                     $6 or more (5)   \nUnnamed: 8                                                NaN   \n\n                                                            3  \nID                                                        Q19  \nResponseNO  How much would you be willing to spend per mon...  \nUnnamed: 2                                I would not use (0)  \nUnnamed: 3                                  $4.99 or less (1)  \nUnnamed: 4                                    $5 to $6.99 (2)  \nUnnamed: 5                                    $7 to $8.99 (3)  \nUnnamed: 6                                     $9 or more (4)  \nUnnamed: 7                                                NaN  \nUnnamed: 8                                                NaN  ",
            "text/html": "<div>\n<style scoped>\n    .dataframe tbody tr th:only-of-type {\n        vertical-align: middle;\n    }\n\n    .dataframe tbody tr th {\n        vertical-align: top;\n    }\n\n    .dataframe thead th {\n        text-align: right;\n    }\n</style>\n<table border=\"1\" class=\"dataframe\">\n  <thead>\n    <tr style=\"text-align: right;\">\n      <th></th>\n      <th>0</th>\n      <th>1</th>\n      <th>2</th>\n      <th>3</th>\n    </tr>\n  </thead>\n  <tbody>\n    <tr>\n      <th>ID</th>\n      <td>Q16</td>\n      <td>Q17</td>\n      <td>Q18</td>\n      <td>Q19</td>\n    </tr>\n    <tr>\n      <th>ResponseNO</th>\n      <td>How much would you be willing to pay for an ap...</td>\n      <td>How much would you be willing to spend per ord...</td>\n      <td>How much would you be willing to spend for an ...</td>\n      <td>How much would you be willing to spend per mon...</td>\n    </tr>\n    <tr>\n      <th>Unnamed: 2</th>\n      <td>I would not use (0)</td>\n      <td>I would not use (0)</td>\n      <td>I would not use (0)</td>\n      <td>I would not use (0)</td>\n    </tr>\n    <tr>\n      <th>Unnamed: 3</th>\n      <td>$0.99 or less (1)</td>\n      <td>$4.99 or less (1)</td>\n      <td>I would not pay (1)</td>\n      <td>$4.99 or less (1)</td>\n    </tr>\n    <tr>\n      <th>Unnamed: 4</th>\n      <td>$1 to $1.99 (2)</td>\n      <td>$5 to $9.99 (2)</td>\n      <td>$1.99 or less (2)</td>\n      <td>$5 to $6.99 (2)</td>\n    </tr>\n    <tr>\n      <th>Unnamed: 5</th>\n      <td>$2 to $2.99 (3)</td>\n      <td>$10 to $14.99 (3)</td>\n      <td>$2 to $3.99 (3)</td>\n      <td>$7 to $8.99 (3)</td>\n    </tr>\n    <tr>\n      <th>Unnamed: 6</th>\n      <td>$3 to $3.99 (4)</td>\n      <td>$15 or more (4)</td>\n      <td>$4 to $5.99 (4)</td>\n      <td>$9 or more (4)</td>\n    </tr>\n    <tr>\n      <th>Unnamed: 7</th>\n      <td>$4 to $4.99 (5)</td>\n      <td>NaN</td>\n      <td>$6 or more (5)</td>\n      <td>NaN</td>\n    </tr>\n    <tr>\n      <th>Unnamed: 8</th>\n      <td>$5 or more (6)</td>\n      <td>NaN</td>\n      <td>NaN</td>\n      <td>NaN</td>\n    </tr>\n  </tbody>\n</table>\n</div>"
          },
          "metadata": {}
        }
      ],
      "execution_count": 108
    },
    {
      "cell_type": "code",
      "source": "#Get the \"ResponseNO\" column from \"D6_DD\" data to Create list with variable \"l\"\n#Later use that list \"l\" to rename the \"D6_Data\" columns\nl = D6_DD[\"ResponseNO\"]",
      "metadata": {
        "trusted": true
      },
      "outputs": [],
      "execution_count": 109
    },
    {
      "cell_type": "code",
      "source": "",
      "metadata": {
        "trusted": true
      },
      "outputs": [],
      "execution_count": null
    },
    {
      "cell_type": "code",
      "source": "# Use the \"rename()\" function to create a Python dictionary called \"D1_D2_data_renamed_columns\" that consists of key-value pairs where the key (left of the colon :) are the column codes labels, and the value (right of the colon :) are the explanation labels for the column names.\nD6_data_renamed_columns = D6_data.rename(columns={\"Q16\": l[0], \"Q17\": l[1], \"Q18\": l[2], \"Q19\": l[3]})\nD6_data_renamed_columns",
      "metadata": {
        "trusted": true
      },
      "outputs": [
        {
          "execution_count": 110,
          "output_type": "execute_result",
          "data": {
            "text/plain": "      ID  \\\n0      1   \n1      2   \n2      3   \n3      4   \n4      5   \n..   ...   \n185  186   \n186  187   \n187  188   \n188  189   \n189  190   \n\n     How much would you be willing to pay for an app that allows you to buy and sell collectable items?  \\\n0                                                    2                                                    \n1                                                    6                                                    \n2                                                    4                                                    \n3                                                    2                                                    \n4                                                    2                                                    \n..                                                 ...                                                    \n185                                                  3                                                    \n186                                                  2                                                    \n187                                                  2                                                    \n188                                                  4                                                    \n189                                                  3                                                    \n\n     How much would you be willing to spend per order using an app that allows you to buy and sell collectable items?  \\\n0                                                    1                                                                  \n1                                                    2                                                                  \n2                                                    2                                                                  \n3                                                    2                                                                  \n4                                                    1                                                                  \n..                                                 ...                                                                  \n185                                                  2                                                                  \n186                                                  1                                                                  \n187                                                  1                                                                  \n188                                                  4                                                                  \n189                                                  2                                                                  \n\n     How much would you be willing to spend for an exchange fee per item using an app that allows you to buy and sell collectable items?  \\\n0                                                    2                                                                                     \n1                                                    2                                                                                     \n2                                                    3                                                                                     \n3                                                    1                                                                                     \n4                                                    2                                                                                     \n..                                                 ...                                                                                     \n185                                                  1                                                                                     \n186                                                  2                                                                                     \n187                                                  2                                                                                     \n188                                                  2                                                                                     \n189                                                  3                                                                                     \n\n     How much would you be willing to spend per month for a prime membership to an app that allows you to buy and sell collectable items?  \n0                                                    4                                                                                     \n1                                                    1                                                                                     \n2                                                    4                                                                                     \n3                                                    1                                                                                     \n4                                                    4                                                                                     \n..                                                 ...                                                                                     \n185                                                  2                                                                                     \n186                                                  2                                                                                     \n187                                                  1                                                                                     \n188                                                  4                                                                                     \n189                                                  4                                                                                     \n\n[190 rows x 5 columns]",
            "text/html": "<div>\n<style scoped>\n    .dataframe tbody tr th:only-of-type {\n        vertical-align: middle;\n    }\n\n    .dataframe tbody tr th {\n        vertical-align: top;\n    }\n\n    .dataframe thead th {\n        text-align: right;\n    }\n</style>\n<table border=\"1\" class=\"dataframe\">\n  <thead>\n    <tr style=\"text-align: right;\">\n      <th></th>\n      <th>ID</th>\n      <th>How much would you be willing to pay for an app that allows you to buy and sell collectable items?</th>\n      <th>How much would you be willing to spend per order using an app that allows you to buy and sell collectable items?</th>\n      <th>How much would you be willing to spend for an exchange fee per item using an app that allows you to buy and sell collectable items?</th>\n      <th>How much would you be willing to spend per month for a prime membership to an app that allows you to buy and sell collectable items?</th>\n    </tr>\n  </thead>\n  <tbody>\n    <tr>\n      <th>0</th>\n      <td>1</td>\n      <td>2</td>\n      <td>1</td>\n      <td>2</td>\n      <td>4</td>\n    </tr>\n    <tr>\n      <th>1</th>\n      <td>2</td>\n      <td>6</td>\n      <td>2</td>\n      <td>2</td>\n      <td>1</td>\n    </tr>\n    <tr>\n      <th>2</th>\n      <td>3</td>\n      <td>4</td>\n      <td>2</td>\n      <td>3</td>\n      <td>4</td>\n    </tr>\n    <tr>\n      <th>3</th>\n      <td>4</td>\n      <td>2</td>\n      <td>2</td>\n      <td>1</td>\n      <td>1</td>\n    </tr>\n    <tr>\n      <th>4</th>\n      <td>5</td>\n      <td>2</td>\n      <td>1</td>\n      <td>2</td>\n      <td>4</td>\n    </tr>\n    <tr>\n      <th>...</th>\n      <td>...</td>\n      <td>...</td>\n      <td>...</td>\n      <td>...</td>\n      <td>...</td>\n    </tr>\n    <tr>\n      <th>185</th>\n      <td>186</td>\n      <td>3</td>\n      <td>2</td>\n      <td>1</td>\n      <td>2</td>\n    </tr>\n    <tr>\n      <th>186</th>\n      <td>187</td>\n      <td>2</td>\n      <td>1</td>\n      <td>2</td>\n      <td>2</td>\n    </tr>\n    <tr>\n      <th>187</th>\n      <td>188</td>\n      <td>2</td>\n      <td>1</td>\n      <td>2</td>\n      <td>1</td>\n    </tr>\n    <tr>\n      <th>188</th>\n      <td>189</td>\n      <td>4</td>\n      <td>4</td>\n      <td>2</td>\n      <td>4</td>\n    </tr>\n    <tr>\n      <th>189</th>\n      <td>190</td>\n      <td>3</td>\n      <td>2</td>\n      <td>3</td>\n      <td>4</td>\n    </tr>\n  </tbody>\n</table>\n<p>190 rows × 5 columns</p>\n</div>"
          },
          "metadata": {}
        }
      ],
      "execution_count": 110
    },
    {
      "cell_type": "code",
      "source": "# Use the \"to_excel()\" function on the \"D6_data_renamed_columns\" variable holding the dataframe to a separate XLSX file called \"D6_data_renamed_columns.xlsx\" for later use.\n# After this code executes, you will see the new XLSX file show up in the content pane to the left.\nD6_data_renamed_columns.to_excel(\"D6_data_renamed_columns.xlsx\")",
      "metadata": {
        "trusted": true
      },
      "outputs": [],
      "execution_count": 111
    },
    {
      "cell_type": "code",
      "source": "#Create a copy of dataset \"D6_data_renamed_columns\" and assign to \"df1\" for the use of creating first graph\ndf1=D6_data_renamed_columns",
      "metadata": {
        "trusted": true
      },
      "outputs": [],
      "execution_count": 112
    },
    {
      "cell_type": "code",
      "source": "result1 = df1.groupby('How much would you be willing to spend per month for a prime membership to an app that allows you to buy and sell collectable items?').size().reset_index(name='count of votes for prime membership')",
      "metadata": {
        "trusted": true
      },
      "outputs": [],
      "execution_count": 113
    },
    {
      "cell_type": "code",
      "source": "#Add new row with value 0\nnew_row = pd.DataFrame({'How much would you be willing to spend per month for a prime membership to an app that allows you to buy and sell collectable items?':0,'count of votes for prime membership':1},\n                                                            index =[0])\nresult1 = pd.concat([new_row, result1]).reset_index(drop = True)\nresult1",
      "metadata": {
        "trusted": true
      },
      "outputs": [
        {
          "execution_count": 114,
          "output_type": "execute_result",
          "data": {
            "text/plain": "   How much would you be willing to spend per month for a prime membership to an app that allows you to buy and sell collectable items?  \\\n0                                                  0                                                                                      \n1                                                  1                                                                                      \n2                                                  2                                                                                      \n3                                                  3                                                                                      \n4                                                  4                                                                                      \n\n   count of votes for prime membership  \n0                                    1  \n1                                   57  \n2                                   42  \n3                                   45  \n4                                   46  ",
            "text/html": "<div>\n<style scoped>\n    .dataframe tbody tr th:only-of-type {\n        vertical-align: middle;\n    }\n\n    .dataframe tbody tr th {\n        vertical-align: top;\n    }\n\n    .dataframe thead th {\n        text-align: right;\n    }\n</style>\n<table border=\"1\" class=\"dataframe\">\n  <thead>\n    <tr style=\"text-align: right;\">\n      <th></th>\n      <th>How much would you be willing to spend per month for a prime membership to an app that allows you to buy and sell collectable items?</th>\n      <th>count of votes for prime membership</th>\n    </tr>\n  </thead>\n  <tbody>\n    <tr>\n      <th>0</th>\n      <td>0</td>\n      <td>1</td>\n    </tr>\n    <tr>\n      <th>1</th>\n      <td>1</td>\n      <td>57</td>\n    </tr>\n    <tr>\n      <th>2</th>\n      <td>2</td>\n      <td>42</td>\n    </tr>\n    <tr>\n      <th>3</th>\n      <td>3</td>\n      <td>45</td>\n    </tr>\n    <tr>\n      <th>4</th>\n      <td>4</td>\n      <td>46</td>\n    </tr>\n  </tbody>\n</table>\n</div>"
          },
          "metadata": {}
        }
      ],
      "execution_count": 114
    },
    {
      "cell_type": "code",
      "source": "result2 = df1.groupby('How much would you be willing to spend per order using an app that allows you to buy and sell collectable items?').size().reset_index(name='count of votes for willing to spent per order')",
      "metadata": {
        "trusted": true
      },
      "outputs": [],
      "execution_count": 115
    },
    {
      "cell_type": "code",
      "source": "result2",
      "metadata": {
        "trusted": true
      },
      "outputs": [
        {
          "execution_count": 116,
          "output_type": "execute_result",
          "data": {
            "text/plain": "   How much would you be willing to spend per order using an app that allows you to buy and sell collectable items?  \\\n0                                                  0                                                                  \n1                                                  1                                                                  \n2                                                  2                                                                  \n3                                                  3                                                                  \n4                                                  4                                                                  \n\n   count of votes for willing to spent per order  \n0                                             21  \n1                                             71  \n2                                             73  \n3                                             18  \n4                                              7  ",
            "text/html": "<div>\n<style scoped>\n    .dataframe tbody tr th:only-of-type {\n        vertical-align: middle;\n    }\n\n    .dataframe tbody tr th {\n        vertical-align: top;\n    }\n\n    .dataframe thead th {\n        text-align: right;\n    }\n</style>\n<table border=\"1\" class=\"dataframe\">\n  <thead>\n    <tr style=\"text-align: right;\">\n      <th></th>\n      <th>How much would you be willing to spend per order using an app that allows you to buy and sell collectable items?</th>\n      <th>count of votes for willing to spent per order</th>\n    </tr>\n  </thead>\n  <tbody>\n    <tr>\n      <th>0</th>\n      <td>0</td>\n      <td>21</td>\n    </tr>\n    <tr>\n      <th>1</th>\n      <td>1</td>\n      <td>71</td>\n    </tr>\n    <tr>\n      <th>2</th>\n      <td>2</td>\n      <td>73</td>\n    </tr>\n    <tr>\n      <th>3</th>\n      <td>3</td>\n      <td>18</td>\n    </tr>\n    <tr>\n      <th>4</th>\n      <td>4</td>\n      <td>7</td>\n    </tr>\n  </tbody>\n</table>\n</div>"
          },
          "metadata": {}
        }
      ],
      "execution_count": 116
    },
    {
      "cell_type": "code",
      "source": "# Section 3. Merge the data sheets of the D1 and D2 datasets by the common ID column (Note: This code will not work until you complete Section 2 above.)\n# Use the \"merge()\" from a library called \"pandas\" that was imported as \"pd\" to merge two datasets that were assigned to the variables \"D1_data\" and \"D2_data\", respectively, on the common column called \"ID\".\ndf1result = result1.merge(result2, left_on='How much would you be willing to spend per month for a prime membership to an app that allows you to buy and sell collectable items?', right_on='How much would you be willing to spend per order using an app that allows you to buy and sell collectable items?')\ndf1result",
      "metadata": {
        "trusted": true
      },
      "outputs": [
        {
          "execution_count": 117,
          "output_type": "execute_result",
          "data": {
            "text/plain": "   How much would you be willing to spend per month for a prime membership to an app that allows you to buy and sell collectable items?  \\\n0                                                  0                                                                                      \n1                                                  1                                                                                      \n2                                                  2                                                                                      \n3                                                  3                                                                                      \n4                                                  4                                                                                      \n\n   count of votes for prime membership  \\\n0                                    1   \n1                                   57   \n2                                   42   \n3                                   45   \n4                                   46   \n\n   How much would you be willing to spend per order using an app that allows you to buy and sell collectable items?  \\\n0                                                  0                                                                  \n1                                                  1                                                                  \n2                                                  2                                                                  \n3                                                  3                                                                  \n4                                                  4                                                                  \n\n   count of votes for willing to spent per order  \n0                                             21  \n1                                             71  \n2                                             73  \n3                                             18  \n4                                              7  ",
            "text/html": "<div>\n<style scoped>\n    .dataframe tbody tr th:only-of-type {\n        vertical-align: middle;\n    }\n\n    .dataframe tbody tr th {\n        vertical-align: top;\n    }\n\n    .dataframe thead th {\n        text-align: right;\n    }\n</style>\n<table border=\"1\" class=\"dataframe\">\n  <thead>\n    <tr style=\"text-align: right;\">\n      <th></th>\n      <th>How much would you be willing to spend per month for a prime membership to an app that allows you to buy and sell collectable items?</th>\n      <th>count of votes for prime membership</th>\n      <th>How much would you be willing to spend per order using an app that allows you to buy and sell collectable items?</th>\n      <th>count of votes for willing to spent per order</th>\n    </tr>\n  </thead>\n  <tbody>\n    <tr>\n      <th>0</th>\n      <td>0</td>\n      <td>1</td>\n      <td>0</td>\n      <td>21</td>\n    </tr>\n    <tr>\n      <th>1</th>\n      <td>1</td>\n      <td>57</td>\n      <td>1</td>\n      <td>71</td>\n    </tr>\n    <tr>\n      <th>2</th>\n      <td>2</td>\n      <td>42</td>\n      <td>2</td>\n      <td>73</td>\n    </tr>\n    <tr>\n      <th>3</th>\n      <td>3</td>\n      <td>45</td>\n      <td>3</td>\n      <td>18</td>\n    </tr>\n    <tr>\n      <th>4</th>\n      <td>4</td>\n      <td>46</td>\n      <td>4</td>\n      <td>7</td>\n    </tr>\n  </tbody>\n</table>\n</div>"
          },
          "metadata": {}
        }
      ],
      "execution_count": 117
    },
    {
      "cell_type": "code",
      "source": "\n# Prepare data for plotting\nvotes_prime = df1result['count of votes for prime membership']\nvotes_order = df1result['count of votes for willing to spent per order']\nlabels = df1result['How much would you be willing to spend per month for a prime membership to an app that allows you to buy and sell collectable items?']\n\n# Plotting\nfig, ax = plt.subplots(figsize=(10, 6))\n\n# Create the stacked bar chart for Prime Membership\nbottom = 0\ncolors = ['#FF5733', '#33FF57', '#3357FF', '#A333FF', '#FF8C33']\nfor i in range(len(votes_prime)):\n    ax.bar('Prime Membership', votes_prime[i], bottom=bottom, color=colors[i], label=f'Prime {labels[i]}' if i == 0 else \"\")\n    bottom += votes_prime[i]\n\n# Create the stacked bar chart for Order Spending\nbottom = 0\n\nfor i in range(len(votes_order)):\n    ax.bar('Order Spending', votes_order[i], bottom=bottom, color=colors[i], label=f'Order {labels[i]}' if i == 0 else \"\")\n    bottom += votes_order[i]\n\n# Customize plot\nplt.title('Votes for Prime Membership and Order Spending')\nplt.xlabel('Spending Type')\nplt.ylabel('Count of Votes')\n\n# Create custom legends\nlegend_prime = [plt.Rectangle((0, 0), 1, 1, color=colors[i]) for i in range(len(labels))]\nlegend_order = [plt.Rectangle((0, 0), 1, 1, color=colors[i]) for i in range(len(labels))]\nlegend_label_prime =['I would not use (0)','$4.99 or less (1)','$5 to 6.99 (2)','$7 to 8.99 (3)','$9 or more (4)']\nlegend_label_order =['I would not use (0)','$4.99 or less (1)','$5 to 9.99 (2)','$10 to 14.99 (3)','$15 or more (4)']\t\n\nfirst_legend = plt.legend(legend_prime, legend_label_prime, title='Prime Membership', loc='upper left', bbox_to_anchor=(1, 0.5))\nsecond_legend = plt.legend(legend_order, legend_label_order, title='Order Spending', loc='upper left', bbox_to_anchor=(1, 0.8))\n\n# Add legends to the plot\nax.add_artist(first_legend)\nax.add_artist(second_legend)\n\n# Adjust layout to fit legends\nplt.tight_layout()\n\n# Show plot\nplt.show()",
      "metadata": {
        "trusted": true
      },
      "outputs": [
        {
          "output_type": "display_data",
          "data": {
            "text/plain": "<Figure size 1000x600 with 1 Axes>",
            "image/png": "[encoded data removed]"
          },
          "metadata": {}
        }
      ],
      "execution_count": 118
    },
    {
      "cell_type": "code",
      "source": "",
      "metadata": {
        "trusted": true
      },
      "outputs": [],
      "execution_count": null
    },
    {
      "cell_type": "code",
      "source": "",
      "metadata": {
        "trusted": true
      },
      "outputs": [],
      "execution_count": null
    },
    {
      "cell_type": "code",
      "source": "",
      "metadata": {
        "trusted": true
      },
      "outputs": [],
      "execution_count": null
    },
    {
      "cell_type": "code",
      "source": "",
      "metadata": {
        "trusted": true
      },
      "outputs": [],
      "execution_count": null
    },
    {
      "cell_type": "code",
      "source": "# Below are previous assignment answers\n",
      "metadata": {
        "trusted": true
      },
      "outputs": [],
      "execution_count": 119
    },
    {
      "cell_type": "code",
      "source": "df1.columns # To output a list of the column names in the dataset that was assigned to a variable called \"df\".",
      "metadata": {
        "trusted": true
      },
      "outputs": [],
      "execution_count": null
    },
    {
      "cell_type": "code",
      "source": "# Programming a histogram in Python using a CSV file - histplot function\nplt.ticklabel_format(style = 'plain') # To prevent scientific notation showing up in the Data Visualization (DV).\nsns.histplot(df1['How many hours per day do you listen to the radio, including online?']).set(title=\"Distribution of Individuals' Engagement with Radio\", xlabel=\"Daily Radio listening Hours\", ylabel=\"Number of Individuals'\") # To create a histogram using the histplot() function, and adding a chart title, x-axis title, and y-axis title.\n# Set x-axis ticks manually to show 9 points using range(0,8)\nplt.xticks(ticks=range(0,8,1), labels=labels_xaxis_manual)\nplt.xticks(rotation=65) #Rotate x-axis labels by 65 degrees\nplt.savefig(\"Distribution of Individuals' Engagement with Radio-hist.png\") # To save the DV to a file. Change it to .jpg is you want a .jpg\nplt.show() # To show the plot on the screen.",
      "metadata": {
        "trusted": true
      },
      "outputs": [],
      "execution_count": null
    },
    {
      "cell_type": "code",
      "source": "# Programming a histogram in Python using a CSV file - histplot function\nplt.ticklabel_format(style = 'plain') # To prevent scientific notation showing up in the Data Visualization (DV).\nsns.histplot(df1[\"How many hours per week do you read newspapers, including online?\"]).set(title=\"Distribution of Weekly Newspaper Reading Time\", xlabel=\"Hours per Week\", ylabel=\"Number of Individuals'\") # To create a histogram using the histplot() function, and adding a chart title, x-axis title, and y-axis title.\n# Set x-axis ticks manually to show 9 points using range(0,8)\nplt.xticks(ticks=range(0,8,1), labels=labels_xaxis_manual)\nplt.xticks(rotation=65)\nplt.savefig(\"Distribution of Weekly Newspaper Reading Time-hist.png\") # To save the DV to a file. Change it to .jpg is you want a .jpg\nplt.show() # To show the plot on the screen.",
      "metadata": {
        "trusted": true
      },
      "outputs": [],
      "execution_count": null
    },
    {
      "cell_type": "code",
      "source": "#Create a copy of dataset \"df1\" and assign to \"df3\" for the use of creating further analysis\ndf3= df1.copy()",
      "metadata": {
        "trusted": true
      },
      "outputs": [],
      "execution_count": null
    },
    {
      "cell_type": "code",
      "source": "#Use the Replace attribute to replace all hour counts with 1. To get a comparison of People never read newspapers, and people who do.\ndf3['How many hours per week do you read newspapers, including online?'] = df3['How many hours per week do you read newspapers, including online?'].replace([1, 2, 3, 4, 5, 6, 7], 1)",
      "metadata": {
        "trusted": true
      },
      "outputs": [],
      "execution_count": null
    },
    {
      "cell_type": "code",
      "source": "plt.ticklabel_format(style = 'plain') # To prevent scientific notation showing up in the Data Visualization (DV).\nsns.histplot(df3[\"How many hours per week do you read newspapers, including online?\"]).set(title=\"Distribution of Reading Newspaper\", xlabel=\"Hours per Day\", ylabel=\"Number of Individuals'\") # To create a histogram using the histplot() function, and adding a chart title, x-axis title, and y-axis title.\n# Set x-axis ticks manually to show 2 points using range(0,2)\nplt.xticks(ticks=range(0,2), labels=['0','>0'])\nplt.savefig(\"Further Total Newspaper Readers over hours-hist.png\") # To save the DV to a file. Change it to .jpg is you want a .jpg\nplt.show() # To show the plot on the screen.",
      "metadata": {
        "trusted": true
      },
      "outputs": [],
      "execution_count": null
    },
    {
      "cell_type": "code",
      "source": "\"\"\"The histogram graph shows a progressive reduction with increasing hours spent reading newspapers. \nAccording to the discoveries, persons who read newspapers for less than an hour contribute nearly as much as those who never read.\"\"\"",
      "metadata": {
        "trusted": true
      },
      "outputs": [],
      "execution_count": null
    },
    {
      "cell_type": "code",
      "source": "# Programming a histogram in Python using a CSV file - histplot function\nplt.ticklabel_format(style = 'plain') # To prevent scientific notation showing up in the Data Visualization (DV).\nsns.histplot(df1[\"How many hours per day do you watch TV, including online?\"]).set(title=\"Distribution of Individuals' Engagement with Television\", xlabel=\"Daily Television Viewing Hours\", ylabel=\"Number of Individuals'\") # To create a histogram using the histplot() function, and adding a chart title, x-axis title, and y-axis title.\n# Set x-axis ticks manually to show 9 points using range(0,8)\nplt.xticks(ticks=range(0,8,1), labels=labels_xaxis_manual)\nplt.xticks(rotation=65)\nplt.savefig(\"Distribution of Individuals' Engagement with Television-hist.png\") # To save the DV to a file. Change it to .jpg is you want a .jpg\nplt.show() # To show the plot on the screen.",
      "metadata": {
        "trusted": true,
        "scrolled": true
      },
      "outputs": [],
      "execution_count": null
    },
    {
      "cell_type": "code",
      "source": "",
      "metadata": {
        "trusted": true
      },
      "outputs": [],
      "execution_count": null
    },
    {
      "cell_type": "code",
      "source": "",
      "metadata": {
        "trusted": true
      },
      "outputs": [],
      "execution_count": null
    },
    {
      "cell_type": "code",
      "source": "#Create a copy of dataset \"df1\" and assign to \"df2\" for the use of creating further analysis\ndf2 = df1.copy()",
      "metadata": {
        "trusted": true
      },
      "outputs": [],
      "execution_count": null
    },
    {
      "cell_type": "code",
      "source": "# Use the 'drop' to remove the column called 'ID'.\ndf2 = df2.drop(columns=['ID'])",
      "metadata": {
        "trusted": true
      },
      "outputs": [],
      "execution_count": null
    },
    {
      "cell_type": "code",
      "source": "#Use 'columns' to get the existing columns in the data frame 'df2'.\ndf2.columns",
      "metadata": {
        "trusted": true
      },
      "outputs": [],
      "execution_count": null
    },
    {
      "cell_type": "code",
      "source": "# Mulitple two columns by 7 to convert the existing per-day data to per-week.\ndf2['How many hours per day do you watch TV, including online?']=df2['How many hours per day do you watch TV, including online?']*7\ndf2['How many hours per day do you listen to the radio, including online?']=df2['How many hours per day do you listen to the radio, including online?'] * 7",
      "metadata": {
        "trusted": true
      },
      "outputs": [],
      "execution_count": null
    },
    {
      "cell_type": "code",
      "source": "# Plotting boxplots with 4 colors and assign them to a variable called 'colors'\ncolors = ['#FF6347', '#4682B4', '#32CD32', '#FFD700']\nbox = df2.boxplot(patch_artist=True, return_type='dict')\n\n# Use the for loop to set the facecolor by using the 'set_facecolor' method.\nfor patch, color in zip(box['boxes'], colors):\n    patch.set_facecolor(color)\n\nplt.title('Total hours spent on media per week', fontsize=16)\nplt.ylabel('Hours', fontsize=14)\n# Set x-axis ticks manually to show 4 points using a list and label them with another list: \"['TV','Radio','Magazines','Newspaper']\" \nplt.xticks(ticks=[1, 2, 3, 4], labels=['TV','Radio','Magazines','Newspaper'], rotation=45, ha='right')  # Rotate x-axis labels for better readability\nplt.grid(axis='y', linestyle='--', alpha=0.7)\nplt.tight_layout()\nplt.savefig(\"Hours_Spent_on_Media-Boxplot-Python.png\") # To save the DV to a file. Change it to .jpg is you want a .jpg\nplt.show()# To show the plot on the screen.",
      "metadata": {
        "trusted": true,
        "scrolled": true
      },
      "outputs": [],
      "execution_count": null
    },
    {
      "cell_type": "code",
      "source": "\"\"\"The boxplot shows that there is a broad range of variances in TV and newspaper engagement.\nIt is unambiguous that the maximum contribution of newspapers is smaller than the average contribution of TV in terms of weekly hours,\nand a comparable contribution is found for TV and radio.\"\"\"",
      "metadata": {
        "trusted": true
      },
      "outputs": [],
      "execution_count": null
    },
    {
      "cell_type": "code",
      "source": "",
      "metadata": {
        "trusted": true
      },
      "outputs": [],
      "execution_count": null
    },
    {
      "cell_type": "code",
      "source": "",
      "metadata": {
        "trusted": true
      },
      "outputs": [],
      "execution_count": null
    },
    {
      "cell_type": "code",
      "source": "",
      "metadata": {
        "trusted": true
      },
      "outputs": [],
      "execution_count": null
    },
    {
      "cell_type": "code",
      "source": "",
      "metadata": {
        "trusted": true
      },
      "outputs": [],
      "execution_count": null
    },
    {
      "cell_type": "code",
      "source": "",
      "metadata": {
        "trusted": true
      },
      "outputs": [],
      "execution_count": null
    },
    {
      "cell_type": "code",
      "source": "",
      "metadata": {
        "trusted": true
      },
      "outputs": [],
      "execution_count": null
    },
    {
      "cell_type": "code",
      "source": "",
      "metadata": {
        "trusted": true
      },
      "outputs": [],
      "execution_count": null
    },
    {
      "cell_type": "code",
      "source": "",
      "metadata": {
        "trusted": true
      },
      "outputs": [],
      "execution_count": null
    },
    {
      "cell_type": "code",
      "source": "",
      "metadata": {
        "trusted": true
      },
      "outputs": [],
      "execution_count": null
    },
    {
      "cell_type": "code",
      "source": "",
      "metadata": {
        "trusted": true
      },
      "outputs": [],
      "execution_count": null
    },
    {
      "cell_type": "code",
      "source": "",
      "metadata": {
        "trusted": true
      },
      "outputs": [],
      "execution_count": null
    },
    {
      "cell_type": "code",
      "source": "",
      "metadata": {
        "trusted": true
      },
      "outputs": [],
      "execution_count": null
    },
    {
      "cell_type": "code",
      "source": "",
      "metadata": {
        "trusted": true
      },
      "outputs": [],
      "execution_count": null
    },
    {
      "cell_type": "code",
      "source": "",
      "metadata": {
        "trusted": true
      },
      "outputs": [],
      "execution_count": null
    },
    {
      "cell_type": "code",
      "source": "",
      "metadata": {
        "trusted": true
      },
      "outputs": [],
      "execution_count": null
    },
    {
      "cell_type": "code",
      "source": "",
      "metadata": {
        "trusted": true
      },
      "outputs": [],
      "execution_count": null
    }
  ]
}