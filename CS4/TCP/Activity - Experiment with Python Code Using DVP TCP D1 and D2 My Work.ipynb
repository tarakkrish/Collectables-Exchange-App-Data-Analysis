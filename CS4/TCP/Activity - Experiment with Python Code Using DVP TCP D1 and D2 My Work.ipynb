{
  "metadata": {
    "kernelspec": {
      "name": "python",
      "display_name": "Python (Pyodide)",
      "language": "python"
    },
    "language_info": {
      "codemirror_mode": {
        "name": "python",
        "version": 3
      },
      "file_extension": ".py",
      "mimetype": "text/x-python",
      "name": "python",
      "nbconvert_exporter": "python",
      "pygments_lexer": "ipython3",
      "version": "3.8"
    }
  },
  "nbformat_minor": 4,
  "nbformat": 4,
  "cells": [
    {
      "cell_type": "code",
      "source": "# Activity - Experiment with Python Code Using DVP TCP D1 and D2\n# Created by Dr. Esther Mead - SAU - LS24",
      "metadata": {
        "trusted": true
      },
      "outputs": [],
      "execution_count": null
    },
    {
      "cell_type": "code",
      "source": "# Warning! Dr. Mead used a random use case to create this ipynb codebook.\n# The output cells were left remaining in this codebook for illuatration purposes only to show examples of what error-free code could look like based on a given use case.\n# Each team's use case data output will look different, and each team will need to edit some of the code where noted in this .ipynb codebook.\n# Each team must use their team's D1 and D2 Data Dictionary (DD) sheets to understand their data (as demonstrated by Dr. Mead in the Class Session 4 video called, \"Activity - Experiment with Python and R Code Using DVP TCP D1 & D2\").\n# To remove the output cells from the codebook, click \"Edit\" and select \"Clear Outputs of All Cells\" from among the menu along the top of the JuputerLite web-based IDE.",
      "metadata": {
        "trusted": true
      },
      "outputs": [],
      "execution_count": null
    },
    {
      "cell_type": "code",
      "source": "# This activity requires that each team download their D1 and D2 DVP TCP Use Case dataset files from their Team folder on Blackboard and drag and drop them into the a white space of the files pane along the left of the JupyerLite web-based IDE.",
      "metadata": {
        "trusted": true
      },
      "outputs": [],
      "execution_count": null
    },
    {
      "cell_type": "code",
      "source": "# Section 1. Working with your DVP TCP D1 dataset.\n# Import (and install when necessary) the required libraries and packages for this session\nimport pandas as pd # Use the \"import\" keyword to load a library called \"pandas\" for data processing and assign it to a variable called \"pd\".\nimport numpy as np # Use the \"import\" keyword to load a library called \"numpy\" for linear algebra and assign it to a variable called \"np\".\nimport matplotlib.pyplot as plt # Use the \"import\" keyword to load a module called \"pyplot\" from a library called \"matplotlib\" for creating Data Visualizations (DVs) and assign it to a variable called \"plt\".\nimport piplite # When using the JupyterLite web-based environment, the \"import\" keyword is used to load a layer called \"piplite\" that is needed for installing specific session-based libraries inside of a wrapper.\nawait piplite.install(\"openpyxl\") # Use the \"await\" keyword for installing (when/if later called on) a library for working with Excel files called \"openpyxl\" from within a piplite wrapper for use in a session within the JupyterLite web-based environment.",
      "metadata": {
        "trusted": true
      },
      "outputs": [],
      "execution_count": 1
    },
    {
      "cell_type": "code",
      "source": "# Output the exact path of your current working directory by running the print working directory \"pwd\" command in the next code cell/block.",
      "metadata": {
        "trusted": true
      },
      "outputs": [],
      "execution_count": 3
    },
    {
      "cell_type": "code",
      "source": "pwd",
      "metadata": {
        "trusted": true
      },
      "outputs": [
        {
          "execution_count": 2,
          "output_type": "execute_result",
          "data": {
            "text/plain": "'/drive'"
          },
          "metadata": {}
        }
      ],
      "execution_count": 2
    },
    {
      "cell_type": "code",
      "source": "# Use the \"import\" keyword to load a module called \"os\" and use its \"listdir()\" function to list the contents of your current working directory\nimport os\nos.listdir(\"/drive\")",
      "metadata": {
        "trusted": true
      },
      "outputs": [
        {
          "execution_count": 3,
          "output_type": "execute_result",
          "data": {
            "text/plain": "['Activity - Experiment with Python Code Using DVP TCP D1 and D2.ipynb',\n 'Age_Date_Processed.xlsx',\n 'CS2',\n 'Class_Session_3_Activity-DVP.ipynb',\n 'Class_Session_3_Activity.csv',\n 'Class_Session_3_Activity.xlsx',\n 'Class_Session_4_Activity-DVP.ipynb',\n 'Class_Session_4_Activity.csv',\n 'Class_Session_4_Activity.xlsx',\n 'D1_D2_data.xlsx',\n 'D1_D2_data_renamed_columns.xlsx',\n 'O-Collectables Exchange App-D1.xlsx',\n 'O-Collectables Exchange App-D2.xlsx',\n 'Python_Setup-Mead-DVP-LS24.ipynb',\n 'Streamflow-CSV-Python.png',\n 'Streamflow-XLSX-Python.png',\n 'Untitled.ipynb',\n 'output.jpg',\n 'pokomanpandas.ipynb',\n 'setup.csv',\n 'setup.xlsx',\n 'data',\n 'README.md',\n 'notebooks']"
          },
          "metadata": {}
        }
      ],
      "execution_count": 3
    },
    {
      "cell_type": "code",
      "source": "# Use the \"ExcelFile()\" function from a library called \"pandas\" that was imported as \"pd\" to load an xlxs dataset and assign it to a variable called \"D1\".\nD1 = pd.ExcelFile(\"/drive/O-Collectables Exchange App-D1.xlsx\") # For this code to work, you will need to either edit the file path to include the entire name of your D1 dataset, or truncate the name of your dataset down to \"D1.xlsx\".",
      "metadata": {
        "trusted": true
      },
      "outputs": [],
      "execution_count": 4
    },
    {
      "cell_type": "code",
      "source": "# Use the \"sheet_names\" attribute to get a list of the sheet names of a dataset that was assigned to a variable called \"D1\".\nD1.sheet_names",
      "metadata": {
        "trusted": true
      },
      "outputs": [
        {
          "execution_count": 5,
          "output_type": "execute_result",
          "data": {
            "text/plain": "['Data', 'Data Dictionary']"
          },
          "metadata": {}
        }
      ],
      "execution_count": 5
    },
    {
      "cell_type": "code",
      "source": "# Use the \"read_excel()\" from a library called \"pandas\" that was imported as \"pd\" to save the D1 \"Data\" sheet as a variable called \"D1_data\" for later use\nD1_data = pd.read_excel(D1, \"Data\")",
      "metadata": {
        "trusted": true
      },
      "outputs": [],
      "execution_count": 6
    },
    {
      "cell_type": "code",
      "source": "# Use the \"head()\" function to show the first five rows of the content of D1_data for data inspection.\nD1_data.head()",
      "metadata": {
        "trusted": true
      },
      "outputs": [
        {
          "execution_count": 7,
          "output_type": "execute_result",
          "data": {
            "text/plain": "   ID  Q1  Q2  Q3  Q4  Q5  Q6\n0   1   2  10  22   4   6   3\n1   2   2  10  21   3   2   1\n2   3   2  11  21   3   7   1\n3   4   2  10  20   3   6   1\n4   5   1  10  22   4   2   3",
            "text/html": "<div>\n<style scoped>\n    .dataframe tbody tr th:only-of-type {\n        vertical-align: middle;\n    }\n\n    .dataframe tbody tr th {\n        vertical-align: top;\n    }\n\n    .dataframe thead th {\n        text-align: right;\n    }\n</style>\n<table border=\"1\" class=\"dataframe\">\n  <thead>\n    <tr style=\"text-align: right;\">\n      <th></th>\n      <th>ID</th>\n      <th>Q1</th>\n      <th>Q2</th>\n      <th>Q3</th>\n      <th>Q4</th>\n      <th>Q5</th>\n      <th>Q6</th>\n    </tr>\n  </thead>\n  <tbody>\n    <tr>\n      <th>0</th>\n      <td>1</td>\n      <td>2</td>\n      <td>10</td>\n      <td>22</td>\n      <td>4</td>\n      <td>6</td>\n      <td>3</td>\n    </tr>\n    <tr>\n      <th>1</th>\n      <td>2</td>\n      <td>2</td>\n      <td>10</td>\n      <td>21</td>\n      <td>3</td>\n      <td>2</td>\n      <td>1</td>\n    </tr>\n    <tr>\n      <th>2</th>\n      <td>3</td>\n      <td>2</td>\n      <td>11</td>\n      <td>21</td>\n      <td>3</td>\n      <td>7</td>\n      <td>1</td>\n    </tr>\n    <tr>\n      <th>3</th>\n      <td>4</td>\n      <td>2</td>\n      <td>10</td>\n      <td>20</td>\n      <td>3</td>\n      <td>6</td>\n      <td>1</td>\n    </tr>\n    <tr>\n      <th>4</th>\n      <td>5</td>\n      <td>1</td>\n      <td>10</td>\n      <td>22</td>\n      <td>4</td>\n      <td>2</td>\n      <td>3</td>\n    </tr>\n  </tbody>\n</table>\n</div>"
          },
          "metadata": {}
        }
      ],
      "execution_count": 7
    },
    {
      "cell_type": "code",
      "source": "# Use the \"read_excel()\" from a library called \"pandas\" that was imported as \"pd\" to save the D1 \"Data Dictionary\" sheet as a variable called \"D1_DD\" for later use\nD1_DD = pd.read_excel(D1, \"Data Dictionary\")\n# Warning! Dr. Mead used a random use case to create this ipynb codebook. Each team's use case data output will look different. Each team must use their DD output to understand their data.",
      "metadata": {
        "trusted": true
      },
      "outputs": [],
      "execution_count": 8
    },
    {
      "cell_type": "code",
      "source": "# Call the \"D1_DD\" variable to print the entire contents to the screen for data inspection.\nD1_DD\n# Warning! Dr. Mead used a random use case to create this ipynb codebook. Each team's use case data output will look different. Each team must use their DD output to understand their data.",
      "metadata": {
        "trusted": true
      },
      "outputs": [
        {
          "execution_count": 9,
          "output_type": "execute_result",
          "data": {
            "text/plain": "   ID                    Identification Number           Unnamed: 2  \\\n0  Q1                                   Gender             Male (1)   \n1  Q2                                Ethnicity  American Indian (1)   \n2  Q3                                      Age                  NaN   \n3  Q4                           Classification         Freshman (1)   \n4  Q5  What college does your major belong to?   Arts & Letters (1)   \n5  Q6                         Income (monthly)     $499 or less (1)   \n\n             Unnamed: 3            Unnamed: 4            Unnamed: 5  \\\n0            Female (2)                   NaN                   NaN   \n1  African American (2)  Mexican American (3)    Other Hispanic (4)   \n2                   NaN                   NaN                   NaN   \n3         Sophomore (2)            Junior (3)            Senior (4)   \n4          Business (2)         Education (3)       Engineering (4)   \n5      $500 to $999 (2)  $1,000 to $1,499 (3)  $1,500 to $1,999 (4)   \n\n                    Unnamed: 6                    Unnamed: 7  \\\n0                          NaN                           NaN   \n1                    Asian (5)           Southeast Asian (6)   \n2                          NaN                           NaN   \n3                 Graduate (5)                           NaN   \n4  Health & Human Services (5)  Professional & Fine Arts (6)   \n5           $2,000 or more (5)                           NaN   \n\n             Unnamed: 8                 Unnamed: 9               Unnamed: 10  \\\n0                   NaN                        NaN                       NaN   \n1  Pacific Islander (7)               Filipino (8)  Multiple Ethnicities (9)   \n2                   NaN                        NaN                       NaN   \n3                   NaN                        NaN                       NaN   \n4          Sciences (7)  Undergraduate Studies (8)      Graduate Studies (9)   \n5                   NaN                        NaN                       NaN   \n\n  Unnamed: 11            Unnamed: 12         Unnamed: 13  \n0         NaN                    NaN                 NaN  \n1  White (10)  Other/Not Stated (11)  International (12)  \n2         NaN                    NaN                 NaN  \n3         NaN                    NaN                 NaN  \n4         NaN                    NaN                 NaN  \n5         NaN                    NaN                 NaN  ",
            "text/html": "<div>\n<style scoped>\n    .dataframe tbody tr th:only-of-type {\n        vertical-align: middle;\n    }\n\n    .dataframe tbody tr th {\n        vertical-align: top;\n    }\n\n    .dataframe thead th {\n        text-align: right;\n    }\n</style>\n<table border=\"1\" class=\"dataframe\">\n  <thead>\n    <tr style=\"text-align: right;\">\n      <th></th>\n      <th>ID</th>\n      <th>Identification Number</th>\n      <th>Unnamed: 2</th>\n      <th>Unnamed: 3</th>\n      <th>Unnamed: 4</th>\n      <th>Unnamed: 5</th>\n      <th>Unnamed: 6</th>\n      <th>Unnamed: 7</th>\n      <th>Unnamed: 8</th>\n      <th>Unnamed: 9</th>\n      <th>Unnamed: 10</th>\n      <th>Unnamed: 11</th>\n      <th>Unnamed: 12</th>\n      <th>Unnamed: 13</th>\n    </tr>\n  </thead>\n  <tbody>\n    <tr>\n      <th>0</th>\n      <td>Q1</td>\n      <td>Gender</td>\n      <td>Male (1)</td>\n      <td>Female (2)</td>\n      <td>NaN</td>\n      <td>NaN</td>\n      <td>NaN</td>\n      <td>NaN</td>\n      <td>NaN</td>\n      <td>NaN</td>\n      <td>NaN</td>\n      <td>NaN</td>\n      <td>NaN</td>\n      <td>NaN</td>\n    </tr>\n    <tr>\n      <th>1</th>\n      <td>Q2</td>\n      <td>Ethnicity</td>\n      <td>American Indian (1)</td>\n      <td>African American (2)</td>\n      <td>Mexican American (3)</td>\n      <td>Other Hispanic (4)</td>\n      <td>Asian (5)</td>\n      <td>Southeast Asian (6)</td>\n      <td>Pacific Islander (7)</td>\n      <td>Filipino (8)</td>\n      <td>Multiple Ethnicities (9)</td>\n      <td>White (10)</td>\n      <td>Other/Not Stated (11)</td>\n      <td>International (12)</td>\n    </tr>\n    <tr>\n      <th>2</th>\n      <td>Q3</td>\n      <td>Age</td>\n      <td>NaN</td>\n      <td>NaN</td>\n      <td>NaN</td>\n      <td>NaN</td>\n      <td>NaN</td>\n      <td>NaN</td>\n      <td>NaN</td>\n      <td>NaN</td>\n      <td>NaN</td>\n      <td>NaN</td>\n      <td>NaN</td>\n      <td>NaN</td>\n    </tr>\n    <tr>\n      <th>3</th>\n      <td>Q4</td>\n      <td>Classification</td>\n      <td>Freshman (1)</td>\n      <td>Sophomore (2)</td>\n      <td>Junior (3)</td>\n      <td>Senior (4)</td>\n      <td>Graduate (5)</td>\n      <td>NaN</td>\n      <td>NaN</td>\n      <td>NaN</td>\n      <td>NaN</td>\n      <td>NaN</td>\n      <td>NaN</td>\n      <td>NaN</td>\n    </tr>\n    <tr>\n      <th>4</th>\n      <td>Q5</td>\n      <td>What college does your major belong to?</td>\n      <td>Arts &amp; Letters (1)</td>\n      <td>Business (2)</td>\n      <td>Education (3)</td>\n      <td>Engineering (4)</td>\n      <td>Health &amp; Human Services (5)</td>\n      <td>Professional &amp; Fine Arts (6)</td>\n      <td>Sciences (7)</td>\n      <td>Undergraduate Studies (8)</td>\n      <td>Graduate Studies (9)</td>\n      <td>NaN</td>\n      <td>NaN</td>\n      <td>NaN</td>\n    </tr>\n    <tr>\n      <th>5</th>\n      <td>Q6</td>\n      <td>Income (monthly)</td>\n      <td>$499 or less (1)</td>\n      <td>$500 to $999 (2)</td>\n      <td>$1,000 to $1,499 (3)</td>\n      <td>$1,500 to $1,999 (4)</td>\n      <td>$2,000 or more (5)</td>\n      <td>NaN</td>\n      <td>NaN</td>\n      <td>NaN</td>\n      <td>NaN</td>\n      <td>NaN</td>\n      <td>NaN</td>\n      <td>NaN</td>\n    </tr>\n  </tbody>\n</table>\n</div>"
          },
          "metadata": {}
        }
      ],
      "execution_count": 9
    },
    {
      "cell_type": "code",
      "source": "# Use the \"T\" attribute to Transpose the D1_DD dataframe to give another way to read it in an output cell. You decide which is easier for your and your team to understand.\nD1_DD.T\n# Warning! Dr. Mead used a random use case to create this ipynb codebook. Each team's use case data output will look different. Each team must use their DD output to understand their data.",
      "metadata": {
        "trusted": true
      },
      "outputs": [
        {
          "execution_count": 10,
          "output_type": "execute_result",
          "data": {
            "text/plain": "                                0                         1    2  \\\nID                             Q1                        Q2   Q3   \nIdentification Number      Gender                 Ethnicity  Age   \nUnnamed: 2               Male (1)       American Indian (1)  NaN   \nUnnamed: 3             Female (2)      African American (2)  NaN   \nUnnamed: 4                    NaN      Mexican American (3)  NaN   \nUnnamed: 5                    NaN        Other Hispanic (4)  NaN   \nUnnamed: 6                    NaN                 Asian (5)  NaN   \nUnnamed: 7                    NaN       Southeast Asian (6)  NaN   \nUnnamed: 8                    NaN      Pacific Islander (7)  NaN   \nUnnamed: 9                    NaN              Filipino (8)  NaN   \nUnnamed: 10                   NaN  Multiple Ethnicities (9)  NaN   \nUnnamed: 11                   NaN                White (10)  NaN   \nUnnamed: 12                   NaN     Other/Not Stated (11)  NaN   \nUnnamed: 13                   NaN        International (12)  NaN   \n\n                                    3  \\\nID                                 Q4   \nIdentification Number  Classification   \nUnnamed: 2               Freshman (1)   \nUnnamed: 3              Sophomore (2)   \nUnnamed: 4                 Junior (3)   \nUnnamed: 5                 Senior (4)   \nUnnamed: 6               Graduate (5)   \nUnnamed: 7                        NaN   \nUnnamed: 8                        NaN   \nUnnamed: 9                        NaN   \nUnnamed: 10                       NaN   \nUnnamed: 11                       NaN   \nUnnamed: 12                       NaN   \nUnnamed: 13                       NaN   \n\n                                                             4  \\\nID                                                          Q5   \nIdentification Number  What college does your major belong to?   \nUnnamed: 2                                  Arts & Letters (1)   \nUnnamed: 3                                        Business (2)   \nUnnamed: 4                                       Education (3)   \nUnnamed: 5                                     Engineering (4)   \nUnnamed: 6                         Health & Human Services (5)   \nUnnamed: 7                        Professional & Fine Arts (6)   \nUnnamed: 8                                        Sciences (7)   \nUnnamed: 9                           Undergraduate Studies (8)   \nUnnamed: 10                               Graduate Studies (9)   \nUnnamed: 11                                                NaN   \nUnnamed: 12                                                NaN   \nUnnamed: 13                                                NaN   \n\n                                          5  \nID                                       Q6  \nIdentification Number      Income (monthly)  \nUnnamed: 2                 $499 or less (1)  \nUnnamed: 3                 $500 to $999 (2)  \nUnnamed: 4             $1,000 to $1,499 (3)  \nUnnamed: 5             $1,500 to $1,999 (4)  \nUnnamed: 6               $2,000 or more (5)  \nUnnamed: 7                              NaN  \nUnnamed: 8                              NaN  \nUnnamed: 9                              NaN  \nUnnamed: 10                             NaN  \nUnnamed: 11                             NaN  \nUnnamed: 12                             NaN  \nUnnamed: 13                             NaN  ",
            "text/html": "<div>\n<style scoped>\n    .dataframe tbody tr th:only-of-type {\n        vertical-align: middle;\n    }\n\n    .dataframe tbody tr th {\n        vertical-align: top;\n    }\n\n    .dataframe thead th {\n        text-align: right;\n    }\n</style>\n<table border=\"1\" class=\"dataframe\">\n  <thead>\n    <tr style=\"text-align: right;\">\n      <th></th>\n      <th>0</th>\n      <th>1</th>\n      <th>2</th>\n      <th>3</th>\n      <th>4</th>\n      <th>5</th>\n    </tr>\n  </thead>\n  <tbody>\n    <tr>\n      <th>ID</th>\n      <td>Q1</td>\n      <td>Q2</td>\n      <td>Q3</td>\n      <td>Q4</td>\n      <td>Q5</td>\n      <td>Q6</td>\n    </tr>\n    <tr>\n      <th>Identification Number</th>\n      <td>Gender</td>\n      <td>Ethnicity</td>\n      <td>Age</td>\n      <td>Classification</td>\n      <td>What college does your major belong to?</td>\n      <td>Income (monthly)</td>\n    </tr>\n    <tr>\n      <th>Unnamed: 2</th>\n      <td>Male (1)</td>\n      <td>American Indian (1)</td>\n      <td>NaN</td>\n      <td>Freshman (1)</td>\n      <td>Arts &amp; Letters (1)</td>\n      <td>$499 or less (1)</td>\n    </tr>\n    <tr>\n      <th>Unnamed: 3</th>\n      <td>Female (2)</td>\n      <td>African American (2)</td>\n      <td>NaN</td>\n      <td>Sophomore (2)</td>\n      <td>Business (2)</td>\n      <td>$500 to $999 (2)</td>\n    </tr>\n    <tr>\n      <th>Unnamed: 4</th>\n      <td>NaN</td>\n      <td>Mexican American (3)</td>\n      <td>NaN</td>\n      <td>Junior (3)</td>\n      <td>Education (3)</td>\n      <td>$1,000 to $1,499 (3)</td>\n    </tr>\n    <tr>\n      <th>Unnamed: 5</th>\n      <td>NaN</td>\n      <td>Other Hispanic (4)</td>\n      <td>NaN</td>\n      <td>Senior (4)</td>\n      <td>Engineering (4)</td>\n      <td>$1,500 to $1,999 (4)</td>\n    </tr>\n    <tr>\n      <th>Unnamed: 6</th>\n      <td>NaN</td>\n      <td>Asian (5)</td>\n      <td>NaN</td>\n      <td>Graduate (5)</td>\n      <td>Health &amp; Human Services (5)</td>\n      <td>$2,000 or more (5)</td>\n    </tr>\n    <tr>\n      <th>Unnamed: 7</th>\n      <td>NaN</td>\n      <td>Southeast Asian (6)</td>\n      <td>NaN</td>\n      <td>NaN</td>\n      <td>Professional &amp; Fine Arts (6)</td>\n      <td>NaN</td>\n    </tr>\n    <tr>\n      <th>Unnamed: 8</th>\n      <td>NaN</td>\n      <td>Pacific Islander (7)</td>\n      <td>NaN</td>\n      <td>NaN</td>\n      <td>Sciences (7)</td>\n      <td>NaN</td>\n    </tr>\n    <tr>\n      <th>Unnamed: 9</th>\n      <td>NaN</td>\n      <td>Filipino (8)</td>\n      <td>NaN</td>\n      <td>NaN</td>\n      <td>Undergraduate Studies (8)</td>\n      <td>NaN</td>\n    </tr>\n    <tr>\n      <th>Unnamed: 10</th>\n      <td>NaN</td>\n      <td>Multiple Ethnicities (9)</td>\n      <td>NaN</td>\n      <td>NaN</td>\n      <td>Graduate Studies (9)</td>\n      <td>NaN</td>\n    </tr>\n    <tr>\n      <th>Unnamed: 11</th>\n      <td>NaN</td>\n      <td>White (10)</td>\n      <td>NaN</td>\n      <td>NaN</td>\n      <td>NaN</td>\n      <td>NaN</td>\n    </tr>\n    <tr>\n      <th>Unnamed: 12</th>\n      <td>NaN</td>\n      <td>Other/Not Stated (11)</td>\n      <td>NaN</td>\n      <td>NaN</td>\n      <td>NaN</td>\n      <td>NaN</td>\n    </tr>\n    <tr>\n      <th>Unnamed: 13</th>\n      <td>NaN</td>\n      <td>International (12)</td>\n      <td>NaN</td>\n      <td>NaN</td>\n      <td>NaN</td>\n      <td>NaN</td>\n    </tr>\n  </tbody>\n</table>\n</div>"
          },
          "metadata": {}
        }
      ],
      "execution_count": 10
    },
    {
      "cell_type": "code",
      "source": "#Section 2. Now, try to use the Python code that Dr. Mead wrote above for working with the DVP TCP D1 dataset to repeat the process for working with the D2 dataset in the space below. To guide you, Dr. Mead has inserted code comment lines for helping you to think of what code you need to place where.\n# Use the \"ExcelFile()\" function from a library called \"pandas\" that was imported as \"pd\" to load an xlxs dataset and assign it to a variable called \"D2\".\nD2= pd.ExcelFile(\"/drive/O-Collectables Exchange App-D2.xlsx\")",
      "metadata": {
        "trusted": true
      },
      "outputs": [],
      "execution_count": 11
    },
    {
      "cell_type": "code",
      "source": "# Use the \"sheet_names\" attribute to get a list of the sheet names of a dataset that was assigned to a variable called \"D2\".\nD2.sheet_names",
      "metadata": {
        "trusted": true
      },
      "outputs": [
        {
          "execution_count": 12,
          "output_type": "execute_result",
          "data": {
            "text/plain": "['Data', 'Data Dictionary']"
          },
          "metadata": {}
        }
      ],
      "execution_count": 12
    },
    {
      "cell_type": "code",
      "source": "# Use the \"read_excel()\" from a library called \"pandas\" that was imported as \"pd\" to save the D2 \"Data\" sheet as a variable called \"D2_data\" for later use\nD2_data= pd.read_excel(D2,\"Data\")",
      "metadata": {
        "trusted": true
      },
      "outputs": [],
      "execution_count": 13
    },
    {
      "cell_type": "code",
      "source": "# Use the \"head()\" function to show the first five rows of the content of D2_data for data inspection.\nD2_data.head()",
      "metadata": {
        "trusted": true
      },
      "outputs": [
        {
          "execution_count": 14,
          "output_type": "execute_result",
          "data": {
            "text/plain": "   ID       Date\n0   1 2022-08-09\n1   2 2022-01-16\n2   3 2022-04-10\n3   4 2022-09-12\n4   5 2022-05-23",
            "text/html": "<div>\n<style scoped>\n    .dataframe tbody tr th:only-of-type {\n        vertical-align: middle;\n    }\n\n    .dataframe tbody tr th {\n        vertical-align: top;\n    }\n\n    .dataframe thead th {\n        text-align: right;\n    }\n</style>\n<table border=\"1\" class=\"dataframe\">\n  <thead>\n    <tr style=\"text-align: right;\">\n      <th></th>\n      <th>ID</th>\n      <th>Date</th>\n    </tr>\n  </thead>\n  <tbody>\n    <tr>\n      <th>0</th>\n      <td>1</td>\n      <td>2022-08-09</td>\n    </tr>\n    <tr>\n      <th>1</th>\n      <td>2</td>\n      <td>2022-01-16</td>\n    </tr>\n    <tr>\n      <th>2</th>\n      <td>3</td>\n      <td>2022-04-10</td>\n    </tr>\n    <tr>\n      <th>3</th>\n      <td>4</td>\n      <td>2022-09-12</td>\n    </tr>\n    <tr>\n      <th>4</th>\n      <td>5</td>\n      <td>2022-05-23</td>\n    </tr>\n  </tbody>\n</table>\n</div>"
          },
          "metadata": {}
        }
      ],
      "execution_count": 14
    },
    {
      "cell_type": "code",
      "source": "# Use the \"read_excel()\" from a library called \"pandas\" that was imported as \"pd\" to save the D2 \"Data Dictionary\" sheet as a variable called \"D2_DD\" for later use\nD2_DD = pd.read_excel(D2,\"Data Dictionary\")",
      "metadata": {
        "trusted": true
      },
      "outputs": [],
      "execution_count": 15
    },
    {
      "cell_type": "code",
      "source": "# Use the \"head()\" function to show the first five rows of the content of the D2 variable for data inspection.\nD2_DD.head()",
      "metadata": {
        "trusted": true
      },
      "outputs": [
        {
          "execution_count": 16,
          "output_type": "execute_result",
          "data": {
            "text/plain": "     ID  ResponseNO\n0  Date  mm/dd/yyyy",
            "text/html": "<div>\n<style scoped>\n    .dataframe tbody tr th:only-of-type {\n        vertical-align: middle;\n    }\n\n    .dataframe tbody tr th {\n        vertical-align: top;\n    }\n\n    .dataframe thead th {\n        text-align: right;\n    }\n</style>\n<table border=\"1\" class=\"dataframe\">\n  <thead>\n    <tr style=\"text-align: right;\">\n      <th></th>\n      <th>ID</th>\n      <th>ResponseNO</th>\n    </tr>\n  </thead>\n  <tbody>\n    <tr>\n      <th>0</th>\n      <td>Date</td>\n      <td>mm/dd/yyyy</td>\n    </tr>\n  </tbody>\n</table>\n</div>"
          },
          "metadata": {}
        }
      ],
      "execution_count": 16
    },
    {
      "cell_type": "code",
      "source": "# Use the \"T\" attribute to Transpose the D2_DD dataframe to give another way to read it in an output cell. You decide which is easier for your and your team to understand.\nD2_DD.T",
      "metadata": {
        "trusted": true
      },
      "outputs": [
        {
          "execution_count": 17,
          "output_type": "execute_result",
          "data": {
            "text/plain": "                     0\nID                Date\nResponseNO  mm/dd/yyyy",
            "text/html": "<div>\n<style scoped>\n    .dataframe tbody tr th:only-of-type {\n        vertical-align: middle;\n    }\n\n    .dataframe tbody tr th {\n        vertical-align: top;\n    }\n\n    .dataframe thead th {\n        text-align: right;\n    }\n</style>\n<table border=\"1\" class=\"dataframe\">\n  <thead>\n    <tr style=\"text-align: right;\">\n      <th></th>\n      <th>0</th>\n    </tr>\n  </thead>\n  <tbody>\n    <tr>\n      <th>ID</th>\n      <td>Date</td>\n    </tr>\n    <tr>\n      <th>ResponseNO</th>\n      <td>mm/dd/yyyy</td>\n    </tr>\n  </tbody>\n</table>\n</div>"
          },
          "metadata": {}
        }
      ],
      "execution_count": 17
    },
    {
      "cell_type": "code",
      "source": "# Section 3. Merge the data sheets of the D1 and D2 datasets by the common ID column (Note: This code will not work until you complete Section 2 above.)\n# Use the \"merge()\" from a library called \"pandas\" that was imported as \"pd\" to merge two datasets that were assigned to the variables \"D1_data\" and \"D2_data\", respectively, on the common column called \"ID\".\nD1_D2_data = pd.merge(D1_data,D2_data,on=\"ID\")",
      "metadata": {
        "trusted": true
      },
      "outputs": [],
      "execution_count": 18
    },
    {
      "cell_type": "code",
      "source": "# Use the \"head()\" function to show the first five rows of the content of merged D1_D2_data for data inspection.\nD1_D2_data.head()\n# Warning! Dr. Mead used a random use case to create this ipynb codebook. Each team's use case data output will look different. Each team must use their DD output to understand their data.",
      "metadata": {
        "trusted": true
      },
      "outputs": [
        {
          "execution_count": 19,
          "output_type": "execute_result",
          "data": {
            "text/plain": "   ID  Q1  Q2  Q3  Q4  Q5  Q6       Date\n0   1   2  10  22   4   6   3 2022-08-09\n1   2   2  10  21   3   2   1 2022-01-16\n2   3   2  11  21   3   7   1 2022-04-10\n3   4   2  10  20   3   6   1 2022-09-12\n4   5   1  10  22   4   2   3 2022-05-23",
            "text/html": "<div>\n<style scoped>\n    .dataframe tbody tr th:only-of-type {\n        vertical-align: middle;\n    }\n\n    .dataframe tbody tr th {\n        vertical-align: top;\n    }\n\n    .dataframe thead th {\n        text-align: right;\n    }\n</style>\n<table border=\"1\" class=\"dataframe\">\n  <thead>\n    <tr style=\"text-align: right;\">\n      <th></th>\n      <th>ID</th>\n      <th>Q1</th>\n      <th>Q2</th>\n      <th>Q3</th>\n      <th>Q4</th>\n      <th>Q5</th>\n      <th>Q6</th>\n      <th>Date</th>\n    </tr>\n  </thead>\n  <tbody>\n    <tr>\n      <th>0</th>\n      <td>1</td>\n      <td>2</td>\n      <td>10</td>\n      <td>22</td>\n      <td>4</td>\n      <td>6</td>\n      <td>3</td>\n      <td>2022-08-09</td>\n    </tr>\n    <tr>\n      <th>1</th>\n      <td>2</td>\n      <td>2</td>\n      <td>10</td>\n      <td>21</td>\n      <td>3</td>\n      <td>2</td>\n      <td>1</td>\n      <td>2022-01-16</td>\n    </tr>\n    <tr>\n      <th>2</th>\n      <td>3</td>\n      <td>2</td>\n      <td>11</td>\n      <td>21</td>\n      <td>3</td>\n      <td>7</td>\n      <td>1</td>\n      <td>2022-04-10</td>\n    </tr>\n    <tr>\n      <th>3</th>\n      <td>4</td>\n      <td>2</td>\n      <td>10</td>\n      <td>20</td>\n      <td>3</td>\n      <td>6</td>\n      <td>1</td>\n      <td>2022-09-12</td>\n    </tr>\n    <tr>\n      <th>4</th>\n      <td>5</td>\n      <td>1</td>\n      <td>10</td>\n      <td>22</td>\n      <td>4</td>\n      <td>2</td>\n      <td>3</td>\n      <td>2022-05-23</td>\n    </tr>\n  </tbody>\n</table>\n</div>"
          },
          "metadata": {}
        }
      ],
      "execution_count": 19
    },
    {
      "cell_type": "code",
      "source": "# Use the \"to_excel()\" function on the \"D1_D2_data\" variable holding the dataframe to a separate XLSX file called \"D1_D2_data.xlsx\" for later use.\n# After this code executes, you will see the new XLSX file show up in the content pane to the left.\nD1_D2_data.to_excel(\"/drive/D1_D2_data.xlsx\")",
      "metadata": {
        "trusted": true
      },
      "outputs": [],
      "execution_count": 20
    },
    {
      "cell_type": "code",
      "source": "# Use the \"columns\" attribute to get a list of the column names in D1_D2_Data.\nD1_D2_data.columns",
      "metadata": {
        "trusted": true
      },
      "outputs": [
        {
          "execution_count": 21,
          "output_type": "execute_result",
          "data": {
            "text/plain": "Index(['ID', 'Q1', 'Q2', 'Q3', 'Q4', 'Q5', 'Q6', 'Date'], dtype='object')"
          },
          "metadata": {}
        }
      ],
      "execution_count": 21
    },
    {
      "cell_type": "code",
      "source": "# Call the \"D1_DD\" variable again to print the entire contents to the screen for repeated data inspection.\nD1_DD\n# Warning! Dr. Mead used a random use case to create this ipynb codebook. Each team's use case data output will look different. Each team must use their DD output to understand their data.",
      "metadata": {
        "trusted": true
      },
      "outputs": [
        {
          "execution_count": 22,
          "output_type": "execute_result",
          "data": {
            "text/plain": "   ID                    Identification Number           Unnamed: 2  \\\n0  Q1                                   Gender             Male (1)   \n1  Q2                                Ethnicity  American Indian (1)   \n2  Q3                                      Age                  NaN   \n3  Q4                           Classification         Freshman (1)   \n4  Q5  What college does your major belong to?   Arts & Letters (1)   \n5  Q6                         Income (monthly)     $499 or less (1)   \n\n             Unnamed: 3            Unnamed: 4            Unnamed: 5  \\\n0            Female (2)                   NaN                   NaN   \n1  African American (2)  Mexican American (3)    Other Hispanic (4)   \n2                   NaN                   NaN                   NaN   \n3         Sophomore (2)            Junior (3)            Senior (4)   \n4          Business (2)         Education (3)       Engineering (4)   \n5      $500 to $999 (2)  $1,000 to $1,499 (3)  $1,500 to $1,999 (4)   \n\n                    Unnamed: 6                    Unnamed: 7  \\\n0                          NaN                           NaN   \n1                    Asian (5)           Southeast Asian (6)   \n2                          NaN                           NaN   \n3                 Graduate (5)                           NaN   \n4  Health & Human Services (5)  Professional & Fine Arts (6)   \n5           $2,000 or more (5)                           NaN   \n\n             Unnamed: 8                 Unnamed: 9               Unnamed: 10  \\\n0                   NaN                        NaN                       NaN   \n1  Pacific Islander (7)               Filipino (8)  Multiple Ethnicities (9)   \n2                   NaN                        NaN                       NaN   \n3                   NaN                        NaN                       NaN   \n4          Sciences (7)  Undergraduate Studies (8)      Graduate Studies (9)   \n5                   NaN                        NaN                       NaN   \n\n  Unnamed: 11            Unnamed: 12         Unnamed: 13  \n0         NaN                    NaN                 NaN  \n1  White (10)  Other/Not Stated (11)  International (12)  \n2         NaN                    NaN                 NaN  \n3         NaN                    NaN                 NaN  \n4         NaN                    NaN                 NaN  \n5         NaN                    NaN                 NaN  ",
            "text/html": "<div>\n<style scoped>\n    .dataframe tbody tr th:only-of-type {\n        vertical-align: middle;\n    }\n\n    .dataframe tbody tr th {\n        vertical-align: top;\n    }\n\n    .dataframe thead th {\n        text-align: right;\n    }\n</style>\n<table border=\"1\" class=\"dataframe\">\n  <thead>\n    <tr style=\"text-align: right;\">\n      <th></th>\n      <th>ID</th>\n      <th>Identification Number</th>\n      <th>Unnamed: 2</th>\n      <th>Unnamed: 3</th>\n      <th>Unnamed: 4</th>\n      <th>Unnamed: 5</th>\n      <th>Unnamed: 6</th>\n      <th>Unnamed: 7</th>\n      <th>Unnamed: 8</th>\n      <th>Unnamed: 9</th>\n      <th>Unnamed: 10</th>\n      <th>Unnamed: 11</th>\n      <th>Unnamed: 12</th>\n      <th>Unnamed: 13</th>\n    </tr>\n  </thead>\n  <tbody>\n    <tr>\n      <th>0</th>\n      <td>Q1</td>\n      <td>Gender</td>\n      <td>Male (1)</td>\n      <td>Female (2)</td>\n      <td>NaN</td>\n      <td>NaN</td>\n      <td>NaN</td>\n      <td>NaN</td>\n      <td>NaN</td>\n      <td>NaN</td>\n      <td>NaN</td>\n      <td>NaN</td>\n      <td>NaN</td>\n      <td>NaN</td>\n    </tr>\n    <tr>\n      <th>1</th>\n      <td>Q2</td>\n      <td>Ethnicity</td>\n      <td>American Indian (1)</td>\n      <td>African American (2)</td>\n      <td>Mexican American (3)</td>\n      <td>Other Hispanic (4)</td>\n      <td>Asian (5)</td>\n      <td>Southeast Asian (6)</td>\n      <td>Pacific Islander (7)</td>\n      <td>Filipino (8)</td>\n      <td>Multiple Ethnicities (9)</td>\n      <td>White (10)</td>\n      <td>Other/Not Stated (11)</td>\n      <td>International (12)</td>\n    </tr>\n    <tr>\n      <th>2</th>\n      <td>Q3</td>\n      <td>Age</td>\n      <td>NaN</td>\n      <td>NaN</td>\n      <td>NaN</td>\n      <td>NaN</td>\n      <td>NaN</td>\n      <td>NaN</td>\n      <td>NaN</td>\n      <td>NaN</td>\n      <td>NaN</td>\n      <td>NaN</td>\n      <td>NaN</td>\n      <td>NaN</td>\n    </tr>\n    <tr>\n      <th>3</th>\n      <td>Q4</td>\n      <td>Classification</td>\n      <td>Freshman (1)</td>\n      <td>Sophomore (2)</td>\n      <td>Junior (3)</td>\n      <td>Senior (4)</td>\n      <td>Graduate (5)</td>\n      <td>NaN</td>\n      <td>NaN</td>\n      <td>NaN</td>\n      <td>NaN</td>\n      <td>NaN</td>\n      <td>NaN</td>\n      <td>NaN</td>\n    </tr>\n    <tr>\n      <th>4</th>\n      <td>Q5</td>\n      <td>What college does your major belong to?</td>\n      <td>Arts &amp; Letters (1)</td>\n      <td>Business (2)</td>\n      <td>Education (3)</td>\n      <td>Engineering (4)</td>\n      <td>Health &amp; Human Services (5)</td>\n      <td>Professional &amp; Fine Arts (6)</td>\n      <td>Sciences (7)</td>\n      <td>Undergraduate Studies (8)</td>\n      <td>Graduate Studies (9)</td>\n      <td>NaN</td>\n      <td>NaN</td>\n      <td>NaN</td>\n    </tr>\n    <tr>\n      <th>5</th>\n      <td>Q6</td>\n      <td>Income (monthly)</td>\n      <td>$499 or less (1)</td>\n      <td>$500 to $999 (2)</td>\n      <td>$1,000 to $1,499 (3)</td>\n      <td>$1,500 to $1,999 (4)</td>\n      <td>$2,000 or more (5)</td>\n      <td>NaN</td>\n      <td>NaN</td>\n      <td>NaN</td>\n      <td>NaN</td>\n      <td>NaN</td>\n      <td>NaN</td>\n      <td>NaN</td>\n    </tr>\n  </tbody>\n</table>\n</div>"
          },
          "metadata": {}
        }
      ],
      "execution_count": 22
    },
    {
      "cell_type": "code",
      "source": "# Extreme Warning! You must edit the executable code in the next cell to reflect the specific content that your team's use case contains.",
      "metadata": {
        "trusted": true
      },
      "outputs": [],
      "execution_count": 23
    },
    {
      "cell_type": "code",
      "source": "# Section 4. Conduct some data engineering to rename the columns based on what the Data Dictionaries for D1 and D2 revealed.\n# Use the \"rename()\" function to create a Python dictionary called \"D1_D2_data_renamed_columns\" that consists of key-value pairs where the key (left of the colon :) are the column codes labels, and the value (right of the colon :) are the explanation labels for the column names.\nD1_D2_data_renamed_columns = D1_D2_data.rename(columns={\"Q1\": \"Gender\", \"Q2\": \"Ethnicity\", \"Q3\": \"Age\", \"Q4\": \"Classification\", \"Q5\": \"What college does your major belong to?\", \"Q6\": \"Income (monthly)\"})\n# Warning! Dr. Mead used a random use case to create this ipynb codebook. Each team's use case data output will look different. Each team must use their DD output to understand their data.",
      "metadata": {
        "trusted": true
      },
      "outputs": [],
      "execution_count": 24
    },
    {
      "cell_type": "code",
      "source": "# Call the \"D1_D2_data_renamed_columns\" variable to print the entire contents to the screen for viewing the results of your data engineering.\nD1_D2_data_renamed_columns\n# Warning! Dr. Mead used a random use case to create this ipynb codebook. Each team's use case data output will look different. Each team must use their DD output to understand their data.",
      "metadata": {
        "trusted": true
      },
      "outputs": [
        {
          "execution_count": 25,
          "output_type": "execute_result",
          "data": {
            "text/plain": "      ID  Gender  Ethnicity  Age  Classification  \\\n0      1       2         10   22               4   \n1      2       2         10   21               3   \n2      3       2         11   21               3   \n3      4       2         10   20               3   \n4      5       1         10   22               4   \n..   ...     ...        ...  ...             ...   \n185  186       2          9   20               2   \n186  187       2         10   21               4   \n187  188       2         10   21               4   \n188  189       2          2   21               4   \n189  190       2         10   22               4   \n\n     What college does your major belong to?  Income (monthly)       Date  \n0                                          6                 3 2022-08-09  \n1                                          2                 1 2022-01-16  \n2                                          7                 1 2022-04-10  \n3                                          6                 1 2022-09-12  \n4                                          2                 3 2022-05-23  \n..                                       ...               ...        ...  \n185                                        2                 1 2022-07-25  \n186                                        6                 3 2022-09-19  \n187                                        2                 3 2022-07-10  \n188                                        6                 1 2022-05-29  \n189                                        7                 1 2022-05-14  \n\n[190 rows x 8 columns]",
            "text/html": "<div>\n<style scoped>\n    .dataframe tbody tr th:only-of-type {\n        vertical-align: middle;\n    }\n\n    .dataframe tbody tr th {\n        vertical-align: top;\n    }\n\n    .dataframe thead th {\n        text-align: right;\n    }\n</style>\n<table border=\"1\" class=\"dataframe\">\n  <thead>\n    <tr style=\"text-align: right;\">\n      <th></th>\n      <th>ID</th>\n      <th>Gender</th>\n      <th>Ethnicity</th>\n      <th>Age</th>\n      <th>Classification</th>\n      <th>What college does your major belong to?</th>\n      <th>Income (monthly)</th>\n      <th>Date</th>\n    </tr>\n  </thead>\n  <tbody>\n    <tr>\n      <th>0</th>\n      <td>1</td>\n      <td>2</td>\n      <td>10</td>\n      <td>22</td>\n      <td>4</td>\n      <td>6</td>\n      <td>3</td>\n      <td>2022-08-09</td>\n    </tr>\n    <tr>\n      <th>1</th>\n      <td>2</td>\n      <td>2</td>\n      <td>10</td>\n      <td>21</td>\n      <td>3</td>\n      <td>2</td>\n      <td>1</td>\n      <td>2022-01-16</td>\n    </tr>\n    <tr>\n      <th>2</th>\n      <td>3</td>\n      <td>2</td>\n      <td>11</td>\n      <td>21</td>\n      <td>3</td>\n      <td>7</td>\n      <td>1</td>\n      <td>2022-04-10</td>\n    </tr>\n    <tr>\n      <th>3</th>\n      <td>4</td>\n      <td>2</td>\n      <td>10</td>\n      <td>20</td>\n      <td>3</td>\n      <td>6</td>\n      <td>1</td>\n      <td>2022-09-12</td>\n    </tr>\n    <tr>\n      <th>4</th>\n      <td>5</td>\n      <td>1</td>\n      <td>10</td>\n      <td>22</td>\n      <td>4</td>\n      <td>2</td>\n      <td>3</td>\n      <td>2022-05-23</td>\n    </tr>\n    <tr>\n      <th>...</th>\n      <td>...</td>\n      <td>...</td>\n      <td>...</td>\n      <td>...</td>\n      <td>...</td>\n      <td>...</td>\n      <td>...</td>\n      <td>...</td>\n    </tr>\n    <tr>\n      <th>185</th>\n      <td>186</td>\n      <td>2</td>\n      <td>9</td>\n      <td>20</td>\n      <td>2</td>\n      <td>2</td>\n      <td>1</td>\n      <td>2022-07-25</td>\n    </tr>\n    <tr>\n      <th>186</th>\n      <td>187</td>\n      <td>2</td>\n      <td>10</td>\n      <td>21</td>\n      <td>4</td>\n      <td>6</td>\n      <td>3</td>\n      <td>2022-09-19</td>\n    </tr>\n    <tr>\n      <th>187</th>\n      <td>188</td>\n      <td>2</td>\n      <td>10</td>\n      <td>21</td>\n      <td>4</td>\n      <td>2</td>\n      <td>3</td>\n      <td>2022-07-10</td>\n    </tr>\n    <tr>\n      <th>188</th>\n      <td>189</td>\n      <td>2</td>\n      <td>2</td>\n      <td>21</td>\n      <td>4</td>\n      <td>6</td>\n      <td>1</td>\n      <td>2022-05-29</td>\n    </tr>\n    <tr>\n      <th>189</th>\n      <td>190</td>\n      <td>2</td>\n      <td>10</td>\n      <td>22</td>\n      <td>4</td>\n      <td>7</td>\n      <td>1</td>\n      <td>2022-05-14</td>\n    </tr>\n  </tbody>\n</table>\n<p>190 rows × 8 columns</p>\n</div>"
          },
          "metadata": {}
        }
      ],
      "execution_count": 25
    },
    {
      "cell_type": "code",
      "source": "# Use the \"to_excel()\" function on the \"D1_D2_data_renamed_columns\" variable holding the dataframe to a separate XLSX file called \"D1_D2_data_renamed_columns.xlsx\" for later use.\n# After this code executes, you will see the new XLSX file show up in the content pane to the left.\nD1_D2_data_renamed_columns.to_excel(\"/drive/D1_D2_data_renamed_columns.xlsx\")",
      "metadata": {
        "trusted": true
      },
      "outputs": [],
      "execution_count": 26
    },
    {
      "cell_type": "code",
      "source": "\n# Use the \"read_excel\" function from the \"pandas\" libary that was imported as \"pd\" to load your \"D1_D2_data_renamed_columns\" XLSX file that you created in the above cell.\nD1_D2_data_renamed_columns = pd.read_excel(\"/drive/D1_D2_data_renamed_columns.xlsx\")\n# WARNING! Change the code in the above code line to your specific path and file name (if different from above).",
      "metadata": {
        "trusted": true
      },
      "outputs": [],
      "execution_count": 27
    },
    {
      "cell_type": "code",
      "source": "# Use the \"head()\" function to show the first five rows of the content of the \"D1_D2_data_renamed_columns\" variable holding the dataframe for data inspection\nD1_D2_data_renamed_columns.head()\n# Warning! Dr. Mead used a random use case to create this ipynb codebook. Each team's use case data output will look different. Each team must use their DD output to understand their data.",
      "metadata": {
        "trusted": true
      },
      "outputs": [
        {
          "execution_count": 28,
          "output_type": "execute_result",
          "data": {
            "text/plain": "   Unnamed: 0  ID  Gender  Ethnicity  Age  Classification  \\\n0           0   1       2         10   22               4   \n1           1   2       2         10   21               3   \n2           2   3       2         11   21               3   \n3           3   4       2         10   20               3   \n4           4   5       1         10   22               4   \n\n   What college does your major belong to?  Income (monthly)       Date  \n0                                        6                 3 2022-08-09  \n1                                        2                 1 2022-01-16  \n2                                        7                 1 2022-04-10  \n3                                        6                 1 2022-09-12  \n4                                        2                 3 2022-05-23  ",
            "text/html": "<div>\n<style scoped>\n    .dataframe tbody tr th:only-of-type {\n        vertical-align: middle;\n    }\n\n    .dataframe tbody tr th {\n        vertical-align: top;\n    }\n\n    .dataframe thead th {\n        text-align: right;\n    }\n</style>\n<table border=\"1\" class=\"dataframe\">\n  <thead>\n    <tr style=\"text-align: right;\">\n      <th></th>\n      <th>Unnamed: 0</th>\n      <th>ID</th>\n      <th>Gender</th>\n      <th>Ethnicity</th>\n      <th>Age</th>\n      <th>Classification</th>\n      <th>What college does your major belong to?</th>\n      <th>Income (monthly)</th>\n      <th>Date</th>\n    </tr>\n  </thead>\n  <tbody>\n    <tr>\n      <th>0</th>\n      <td>0</td>\n      <td>1</td>\n      <td>2</td>\n      <td>10</td>\n      <td>22</td>\n      <td>4</td>\n      <td>6</td>\n      <td>3</td>\n      <td>2022-08-09</td>\n    </tr>\n    <tr>\n      <th>1</th>\n      <td>1</td>\n      <td>2</td>\n      <td>2</td>\n      <td>10</td>\n      <td>21</td>\n      <td>3</td>\n      <td>2</td>\n      <td>1</td>\n      <td>2022-01-16</td>\n    </tr>\n    <tr>\n      <th>2</th>\n      <td>2</td>\n      <td>3</td>\n      <td>2</td>\n      <td>11</td>\n      <td>21</td>\n      <td>3</td>\n      <td>7</td>\n      <td>1</td>\n      <td>2022-04-10</td>\n    </tr>\n    <tr>\n      <th>3</th>\n      <td>3</td>\n      <td>4</td>\n      <td>2</td>\n      <td>10</td>\n      <td>20</td>\n      <td>3</td>\n      <td>6</td>\n      <td>1</td>\n      <td>2022-09-12</td>\n    </tr>\n    <tr>\n      <th>4</th>\n      <td>4</td>\n      <td>5</td>\n      <td>1</td>\n      <td>10</td>\n      <td>22</td>\n      <td>4</td>\n      <td>2</td>\n      <td>3</td>\n      <td>2022-05-23</td>\n    </tr>\n  </tbody>\n</table>\n</div>"
          },
          "metadata": {}
        }
      ],
      "execution_count": 28
    },
    {
      "cell_type": "code",
      "source": "# When you data engineered the new data asset called, \"D1_D2_data_renamed_columns.xlsx\" in an above step, Python added an index column to it and it is showing up after you execute the above cell as an \"Unnamed\" column in the first column index position.\n# Use the \"del\" comman to delete that unnecessary column by using the \"columns\" attribute and identifying the unnamed column by column index position \"0\".\ndel D1_D2_data_renamed_columns[D1_D2_data_renamed_columns.columns[0]]",
      "metadata": {
        "trusted": true
      },
      "outputs": [],
      "execution_count": 29
    },
    {
      "cell_type": "code",
      "source": "# Use the \"head()\" function to show the first five rows of the content of the \"D1_D2_data_renamed_columns\" dataframe again to look at it to see if the \"Unnamed\" column got removed.\nD1_D2_data_renamed_columns.head()\n# Warning! Dr. Mead used a random use case to create this ipynb codebook. Each team's use case data output will look different. Each team must use their DD output to understand their data.",
      "metadata": {
        "trusted": true
      },
      "outputs": [
        {
          "execution_count": 30,
          "output_type": "execute_result",
          "data": {
            "text/plain": "   ID  Gender  Ethnicity  Age  Classification  \\\n0   1       2         10   22               4   \n1   2       2         10   21               3   \n2   3       2         11   21               3   \n3   4       2         10   20               3   \n4   5       1         10   22               4   \n\n   What college does your major belong to?  Income (monthly)       Date  \n0                                        6                 3 2022-08-09  \n1                                        2                 1 2022-01-16  \n2                                        7                 1 2022-04-10  \n3                                        6                 1 2022-09-12  \n4                                        2                 3 2022-05-23  ",
            "text/html": "<div>\n<style scoped>\n    .dataframe tbody tr th:only-of-type {\n        vertical-align: middle;\n    }\n\n    .dataframe tbody tr th {\n        vertical-align: top;\n    }\n\n    .dataframe thead th {\n        text-align: right;\n    }\n</style>\n<table border=\"1\" class=\"dataframe\">\n  <thead>\n    <tr style=\"text-align: right;\">\n      <th></th>\n      <th>ID</th>\n      <th>Gender</th>\n      <th>Ethnicity</th>\n      <th>Age</th>\n      <th>Classification</th>\n      <th>What college does your major belong to?</th>\n      <th>Income (monthly)</th>\n      <th>Date</th>\n    </tr>\n  </thead>\n  <tbody>\n    <tr>\n      <th>0</th>\n      <td>1</td>\n      <td>2</td>\n      <td>10</td>\n      <td>22</td>\n      <td>4</td>\n      <td>6</td>\n      <td>3</td>\n      <td>2022-08-09</td>\n    </tr>\n    <tr>\n      <th>1</th>\n      <td>2</td>\n      <td>2</td>\n      <td>10</td>\n      <td>21</td>\n      <td>3</td>\n      <td>2</td>\n      <td>1</td>\n      <td>2022-01-16</td>\n    </tr>\n    <tr>\n      <th>2</th>\n      <td>3</td>\n      <td>2</td>\n      <td>11</td>\n      <td>21</td>\n      <td>3</td>\n      <td>7</td>\n      <td>1</td>\n      <td>2022-04-10</td>\n    </tr>\n    <tr>\n      <th>3</th>\n      <td>4</td>\n      <td>2</td>\n      <td>10</td>\n      <td>20</td>\n      <td>3</td>\n      <td>6</td>\n      <td>1</td>\n      <td>2022-09-12</td>\n    </tr>\n    <tr>\n      <th>4</th>\n      <td>5</td>\n      <td>1</td>\n      <td>10</td>\n      <td>22</td>\n      <td>4</td>\n      <td>2</td>\n      <td>3</td>\n      <td>2022-05-23</td>\n    </tr>\n  </tbody>\n</table>\n</div>"
          },
          "metadata": {}
        }
      ],
      "execution_count": 30
    },
    {
      "cell_type": "code",
      "source": "# Do some more data engineering by using the \"DataFrame()\" function from the \"pandas\" library that was imported as \"pd\" to create a new dataframe called \"Age_Date\" by extracting just the \"Age\" and \"Date\" columns from the \"D1_D2_data_renamed_columns\" dataframe.\nAge_Date = pd.DataFrame(D1_D2_data_renamed_columns, columns=['Date', 'Age'])",
      "metadata": {
        "trusted": true
      },
      "outputs": [],
      "execution_count": 31
    },
    {
      "cell_type": "code",
      "source": "# Use the \"head()\" function to show the first five rows of the content of the \"Age_Date\" dataframe for data inspection of your data engineering work.\nAge_Date.head()",
      "metadata": {
        "trusted": true
      },
      "outputs": [
        {
          "execution_count": 32,
          "output_type": "execute_result",
          "data": {
            "text/plain": "        Date  Age\n0 2022-08-09   22\n1 2022-01-16   21\n2 2022-04-10   21\n3 2022-09-12   20\n4 2022-05-23   22",
            "text/html": "<div>\n<style scoped>\n    .dataframe tbody tr th:only-of-type {\n        vertical-align: middle;\n    }\n\n    .dataframe tbody tr th {\n        vertical-align: top;\n    }\n\n    .dataframe thead th {\n        text-align: right;\n    }\n</style>\n<table border=\"1\" class=\"dataframe\">\n  <thead>\n    <tr style=\"text-align: right;\">\n      <th></th>\n      <th>Date</th>\n      <th>Age</th>\n    </tr>\n  </thead>\n  <tbody>\n    <tr>\n      <th>0</th>\n      <td>2022-08-09</td>\n      <td>22</td>\n    </tr>\n    <tr>\n      <th>1</th>\n      <td>2022-01-16</td>\n      <td>21</td>\n    </tr>\n    <tr>\n      <th>2</th>\n      <td>2022-04-10</td>\n      <td>21</td>\n    </tr>\n    <tr>\n      <th>3</th>\n      <td>2022-09-12</td>\n      <td>20</td>\n    </tr>\n    <tr>\n      <th>4</th>\n      <td>2022-05-23</td>\n      <td>22</td>\n    </tr>\n  </tbody>\n</table>\n</div>"
          },
          "metadata": {}
        }
      ],
      "execution_count": 32
    },
    {
      "cell_type": "code",
      "source": "# Use the \"columns\" attribute to output a list of the column names of the \"Age_Date\" dataframe.\nAge_Date.columns",
      "metadata": {
        "trusted": true
      },
      "outputs": [
        {
          "execution_count": 33,
          "output_type": "execute_result",
          "data": {
            "text/plain": "Index(['Date', 'Age'], dtype='object')"
          },
          "metadata": {}
        }
      ],
      "execution_count": 33
    },
    {
      "cell_type": "code",
      "source": "# Use the \"describe()\" method to get the descriptive statistics for the \"Age\" column of the \"Age_Date\" dataframe.\nAge_Date['Age'].describe()",
      "metadata": {
        "trusted": true
      },
      "outputs": [
        {
          "execution_count": 34,
          "output_type": "execute_result",
          "data": {
            "text/plain": "count    190.000000\nmean      21.773684\nstd        2.347202\nmin       18.000000\n25%       21.000000\n50%       21.000000\n75%       22.000000\nmax       34.000000\nName: Age, dtype: float64"
          },
          "metadata": {}
        }
      ],
      "execution_count": 34
    },
    {
      "cell_type": "code",
      "source": "# Try the \"describe()\" method again, but this time add the \"apply()\" function that includes an argument that uses the \"round()\" function to cause the output to be rounded to remove the unnecessaery decimal places\nAge_Date['Age'].describe().apply(lambda x:round(x,))",
      "metadata": {
        "trusted": true
      },
      "outputs": [
        {
          "execution_count": 35,
          "output_type": "execute_result",
          "data": {
            "text/plain": "count    190\nmean      22\nstd        2\nmin       18\n25%       21\n50%       21\n75%       22\nmax       34\nName: Age, dtype: int64"
          },
          "metadata": {}
        }
      ],
      "execution_count": 35
    },
    {
      "cell_type": "code",
      "source": "# Use the \"groupby()\" function to group the revised \"Age_Date\" dataframe by \"Date\" and use the \"mean()\" function to show the average Age and the \"apply()\" function that includes an argument that uses the \"round()\" function to again rounded to remove decimal places and assign that all to a new variable called \"processed_Age_Date\"\nprocessed_Age_Date = Age_Date.groupby(Age_Date.Date)['Age'].mean().apply(lambda x:round(x,))",
      "metadata": {
        "trusted": true
      },
      "outputs": [],
      "execution_count": 36
    },
    {
      "cell_type": "code",
      "source": "# Use the \"head()\" function to show the first five rows of the content of the \"processed_Age_Date\" dataframe to the screen for data inspection of your data engineering and data processing work.\nprocessed_Age_Date.head()",
      "metadata": {
        "trusted": true
      },
      "outputs": [
        {
          "execution_count": 37,
          "output_type": "execute_result",
          "data": {
            "text/plain": "Date\n2022-01-01    21\n2022-01-02    22\n2022-01-08    23\n2022-01-11    25\n2022-01-12    22\nName: Age, dtype: int64"
          },
          "metadata": {}
        }
      ],
      "execution_count": 37
    },
    {
      "cell_type": "code",
      "source": "# Section 5. Now the \"Age\" and \"Date\" data is processed so that you can use it to create a Data Visualization (DV) to show the change in Age over time (Date).\n# For this section, work on your own by adapting and inserting below the Python code that Dr. Mead demonstrated during the Class Session 4 video called, \"Activity - Experiment with R and Python Code for DVP to Show How Data Change Over Time\".\n# Remember to save your codebook and download it when you are finished so that you do not lose your hard work.\n\n",
      "metadata": {
        "trusted": true
      },
      "outputs": [],
      "execution_count": 38
    },
    {
      "cell_type": "code",
      "source": "",
      "metadata": {
        "trusted": true
      },
      "outputs": [],
      "execution_count": null
    },
    {
      "cell_type": "code",
      "source": "",
      "metadata": {
        "trusted": true
      },
      "outputs": [],
      "execution_count": null
    },
    {
      "cell_type": "code",
      "source": "D1_D2_data_renamed_columns['Date'] = pd.to_datetime(D1_D2_data_renamed_columns['Date'])\nD1_D2_data_renamed_columns['Date'].dtypes",
      "metadata": {
        "trusted": true
      },
      "outputs": [
        {
          "execution_count": 42,
          "output_type": "execute_result",
          "data": {
            "text/plain": "dtype('<M8[ns]')"
          },
          "metadata": {}
        }
      ],
      "execution_count": 42
    },
    {
      "cell_type": "code",
      "source": "# For Practice Purpose, Let's use D1_D2_data_renamed_columns\n# Create a copy of D1_D2_data_renamed_columns and label it has \"df1\" for first graph or first insight.\ndf1 = D1_D2_data_renamed_columns",
      "metadata": {
        "trusted": true
      },
      "outputs": [],
      "execution_count": 43
    },
    {
      "cell_type": "code",
      "source": "gender_counts = df1.groupby('Date')['Gender'].value_counts().unstack()\ngender_counts.columns = ['Female', 'Male']\ngender_counts = df1.groupby(['Date', 'Gender']).size().unstack(fill_value=0).rename(columns={1: 'Male', 2: 'Female'})\ngender_counts.head()",
      "metadata": {
        "trusted": true
      },
      "outputs": [
        {
          "execution_count": 44,
          "output_type": "execute_result",
          "data": {
            "text/plain": "Gender      Male  Female\nDate                    \n2022-01-01     0       1\n2022-01-02     1       1\n2022-01-08     1       1\n2022-01-11     2       0\n2022-01-12     0       1",
            "text/html": "<div>\n<style scoped>\n    .dataframe tbody tr th:only-of-type {\n        vertical-align: middle;\n    }\n\n    .dataframe tbody tr th {\n        vertical-align: top;\n    }\n\n    .dataframe thead th {\n        text-align: right;\n    }\n</style>\n<table border=\"1\" class=\"dataframe\">\n  <thead>\n    <tr style=\"text-align: right;\">\n      <th>Gender</th>\n      <th>Male</th>\n      <th>Female</th>\n    </tr>\n    <tr>\n      <th>Date</th>\n      <th></th>\n      <th></th>\n    </tr>\n  </thead>\n  <tbody>\n    <tr>\n      <th>2022-01-01</th>\n      <td>0</td>\n      <td>1</td>\n    </tr>\n    <tr>\n      <th>2022-01-02</th>\n      <td>1</td>\n      <td>1</td>\n    </tr>\n    <tr>\n      <th>2022-01-08</th>\n      <td>1</td>\n      <td>1</td>\n    </tr>\n    <tr>\n      <th>2022-01-11</th>\n      <td>2</td>\n      <td>0</td>\n    </tr>\n    <tr>\n      <th>2022-01-12</th>\n      <td>0</td>\n      <td>1</td>\n    </tr>\n  </tbody>\n</table>\n</div>"
          },
          "metadata": {}
        }
      ],
      "execution_count": 44
    },
    {
      "cell_type": "code",
      "source": "import matplotlib.dates as mdates",
      "metadata": {
        "trusted": true
      },
      "outputs": [],
      "execution_count": 45
    },
    {
      "cell_type": "code",
      "source": "monthly_counts = gender_counts.resample('M').sum()",
      "metadata": {
        "trusted": true
      },
      "outputs": [],
      "execution_count": 46
    },
    {
      "cell_type": "code",
      "source": "fig, ax = plt.subplots(figsize=(12, 8))\nmonthly_counts.plot(kind='bar', ax=ax)\n\n# Customize the plot\nax.set_title('Change in Male and Female Counts Over Time (Monthly)')\nax.set_xlabel('Month')\nax.set_ylabel('Count')\nax.legend(title='Gender')\nax.set_xticklabels([date.strftime('%Y-%m') for date in monthly_counts.index], rotation=45)\n\nplt.tight_layout()\n\n# Show the plot\nplt.show()",
      "metadata": {
        "trusted": true
      },
      "outputs": [
        {
          "output_type": "display_data",
          "data": {
            "text/plain": "<Figure size 1200x800 with 1 Axes>",
            "image/png": "[encoded data removed]"
          },
          "metadata": {}
        }
      ],
      "execution_count": 47
    },
    {
      "cell_type": "code",
      "source": "",
      "metadata": {
        "trusted": true
      },
      "outputs": [],
      "execution_count": null
    },
    {
      "cell_type": "code",
      "source": "df2 = D1_D2_data_renamed_columns",
      "metadata": {
        "trusted": true
      },
      "outputs": [],
      "execution_count": 48
    },
    {
      "cell_type": "code",
      "source": "df2.head()",
      "metadata": {
        "trusted": true
      },
      "outputs": [
        {
          "execution_count": 49,
          "output_type": "execute_result",
          "data": {
            "text/plain": "   ID  Gender  Ethnicity  Age  Classification  \\\n0   1       2         10   22               4   \n1   2       2         10   21               3   \n2   3       2         11   21               3   \n3   4       2         10   20               3   \n4   5       1         10   22               4   \n\n   What college does your major belong to?  Income (monthly)       Date  \n0                                        6                 3 2022-08-09  \n1                                        2                 1 2022-01-16  \n2                                        7                 1 2022-04-10  \n3                                        6                 1 2022-09-12  \n4                                        2                 3 2022-05-23  ",
            "text/html": "<div>\n<style scoped>\n    .dataframe tbody tr th:only-of-type {\n        vertical-align: middle;\n    }\n\n    .dataframe tbody tr th {\n        vertical-align: top;\n    }\n\n    .dataframe thead th {\n        text-align: right;\n    }\n</style>\n<table border=\"1\" class=\"dataframe\">\n  <thead>\n    <tr style=\"text-align: right;\">\n      <th></th>\n      <th>ID</th>\n      <th>Gender</th>\n      <th>Ethnicity</th>\n      <th>Age</th>\n      <th>Classification</th>\n      <th>What college does your major belong to?</th>\n      <th>Income (monthly)</th>\n      <th>Date</th>\n    </tr>\n  </thead>\n  <tbody>\n    <tr>\n      <th>0</th>\n      <td>1</td>\n      <td>2</td>\n      <td>10</td>\n      <td>22</td>\n      <td>4</td>\n      <td>6</td>\n      <td>3</td>\n      <td>2022-08-09</td>\n    </tr>\n    <tr>\n      <th>1</th>\n      <td>2</td>\n      <td>2</td>\n      <td>10</td>\n      <td>21</td>\n      <td>3</td>\n      <td>2</td>\n      <td>1</td>\n      <td>2022-01-16</td>\n    </tr>\n    <tr>\n      <th>2</th>\n      <td>3</td>\n      <td>2</td>\n      <td>11</td>\n      <td>21</td>\n      <td>3</td>\n      <td>7</td>\n      <td>1</td>\n      <td>2022-04-10</td>\n    </tr>\n    <tr>\n      <th>3</th>\n      <td>4</td>\n      <td>2</td>\n      <td>10</td>\n      <td>20</td>\n      <td>3</td>\n      <td>6</td>\n      <td>1</td>\n      <td>2022-09-12</td>\n    </tr>\n    <tr>\n      <th>4</th>\n      <td>5</td>\n      <td>1</td>\n      <td>10</td>\n      <td>22</td>\n      <td>4</td>\n      <td>2</td>\n      <td>3</td>\n      <td>2022-05-23</td>\n    </tr>\n  </tbody>\n</table>\n</div>"
          },
          "metadata": {}
        }
      ],
      "execution_count": 49
    },
    {
      "cell_type": "markdown",
      "source": "df2.head()",
      "metadata": {}
    },
    {
      "cell_type": "code",
      "source": "df2['Date'] = pd.to_datetime(df2['Date'])\ndf2['Month'] = df2['Date'].dt.to_period('M')",
      "metadata": {
        "trusted": true
      },
      "outputs": [],
      "execution_count": 50
    },
    {
      "cell_type": "code",
      "source": "def calculate_mode(series):\n    mode_values = series.mode()\n    if not mode_values.empty:\n        return mode_values.iloc[0]\n    else:\n        return None\n\n# Group by 'Month' and calculate mean and mode for 'Age'\nresult = df2.groupby('Month').agg(\n    Average_Age=('Age', 'mean'),\n    Most_Repeated_Age=('Age', calculate_mode)\n).reset_index()\n",
      "metadata": {
        "trusted": true
      },
      "outputs": [],
      "execution_count": 51
    },
    {
      "cell_type": "code",
      "source": "\nprint(result)",
      "metadata": {
        "trusted": true
      },
      "outputs": [
        {
          "name": "stdout",
          "text": "      Month  Average_Age  Most_Repeated_Age\n0   2022-01    22.947368                 21\n1   2022-02    21.615385                 22\n2   2022-03    21.266667                 21\n3   2022-04    20.875000                 21\n4   2022-05    24.600000                 22\n5   2022-06    22.300000                 21\n6   2022-07    21.428571                 21\n7   2022-08    22.117647                 22\n8   2022-09    21.111111                 22\n9   2022-10    21.200000                 21\n10  2022-11    21.400000                 22\n11  2022-12    21.619048                 21\n",
          "output_type": "stream"
        }
      ],
      "execution_count": 52
    },
    {
      "cell_type": "code",
      "source": "",
      "metadata": {
        "trusted": true
      },
      "outputs": [],
      "execution_count": null
    },
    {
      "cell_type": "code",
      "source": "df2 = df2.set_index('Date')",
      "metadata": {
        "trusted": true
      },
      "outputs": [],
      "execution_count": 53
    },
    {
      "cell_type": "code",
      "source": "monthly_data = df2.resample('M')",
      "metadata": {
        "trusted": true
      },
      "outputs": [],
      "execution_count": 54
    },
    {
      "cell_type": "code",
      "source": "from scipy import stats",
      "metadata": {
        "trusted": true
      },
      "outputs": [],
      "execution_count": 55
    },
    {
      "cell_type": "code",
      "source": "\n# Calculate average age for each month\naverage_age = monthly_data['Age'].mean()\n\n# Calculate mode age for each month\nmode_age = monthly_data['Age'].agg(lambda x: x.mode()[0] if not x.mode().empty else None)\n\n\n",
      "metadata": {
        "trusted": true
      },
      "outputs": [],
      "execution_count": 56
    },
    {
      "cell_type": "code",
      "source": "average_age.head(12)",
      "metadata": {
        "trusted": true
      },
      "outputs": [
        {
          "execution_count": 57,
          "output_type": "execute_result",
          "data": {
            "text/plain": "Date\n2022-01-31    22.947368\n2022-02-28    21.615385\n2022-03-31    21.266667\n2022-04-30    20.875000\n2022-05-31    24.600000\n2022-06-30    22.300000\n2022-07-31    21.428571\n2022-08-31    22.117647\n2022-09-30    21.111111\n2022-10-31    21.200000\n2022-11-30    21.400000\n2022-12-31    21.619048\nFreq: M, Name: Age, dtype: float64"
          },
          "metadata": {}
        }
      ],
      "execution_count": 57
    },
    {
      "cell_type": "code",
      "source": "age_stats = pd.DataFrame({\n    'Average Age': average_age,\n    'Mode Age': mode_age\n})\n",
      "metadata": {
        "trusted": true
      },
      "outputs": [],
      "execution_count": 58
    },
    {
      "cell_type": "code",
      "source": "fig, ax = plt.subplots(figsize=(12, 8))\nage_stats.plot(kind='bar', ax=ax)\n\n# Customize the plot\nax.set_title('Monthly Average and Mode of Ages')\nax.set_xlabel('Month')\nax.set_ylabel('Age')\nax.legend(title='Age Statistics')\n\n# Format the x-axis to show year and month only\nax.set_xticklabels(age_stats.index.strftime('%Y-%m'), rotation=45)\n\nplt.tight_layout()\n\n# Show the plot\nplt.show()",
      "metadata": {
        "trusted": true
      },
      "outputs": [
        {
          "output_type": "display_data",
          "data": {
            "text/plain": "<Figure size 1200x800 with 1 Axes>",
            "image/png": "[encoded data removed]"
          },
          "metadata": {}
        }
      ],
      "execution_count": 59
    },
    {
      "cell_type": "code",
      "source": "",
      "metadata": {
        "trusted": true
      },
      "outputs": [],
      "execution_count": null
    },
    {
      "cell_type": "code",
      "source": "",
      "metadata": {
        "trusted": true
      },
      "outputs": [],
      "execution_count": null
    },
    {
      "cell_type": "code",
      "source": "",
      "metadata": {
        "trusted": true
      },
      "outputs": [],
      "execution_count": null
    },
    {
      "cell_type": "code",
      "source": "",
      "metadata": {
        "trusted": true
      },
      "outputs": [],
      "execution_count": null
    },
    {
      "cell_type": "code",
      "source": "",
      "metadata": {
        "trusted": true
      },
      "outputs": [],
      "execution_count": null
    },
    {
      "cell_type": "code",
      "source": "",
      "metadata": {
        "trusted": true
      },
      "outputs": [],
      "execution_count": null
    },
    {
      "cell_type": "code",
      "source": "",
      "metadata": {
        "trusted": true
      },
      "outputs": [],
      "execution_count": null
    },
    {
      "cell_type": "code",
      "source": "# End of codebook",
      "metadata": {
        "trusted": true
      },
      "outputs": [],
      "execution_count": null
    }
  ]
}