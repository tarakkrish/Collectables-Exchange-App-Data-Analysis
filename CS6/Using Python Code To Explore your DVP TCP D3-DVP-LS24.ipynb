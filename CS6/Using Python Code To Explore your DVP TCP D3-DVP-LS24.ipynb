{
  "metadata": {
    "kernelspec": {
      "name": "python",
      "display_name": "Python (Pyodide)",
      "language": "python"
    },
    "language_info": {
      "codemirror_mode": {
        "name": "python",
        "version": 3
      },
      "file_extension": ".py",
      "mimetype": "text/x-python",
      "name": "python",
      "nbconvert_exporter": "python",
      "pygments_lexer": "ipython3",
      "version": "3.8"
    },
    "colab": {
      "provenance": []
    }
  },
  "nbformat_minor": 4,
  "nbformat": 4,
  "cells": [
    {
      "cell_type": "code",
      "source": "# Using Python Code To Explore your DVP TCP D3\n# MCIS 6333 - Dr. Esther Mead - SAU - LS24",
      "metadata": {
        "trusted": true
      },
      "outputs": [],
      "execution_count": null
    },
    {
      "cell_type": "code",
      "source": "# Warning! Dr. Mead used the \"Virtual Fashion Club\" use case data to create this \"Using Python Code To Explore your DVP TCP D3\" ipynb file.\n## Your team's use case data will look different.\n## Use your Data Dictionary (DD) to determine the contents of your specific team's data.\n## \"NOCDL\" = \"Non-optimized code documentation line\"\n## The majority of the code lines in this ipynb codebook contain non-optimized code documentation lines and must be optimized before use in graded submissions and/or use in the workplace for employee training purposes.",
      "metadata": {
        "trusted": true
      },
      "outputs": [],
      "execution_count": null
    },
    {
      "cell_type": "code",
      "source": "# Import (and install when necessary) the required libraries and packages for this session\nimport pandas as pd # For data processing (NOCDL)\nimport numpy as np # For linear algebra (NOCDL)\nimport matplotlib.pyplot as plt # For plotting (NOCDL)\nimport piplite # For installing packages inside of a \"wrapper\" when using the JupyterLite web-based IDE. (NOCDL)\nawait piplite.install(\"openpyxl\") # For installing the \"openpyxl\" library for working with Excel files. (NOCDL)",
      "metadata": {
        "trusted": true
      },
      "outputs": [],
      "execution_count": 1
    },
    {
      "cell_type": "code",
      "source": "# show the contents of your directory\nimport os\nos.listdir('/drive')",
      "metadata": {
        "trusted": true
      },
      "outputs": [
        {
          "execution_count": 2,
          "output_type": "execute_result",
          "data": {
            "text/plain": "['Creating DVs with your DVP TCP data [pie & donut]-DVP-LS24.ipynb',\n 'D3.xlsx',\n 'for_my_eyes_only',\n 'data',\n 'README.md',\n 'notebooks']"
          },
          "metadata": {}
        }
      ],
      "execution_count": 2
    },
    {
      "cell_type": "code",
      "source": "# load your D3 XLSX file.\nD3 = pd.read_excel(\"/drive/D3.xlsx\") # Use the pandas read_excel() function to work with your xlsx file\n# WARNING! Change the code in the above code line to your specific path and file name.\n# Warning! Dr. Mead used the \"Virtual Fashion Club\" use case to create this \"Using Python Code To Explore your DVP TCP D3\" ipynb file. Your team's use case data will look different.",
      "metadata": {
        "trusted": true
      },
      "outputs": [],
      "execution_count": 14
    },
    {
      "cell_type": "code",
      "source": "# Print the first five rows of the content of the data to look at it\nD3.head()",
      "metadata": {
        "trusted": true
      },
      "outputs": [
        {
          "execution_count": 4,
          "output_type": "execute_result",
          "data": {
            "text/plain": "   ID  Q8  Q9  Q10  Q11  Q12\n0   1   1  -2   -1    0    2\n1   2   2   0    0    2    4\n2   3   3   1    0    4    3\n3   4   3   0    1    3    4\n4   5   3   1    1    3    3",
            "text/html": "<div>\n<style scoped>\n    .dataframe tbody tr th:only-of-type {\n        vertical-align: middle;\n    }\n\n    .dataframe tbody tr th {\n        vertical-align: top;\n    }\n\n    .dataframe thead th {\n        text-align: right;\n    }\n</style>\n<table border=\"1\" class=\"dataframe\">\n  <thead>\n    <tr style=\"text-align: right;\">\n      <th></th>\n      <th>ID</th>\n      <th>Q8</th>\n      <th>Q9</th>\n      <th>Q10</th>\n      <th>Q11</th>\n      <th>Q12</th>\n    </tr>\n  </thead>\n  <tbody>\n    <tr>\n      <th>0</th>\n      <td>1</td>\n      <td>1</td>\n      <td>-2</td>\n      <td>-1</td>\n      <td>0</td>\n      <td>2</td>\n    </tr>\n    <tr>\n      <th>1</th>\n      <td>2</td>\n      <td>2</td>\n      <td>0</td>\n      <td>0</td>\n      <td>2</td>\n      <td>4</td>\n    </tr>\n    <tr>\n      <th>2</th>\n      <td>3</td>\n      <td>3</td>\n      <td>1</td>\n      <td>0</td>\n      <td>4</td>\n      <td>3</td>\n    </tr>\n    <tr>\n      <th>3</th>\n      <td>4</td>\n      <td>3</td>\n      <td>0</td>\n      <td>1</td>\n      <td>3</td>\n      <td>4</td>\n    </tr>\n    <tr>\n      <th>4</th>\n      <td>5</td>\n      <td>3</td>\n      <td>1</td>\n      <td>1</td>\n      <td>3</td>\n      <td>3</td>\n    </tr>\n  </tbody>\n</table>\n</div>"
          },
          "metadata": {}
        }
      ],
      "execution_count": 4
    },
    {
      "cell_type": "code",
      "source": "# Get a list of the sheet names of D3\nD3 = pd.ExcelFile(\"/drive/D3.xlsx\") # Load your D3 file again, this time using the pandas ExcelFile() function to get the sheets names of your xlsx file\nD3.sheet_names # Use the sheet_names property of the ExcelFile() function to get the sheet names of your xlsx file.",
      "metadata": {
        "trusted": true
      },
      "outputs": [
        {
          "execution_count": 5,
          "output_type": "execute_result",
          "data": {
            "text/plain": "['Data', 'Data Dictionary']"
          },
          "metadata": {}
        }
      ],
      "execution_count": 5
    },
    {
      "cell_type": "code",
      "source": "# Save the D3 \"Data\" sheet as a variable called \"D3_data\" for current and later use\nD3_data = pd.read_excel(D3, \"Data\")",
      "metadata": {
        "trusted": true
      },
      "outputs": [],
      "execution_count": 6
    },
    {
      "cell_type": "code",
      "source": "# Print the first five rows of the content of D3_data to look at it\nD3_data.head()\n# Warning! Dr. Mead used the \"Virtual Fashion Club\" use case to create this \"Using Python Code To Explore your DVP TCP D3\" ipynb file. Your team's use case data will look different.",
      "metadata": {
        "trusted": true
      },
      "outputs": [
        {
          "execution_count": 7,
          "output_type": "execute_result",
          "data": {
            "text/plain": "   ID  Q8  Q9  Q10  Q11  Q12\n0   1   1  -2   -1    0    2\n1   2   2   0    0    2    4\n2   3   3   1    0    4    3\n3   4   3   0    1    3    4\n4   5   3   1    1    3    3",
            "text/html": "<div>\n<style scoped>\n    .dataframe tbody tr th:only-of-type {\n        vertical-align: middle;\n    }\n\n    .dataframe tbody tr th {\n        vertical-align: top;\n    }\n\n    .dataframe thead th {\n        text-align: right;\n    }\n</style>\n<table border=\"1\" class=\"dataframe\">\n  <thead>\n    <tr style=\"text-align: right;\">\n      <th></th>\n      <th>ID</th>\n      <th>Q8</th>\n      <th>Q9</th>\n      <th>Q10</th>\n      <th>Q11</th>\n      <th>Q12</th>\n    </tr>\n  </thead>\n  <tbody>\n    <tr>\n      <th>0</th>\n      <td>1</td>\n      <td>1</td>\n      <td>-2</td>\n      <td>-1</td>\n      <td>0</td>\n      <td>2</td>\n    </tr>\n    <tr>\n      <th>1</th>\n      <td>2</td>\n      <td>2</td>\n      <td>0</td>\n      <td>0</td>\n      <td>2</td>\n      <td>4</td>\n    </tr>\n    <tr>\n      <th>2</th>\n      <td>3</td>\n      <td>3</td>\n      <td>1</td>\n      <td>0</td>\n      <td>4</td>\n      <td>3</td>\n    </tr>\n    <tr>\n      <th>3</th>\n      <td>4</td>\n      <td>3</td>\n      <td>0</td>\n      <td>1</td>\n      <td>3</td>\n      <td>4</td>\n    </tr>\n    <tr>\n      <th>4</th>\n      <td>5</td>\n      <td>3</td>\n      <td>1</td>\n      <td>1</td>\n      <td>3</td>\n      <td>3</td>\n    </tr>\n  </tbody>\n</table>\n</div>"
          },
          "metadata": {}
        }
      ],
      "execution_count": 7
    },
    {
      "cell_type": "code",
      "source": "# Save the D3 \"Data Dictionary\" sheet as a variable called \"D3_DD\" for current and later use\nD3_DD = pd.read_excel(D3, \"Data Dictionary\")\n# Warning! Dr. Mead used the \"Virtual Fashion Club\" use case to create this \"Using Python Code To Explore your DVP TCP D3\" ipynb file. Your team's use case data will look different. Use your DD.",
      "metadata": {
        "trusted": true
      },
      "outputs": [],
      "execution_count": 8
    },
    {
      "cell_type": "code",
      "source": "# Print the contents of D3_DD\nD3_DD\n# Warning! Dr. Mead used the \"Virtual Fashion Club\" use case to create this \"Using Python Code To Explore your DVP TCP D3\" ipynb file. Your team's use case data will look different. Use your DD.",
      "metadata": {
        "trusted": true
      },
      "outputs": [
        {
          "execution_count": 9,
          "output_type": "execute_result",
          "data": {
            "text/plain": "    ID                                         ResponseID  \\\n0   Q8  Where do you prefer to shop for fashion items ...   \n1   Q9  I would benefit from joining a Virtual Fashion...   \n2  Q10  How likely are you to join a Virtual Fashion C...   \n3  Q11  If you were to join a Virtual Fashion Club, ho...   \n4  Q12        How many hours do you spend online per day?   \n\n               Unnamed: 2              Unnamed: 3               Unnamed: 4  \\\n0              Online (1)            In-store (2)                 Both (3)   \n1  Strongly disagree (-2)           Disagree (-1)               Unsure (0)   \n2    Highly unlikely (-2)           Unlikely (-1)               Unsure (0)   \n3               Never (0)       Once per year (1)       Once per month (2)   \n4                None (0)  Less than one hour (1)  1 to almost 3 hours (2)   \n\n                Unnamed: 5               Unnamed: 6  \\\n0                 None (4)                      NaN   \n1                Agree (1)       Strongly agree (1)   \n2               Likely (1)        Highly likely (2)   \n3        Once per week (3)         Once per day (4)   \n4  3 to almost 5 hours (3)  5 to almost 7 hours (4)   \n\n                      Unnamed: 7           Unnamed: 8  \n0                            NaN                  NaN  \n1                            NaN                  NaN  \n2                            NaN                  NaN  \n3  A couple of times per day (5)                  NaN  \n4        7 to almost 9 hours (5)  9 or more hours (6)  ",
            "text/html": "<div>\n<style scoped>\n    .dataframe tbody tr th:only-of-type {\n        vertical-align: middle;\n    }\n\n    .dataframe tbody tr th {\n        vertical-align: top;\n    }\n\n    .dataframe thead th {\n        text-align: right;\n    }\n</style>\n<table border=\"1\" class=\"dataframe\">\n  <thead>\n    <tr style=\"text-align: right;\">\n      <th></th>\n      <th>ID</th>\n      <th>ResponseID</th>\n      <th>Unnamed: 2</th>\n      <th>Unnamed: 3</th>\n      <th>Unnamed: 4</th>\n      <th>Unnamed: 5</th>\n      <th>Unnamed: 6</th>\n      <th>Unnamed: 7</th>\n      <th>Unnamed: 8</th>\n    </tr>\n  </thead>\n  <tbody>\n    <tr>\n      <th>0</th>\n      <td>Q8</td>\n      <td>Where do you prefer to shop for fashion items ...</td>\n      <td>Online (1)</td>\n      <td>In-store (2)</td>\n      <td>Both (3)</td>\n      <td>None (4)</td>\n      <td>NaN</td>\n      <td>NaN</td>\n      <td>NaN</td>\n    </tr>\n    <tr>\n      <th>1</th>\n      <td>Q9</td>\n      <td>I would benefit from joining a Virtual Fashion...</td>\n      <td>Strongly disagree (-2)</td>\n      <td>Disagree (-1)</td>\n      <td>Unsure (0)</td>\n      <td>Agree (1)</td>\n      <td>Strongly agree (1)</td>\n      <td>NaN</td>\n      <td>NaN</td>\n    </tr>\n    <tr>\n      <th>2</th>\n      <td>Q10</td>\n      <td>How likely are you to join a Virtual Fashion C...</td>\n      <td>Highly unlikely (-2)</td>\n      <td>Unlikely (-1)</td>\n      <td>Unsure (0)</td>\n      <td>Likely (1)</td>\n      <td>Highly likely (2)</td>\n      <td>NaN</td>\n      <td>NaN</td>\n    </tr>\n    <tr>\n      <th>3</th>\n      <td>Q11</td>\n      <td>If you were to join a Virtual Fashion Club, ho...</td>\n      <td>Never (0)</td>\n      <td>Once per year (1)</td>\n      <td>Once per month (2)</td>\n      <td>Once per week (3)</td>\n      <td>Once per day (4)</td>\n      <td>A couple of times per day (5)</td>\n      <td>NaN</td>\n    </tr>\n    <tr>\n      <th>4</th>\n      <td>Q12</td>\n      <td>How many hours do you spend online per day?</td>\n      <td>None (0)</td>\n      <td>Less than one hour (1)</td>\n      <td>1 to almost 3 hours (2)</td>\n      <td>3 to almost 5 hours (3)</td>\n      <td>5 to almost 7 hours (4)</td>\n      <td>7 to almost 9 hours (5)</td>\n      <td>9 or more hours (6)</td>\n    </tr>\n  </tbody>\n</table>\n</div>"
          },
          "metadata": {}
        }
      ],
      "execution_count": 9
    },
    {
      "cell_type": "code",
      "source": "# Transpose D3_DD if you want to see it by columns instead of by rows\nD3_DD.T\n# Warning! Dr. Mead used the \"Virtual Fashion Club\" use case to create this \"Using Python Code To Explore your DVP TCP D3\" ipynb file. Your team's use case data will look different. Use your DD.",
      "metadata": {
        "trusted": true
      },
      "outputs": [
        {
          "execution_count": 10,
          "output_type": "execute_result",
          "data": {
            "text/plain": "                                                            0  \\\nID                                                         Q8   \nResponseID  Where do you prefer to shop for fashion items ...   \nUnnamed: 2                                         Online (1)   \nUnnamed: 3                                       In-store (2)   \nUnnamed: 4                                           Both (3)   \nUnnamed: 5                                           None (4)   \nUnnamed: 6                                                NaN   \nUnnamed: 7                                                NaN   \nUnnamed: 8                                                NaN   \n\n                                                            1  \\\nID                                                         Q9   \nResponseID  I would benefit from joining a Virtual Fashion...   \nUnnamed: 2                             Strongly disagree (-2)   \nUnnamed: 3                                      Disagree (-1)   \nUnnamed: 4                                         Unsure (0)   \nUnnamed: 5                                          Agree (1)   \nUnnamed: 6                                 Strongly agree (1)   \nUnnamed: 7                                                NaN   \nUnnamed: 8                                                NaN   \n\n                                                            2  \\\nID                                                        Q10   \nResponseID  How likely are you to join a Virtual Fashion C...   \nUnnamed: 2                               Highly unlikely (-2)   \nUnnamed: 3                                      Unlikely (-1)   \nUnnamed: 4                                         Unsure (0)   \nUnnamed: 5                                         Likely (1)   \nUnnamed: 6                                  Highly likely (2)   \nUnnamed: 7                                                NaN   \nUnnamed: 8                                                NaN   \n\n                                                            3  \\\nID                                                        Q11   \nResponseID  If you were to join a Virtual Fashion Club, ho...   \nUnnamed: 2                                          Never (0)   \nUnnamed: 3                                  Once per year (1)   \nUnnamed: 4                                 Once per month (2)   \nUnnamed: 5                                  Once per week (3)   \nUnnamed: 6                                   Once per day (4)   \nUnnamed: 7                      A couple of times per day (5)   \nUnnamed: 8                                                NaN   \n\n                                                      4  \nID                                                  Q12  \nResponseID  How many hours do you spend online per day?  \nUnnamed: 2                                     None (0)  \nUnnamed: 3                       Less than one hour (1)  \nUnnamed: 4                      1 to almost 3 hours (2)  \nUnnamed: 5                      3 to almost 5 hours (3)  \nUnnamed: 6                      5 to almost 7 hours (4)  \nUnnamed: 7                      7 to almost 9 hours (5)  \nUnnamed: 8                          9 or more hours (6)  ",
            "text/html": "<div>\n<style scoped>\n    .dataframe tbody tr th:only-of-type {\n        vertical-align: middle;\n    }\n\n    .dataframe tbody tr th {\n        vertical-align: top;\n    }\n\n    .dataframe thead th {\n        text-align: right;\n    }\n</style>\n<table border=\"1\" class=\"dataframe\">\n  <thead>\n    <tr style=\"text-align: right;\">\n      <th></th>\n      <th>0</th>\n      <th>1</th>\n      <th>2</th>\n      <th>3</th>\n      <th>4</th>\n    </tr>\n  </thead>\n  <tbody>\n    <tr>\n      <th>ID</th>\n      <td>Q8</td>\n      <td>Q9</td>\n      <td>Q10</td>\n      <td>Q11</td>\n      <td>Q12</td>\n    </tr>\n    <tr>\n      <th>ResponseID</th>\n      <td>Where do you prefer to shop for fashion items ...</td>\n      <td>I would benefit from joining a Virtual Fashion...</td>\n      <td>How likely are you to join a Virtual Fashion C...</td>\n      <td>If you were to join a Virtual Fashion Club, ho...</td>\n      <td>How many hours do you spend online per day?</td>\n    </tr>\n    <tr>\n      <th>Unnamed: 2</th>\n      <td>Online (1)</td>\n      <td>Strongly disagree (-2)</td>\n      <td>Highly unlikely (-2)</td>\n      <td>Never (0)</td>\n      <td>None (0)</td>\n    </tr>\n    <tr>\n      <th>Unnamed: 3</th>\n      <td>In-store (2)</td>\n      <td>Disagree (-1)</td>\n      <td>Unlikely (-1)</td>\n      <td>Once per year (1)</td>\n      <td>Less than one hour (1)</td>\n    </tr>\n    <tr>\n      <th>Unnamed: 4</th>\n      <td>Both (3)</td>\n      <td>Unsure (0)</td>\n      <td>Unsure (0)</td>\n      <td>Once per month (2)</td>\n      <td>1 to almost 3 hours (2)</td>\n    </tr>\n    <tr>\n      <th>Unnamed: 5</th>\n      <td>None (4)</td>\n      <td>Agree (1)</td>\n      <td>Likely (1)</td>\n      <td>Once per week (3)</td>\n      <td>3 to almost 5 hours (3)</td>\n    </tr>\n    <tr>\n      <th>Unnamed: 6</th>\n      <td>NaN</td>\n      <td>Strongly agree (1)</td>\n      <td>Highly likely (2)</td>\n      <td>Once per day (4)</td>\n      <td>5 to almost 7 hours (4)</td>\n    </tr>\n    <tr>\n      <th>Unnamed: 7</th>\n      <td>NaN</td>\n      <td>NaN</td>\n      <td>NaN</td>\n      <td>A couple of times per day (5)</td>\n      <td>7 to almost 9 hours (5)</td>\n    </tr>\n    <tr>\n      <th>Unnamed: 8</th>\n      <td>NaN</td>\n      <td>NaN</td>\n      <td>NaN</td>\n      <td>NaN</td>\n      <td>9 or more hours (6)</td>\n    </tr>\n  </tbody>\n</table>\n</div>"
          },
          "metadata": {}
        }
      ],
      "execution_count": 10
    },
    {
      "cell_type": "code",
      "source": "# Change the text display options so that we can see the entire questions of the variables.\npd.set_option('display.max_colwidth', None)",
      "metadata": {
        "trusted": true
      },
      "outputs": [],
      "execution_count": 11
    },
    {
      "cell_type": "code",
      "source": "# Now look at the D3_DD again to see the entire content (non-truncated).\nD3_DD\n# Warning! Dr. Mead used the \"Virtual Fashion Club\" use case to create this \"Using Python Code To Explore your DVP TCP D3\" ipynb file. Your team's use case data will look different. Use your DD.",
      "metadata": {
        "trusted": true
      },
      "outputs": [
        {
          "execution_count": 12,
          "output_type": "execute_result",
          "data": {
            "text/plain": "    ID  \\\n0   Q8   \n1   Q9   \n2  Q10   \n3  Q11   \n4  Q12   \n\n                                                                                    ResponseID  \\\n0              Where do you prefer to shop for fashion items such as clothing and accessories?   \n1                                         I would benefit from joining a Virtual Fashion Club.   \n2                                           How likely are you to join a Virtual Fashion Club?   \n3  If you were to join a Virtual Fashion Club, how often would you visit its virtual platform?   \n4                                                  How many hours do you spend online per day?   \n\n               Unnamed: 2              Unnamed: 3               Unnamed: 4  \\\n0              Online (1)            In-store (2)                 Both (3)   \n1  Strongly disagree (-2)           Disagree (-1)               Unsure (0)   \n2    Highly unlikely (-2)           Unlikely (-1)               Unsure (0)   \n3               Never (0)       Once per year (1)       Once per month (2)   \n4                None (0)  Less than one hour (1)  1 to almost 3 hours (2)   \n\n                Unnamed: 5               Unnamed: 6  \\\n0                 None (4)                      NaN   \n1                Agree (1)       Strongly agree (1)   \n2               Likely (1)        Highly likely (2)   \n3        Once per week (3)         Once per day (4)   \n4  3 to almost 5 hours (3)  5 to almost 7 hours (4)   \n\n                      Unnamed: 7           Unnamed: 8  \n0                            NaN                  NaN  \n1                            NaN                  NaN  \n2                            NaN                  NaN  \n3  A couple of times per day (5)                  NaN  \n4        7 to almost 9 hours (5)  9 or more hours (6)  ",
            "text/html": "<div>\n<style scoped>\n    .dataframe tbody tr th:only-of-type {\n        vertical-align: middle;\n    }\n\n    .dataframe tbody tr th {\n        vertical-align: top;\n    }\n\n    .dataframe thead th {\n        text-align: right;\n    }\n</style>\n<table border=\"1\" class=\"dataframe\">\n  <thead>\n    <tr style=\"text-align: right;\">\n      <th></th>\n      <th>ID</th>\n      <th>ResponseID</th>\n      <th>Unnamed: 2</th>\n      <th>Unnamed: 3</th>\n      <th>Unnamed: 4</th>\n      <th>Unnamed: 5</th>\n      <th>Unnamed: 6</th>\n      <th>Unnamed: 7</th>\n      <th>Unnamed: 8</th>\n    </tr>\n  </thead>\n  <tbody>\n    <tr>\n      <th>0</th>\n      <td>Q8</td>\n      <td>Where do you prefer to shop for fashion items such as clothing and accessories?</td>\n      <td>Online (1)</td>\n      <td>In-store (2)</td>\n      <td>Both (3)</td>\n      <td>None (4)</td>\n      <td>NaN</td>\n      <td>NaN</td>\n      <td>NaN</td>\n    </tr>\n    <tr>\n      <th>1</th>\n      <td>Q9</td>\n      <td>I would benefit from joining a Virtual Fashion Club.</td>\n      <td>Strongly disagree (-2)</td>\n      <td>Disagree (-1)</td>\n      <td>Unsure (0)</td>\n      <td>Agree (1)</td>\n      <td>Strongly agree (1)</td>\n      <td>NaN</td>\n      <td>NaN</td>\n    </tr>\n    <tr>\n      <th>2</th>\n      <td>Q10</td>\n      <td>How likely are you to join a Virtual Fashion Club?</td>\n      <td>Highly unlikely (-2)</td>\n      <td>Unlikely (-1)</td>\n      <td>Unsure (0)</td>\n      <td>Likely (1)</td>\n      <td>Highly likely (2)</td>\n      <td>NaN</td>\n      <td>NaN</td>\n    </tr>\n    <tr>\n      <th>3</th>\n      <td>Q11</td>\n      <td>If you were to join a Virtual Fashion Club, how often would you visit its virtual platform?</td>\n      <td>Never (0)</td>\n      <td>Once per year (1)</td>\n      <td>Once per month (2)</td>\n      <td>Once per week (3)</td>\n      <td>Once per day (4)</td>\n      <td>A couple of times per day (5)</td>\n      <td>NaN</td>\n    </tr>\n    <tr>\n      <th>4</th>\n      <td>Q12</td>\n      <td>How many hours do you spend online per day?</td>\n      <td>None (0)</td>\n      <td>Less than one hour (1)</td>\n      <td>1 to almost 3 hours (2)</td>\n      <td>3 to almost 5 hours (3)</td>\n      <td>5 to almost 7 hours (4)</td>\n      <td>7 to almost 9 hours (5)</td>\n      <td>9 or more hours (6)</td>\n    </tr>\n  </tbody>\n</table>\n</div>"
          },
          "metadata": {}
        }
      ],
      "execution_count": 12
    },
    {
      "cell_type": "code",
      "source": "# Get a list of the column names in D3_Data\nD3_data.columns\n# Warning! Dr. Mead used the \"Virtual Fashion Club\" use case to create this \"Using Python Code To Explore your DVP TCP D3\" ipynb file. Your team's use case data will look different.",
      "metadata": {
        "trusted": true
      },
      "outputs": [
        {
          "execution_count": 13,
          "output_type": "execute_result",
          "data": {
            "text/plain": "Index(['ID', 'Q8', 'Q9', 'Q10', 'Q11', 'Q12'], dtype='object')"
          },
          "metadata": {}
        }
      ],
      "execution_count": 13
    },
    {
      "cell_type": "code",
      "source": "",
      "metadata": {
        "trusted": true
      },
      "outputs": [],
      "execution_count": null
    },
    {
      "cell_type": "code",
      "source": "# STOP!!!!!!!!!!!!!!!!!!! THE CODE BELOW MUST BE EDITED FOR YOUR OWN USE CASE DATA FROM YOUR D3_DD.\n# If you execute it before editing, you will break your dataframe and you will have to start over from the \"D3 = pd.read_excel\" step near the beginning of this ipynb file.",
      "metadata": {
        "trusted": true
      },
      "outputs": [],
      "execution_count": null
    },
    {
      "cell_type": "code",
      "source": "",
      "metadata": {
        "trusted": true
      },
      "outputs": [],
      "execution_count": null
    },
    {
      "cell_type": "code",
      "source": "# Rename the columns based on what the Data Dictionary for your D3 revealed about your D3 data (the non-truncated content).\nD3_data.rename(columns={\"Q8\": \"Where do you prefer to shop for fashion items such as clothing and accessories?\", \n                        \"Q9\": \"I would benefit from joining a Virtual Fashion Club.\", \n                        \"Q10\": \"How likely are you to join a Virtual Fashion Club?\", \n                        \"Q11\": \"If you were to join a Virtual Fashion Club, how often would you visit its virtual platform?\", \n                        \"Q12\": \"How many hours do you spend online per day?\"})\n# When you exectute this code block/cell, it will automatically display the output on the screen.\n# Warning! Dr. Mead used the \"Virtual Fashion Club\" use case to create this \"Using Python Code To Explore your DVP TCP D3\" ipynb file. Your team's use case data will look different. Use your DD.",
      "metadata": {
        "trusted": true
      },
      "outputs": [
        {
          "execution_count": 15,
          "output_type": "execute_result",
          "data": {
            "text/plain": "      ID  \\\n0      1   \n1      2   \n2      3   \n3      4   \n4      5   \n..   ...   \n177  178   \n178  179   \n179  180   \n180  181   \n181  182   \n\n     Where do you prefer to shop for fashion items such as clothing and accessories?  \\\n0                                                                                  1   \n1                                                                                  2   \n2                                                                                  3   \n3                                                                                  3   \n4                                                                                  3   \n..                                                                               ...   \n177                                                                                2   \n178                                                                                3   \n179                                                                                3   \n180                                                                                1   \n181                                                                                2   \n\n     I would benefit from joining a Virtual Fashion Club.  \\\n0                                                      -2   \n1                                                       0   \n2                                                       1   \n3                                                       0   \n4                                                       1   \n..                                                    ...   \n177                                                     0   \n178                                                     0   \n179                                                     1   \n180                                                     1   \n181                                                     0   \n\n     How likely are you to join a Virtual Fashion Club?  \\\n0                                                    -1   \n1                                                     0   \n2                                                     0   \n3                                                     1   \n4                                                     1   \n..                                                  ...   \n177                                                   0   \n178                                                  -1   \n179                                                  -1   \n180                                                  -2   \n181                                                   0   \n\n     If you were to join a Virtual Fashion Club, how often would you visit its virtual platform?  \\\n0                                                                                              0   \n1                                                                                              2   \n2                                                                                              4   \n3                                                                                              3   \n4                                                                                              3   \n..                                                                                           ...   \n177                                                                                            3   \n178                                                                                            4   \n179                                                                                            3   \n180                                                                                            3   \n181                                                                                            3   \n\n     How many hours do you spend online per day?  \n0                                              2  \n1                                              4  \n2                                              3  \n3                                              4  \n4                                              3  \n..                                           ...  \n177                                            3  \n178                                            2  \n179                                            2  \n180                                            4  \n181                                            4  \n\n[182 rows x 6 columns]",
            "text/html": "<div>\n<style scoped>\n    .dataframe tbody tr th:only-of-type {\n        vertical-align: middle;\n    }\n\n    .dataframe tbody tr th {\n        vertical-align: top;\n    }\n\n    .dataframe thead th {\n        text-align: right;\n    }\n</style>\n<table border=\"1\" class=\"dataframe\">\n  <thead>\n    <tr style=\"text-align: right;\">\n      <th></th>\n      <th>ID</th>\n      <th>Where do you prefer to shop for fashion items such as clothing and accessories?</th>\n      <th>I would benefit from joining a Virtual Fashion Club.</th>\n      <th>How likely are you to join a Virtual Fashion Club?</th>\n      <th>If you were to join a Virtual Fashion Club, how often would you visit its virtual platform?</th>\n      <th>How many hours do you spend online per day?</th>\n    </tr>\n  </thead>\n  <tbody>\n    <tr>\n      <th>0</th>\n      <td>1</td>\n      <td>1</td>\n      <td>-2</td>\n      <td>-1</td>\n      <td>0</td>\n      <td>2</td>\n    </tr>\n    <tr>\n      <th>1</th>\n      <td>2</td>\n      <td>2</td>\n      <td>0</td>\n      <td>0</td>\n      <td>2</td>\n      <td>4</td>\n    </tr>\n    <tr>\n      <th>2</th>\n      <td>3</td>\n      <td>3</td>\n      <td>1</td>\n      <td>0</td>\n      <td>4</td>\n      <td>3</td>\n    </tr>\n    <tr>\n      <th>3</th>\n      <td>4</td>\n      <td>3</td>\n      <td>0</td>\n      <td>1</td>\n      <td>3</td>\n      <td>4</td>\n    </tr>\n    <tr>\n      <th>4</th>\n      <td>5</td>\n      <td>3</td>\n      <td>1</td>\n      <td>1</td>\n      <td>3</td>\n      <td>3</td>\n    </tr>\n    <tr>\n      <th>...</th>\n      <td>...</td>\n      <td>...</td>\n      <td>...</td>\n      <td>...</td>\n      <td>...</td>\n      <td>...</td>\n    </tr>\n    <tr>\n      <th>177</th>\n      <td>178</td>\n      <td>2</td>\n      <td>0</td>\n      <td>0</td>\n      <td>3</td>\n      <td>3</td>\n    </tr>\n    <tr>\n      <th>178</th>\n      <td>179</td>\n      <td>3</td>\n      <td>0</td>\n      <td>-1</td>\n      <td>4</td>\n      <td>2</td>\n    </tr>\n    <tr>\n      <th>179</th>\n      <td>180</td>\n      <td>3</td>\n      <td>1</td>\n      <td>-1</td>\n      <td>3</td>\n      <td>2</td>\n    </tr>\n    <tr>\n      <th>180</th>\n      <td>181</td>\n      <td>1</td>\n      <td>1</td>\n      <td>-2</td>\n      <td>3</td>\n      <td>4</td>\n    </tr>\n    <tr>\n      <th>181</th>\n      <td>182</td>\n      <td>2</td>\n      <td>0</td>\n      <td>0</td>\n      <td>3</td>\n      <td>4</td>\n    </tr>\n  </tbody>\n</table>\n<p>182 rows × 6 columns</p>\n</div>"
          },
          "metadata": {}
        }
      ],
      "execution_count": 15
    },
    {
      "cell_type": "code",
      "source": "# End of codebook",
      "metadata": {},
      "outputs": [],
      "execution_count": null
    }
  ]
}