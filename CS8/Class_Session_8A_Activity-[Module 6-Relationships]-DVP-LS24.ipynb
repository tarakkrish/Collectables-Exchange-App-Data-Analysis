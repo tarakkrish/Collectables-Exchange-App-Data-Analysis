{
  "metadata": {
    "kernelspec": {
      "name": "python",
      "display_name": "Python (Pyodide)",
      "language": "python"
    },
    "language_info": {
      "codemirror_mode": {
        "name": "python",
        "version": 3
      },
      "file_extension": ".py",
      "mimetype": "text/x-python",
      "name": "python",
      "nbconvert_exporter": "python",
      "pygments_lexer": "ipython3",
      "version": "3.8"
    }
  },
  "nbformat_minor": 4,
  "nbformat": 4,
  "cells": [
    {
      "cell_type": "code",
      "source": "# Class_Session_8A_Activity-[Module 6-Relationships]-DVP-LS24",
      "metadata": {
        "trusted": true
      },
      "outputs": [],
      "execution_count": null
    },
    {
      "cell_type": "code",
      "source": "# M6 - Student Exam Performance dataset - Programming Data Visualizations that Show Relationships\n# Created by Dr. Esther Mead, Assistant Professor of Computer Science, Southern Arkansas University\n# Created for Dr. Esther Mead, SAU MCIS 6333 DVP Long Summer 2024\n# Created July 19, 2024",
      "metadata": {
        "trusted": true
      },
      "outputs": [],
      "execution_count": null
    },
    {
      "cell_type": "code",
      "source": "# Dataset source: https://www.kaggle.com/datasets/whenamancodes/students-performance-in-exams\n# Dataset filename from original source is \"exams.csv\" but Dr. Mead revised the filename to \"Class_Session_8A_Activity.csv\".",
      "metadata": {
        "trusted": true
      },
      "outputs": [],
      "execution_count": null
    },
    {
      "cell_type": "code",
      "source": "# All lines beginning with the # symbol are comments and therefore will not be treated as executable code.\n# If you want to \"uncomment\" a line, simply remove the # symbol from the beginning of the line and it will then be treated as executable code.",
      "metadata": {
        "trusted": true
      },
      "outputs": [],
      "execution_count": null
    },
    {
      "cell_type": "code",
      "source": "# The code lines of this codebook must be run in the order in which they are presented. Running them out of order will cause errors.\n# In the JupyterLite web-based IDE, code blocks/cells can be run/executed by holding the \"shift\" keyboard button and pressing \"enter/return\". ",
      "metadata": {
        "trusted": true
      },
      "outputs": [],
      "execution_count": null
    },
    {
      "cell_type": "code",
      "source": "import piplite # When using the JupyterLite web-based environment, an \"import\" statement is used to load a layer called \"piplite\" that is needed for installing specific session-based libraries inside of a wrapper.\nawait piplite.install(\"seaborn\") # An \"await\" statement is used for installing (when/if later called on) a library for plotting called \"seaborn\" from within a piplite wrapper for use in a session within the JupyterLite web-based environment.",
      "metadata": {
        "trusted": true
      },
      "outputs": [],
      "execution_count": null
    },
    {
      "cell_type": "code",
      "source": "# Import required libraries\nimport seaborn as sns # An \"import\" statement is used for importing a library for plotting called \"seaborn\" and assigning it to a variable called \"sns\".\nimport pandas as pd # An \"import\" statement is used for importing a library for data processing called \"pandas\" and assigning it to a variable called \"pd\".\nimport numpy as np # An \"import\" statement is used for importing a library for scientific computing called \"numpy\" and assigning it to a variable called \"np\".\nimport pandas.testing as tm # For importing a package called \"testing\" from a library called \"pandas\" for comparing groups (testing that dataframes match appropriately be able to compare them) and assigning it to a variable called \"tm\".\nimport matplotlib.pyplot as plt # For importing a module called \"pyplot\" from a library called \"matplotlib\" for plotting and assigning it to a variable called \"plt\".\nfrom pandas.plotting import parallel_coordinates # For importing a module called \"parallel_coordinates\" from a library called \"pandas\" for creating parallel coordinates.",
      "metadata": {
        "trusted": true
      },
      "outputs": [],
      "execution_count": null
    },
    {
      "cell_type": "code",
      "source": "# Load a dataset of interest\ndf = pd.read_csv('Class_Session_8A_Activity.csv') # Use the \"read_csv()\" function from a libray called \"pandas\" that was imported as \"pd\" to load a CSV dataset file that has the filename \"Class_Session_8A_Activity.csv\" and assign it to a variable called \"df\".",
      "metadata": {
        "trusted": true
      },
      "outputs": [],
      "execution_count": null
    },
    {
      "cell_type": "code",
      "source": "# See what variables (columns) are in the dataset and inspect for any possible problem areas.\ndf.head() # Use the \"head()\" function to show the first five rows of a dataset that was assigned to a variable called \"df\".",
      "metadata": {
        "trusted": true
      },
      "outputs": [],
      "execution_count": null
    },
    {
      "cell_type": "code",
      "source": "# Space intentionally blank to separate sections.",
      "metadata": {
        "trusted": true
      },
      "outputs": [],
      "execution_count": null
    },
    {
      "cell_type": "code",
      "source": "# Space intentionally blank to separate sections.",
      "metadata": {
        "trusted": true
      },
      "outputs": [],
      "execution_count": null
    },
    {
      "cell_type": "code",
      "source": "# The next few code sections are for doing some required data processing with the above dataset so that we can make data visualizations that show relationships.",
      "metadata": {
        "trusted": true
      },
      "outputs": [],
      "execution_count": null
    },
    {
      "cell_type": "code",
      "source": "# Create a list of the numerical features in the dataset for later use.\nnumerical_features = [feature for feature in df.columns if df[feature].dtype != 'O'] # Write a \"for loop\" that iterates over the columns in the dataset to identify each column that contains data that is of a numerical type (i.e. data that is not of a text type) and save the results as a variable called \"numerical_features\".",
      "metadata": {
        "trusted": true
      },
      "outputs": [],
      "execution_count": null
    },
    {
      "cell_type": "code",
      "source": "numerical_features # Call the new \"numerical_features\" variable to see what numerical features are contained in the dataset.",
      "metadata": {
        "trusted": true
      },
      "outputs": [],
      "execution_count": null
    },
    {
      "cell_type": "code",
      "source": "# Create a list of the categorical features in the dataset for later use.\ncategorical_features = [feature for feature in df.columns if df[feature].dtype == 'O'] # Write a \"for loop\" that iterates over the columns in the dataset to identify each column that is of a non-numerical type (i.e. data that is of a text type) and save the results as a new variable called \"categorical_features\".",
      "metadata": {
        "trusted": true
      },
      "outputs": [],
      "execution_count": null
    },
    {
      "cell_type": "code",
      "source": "categorical_features # Call the new \"categorical_features\" variable to see what categorical features are contained in the dataset.",
      "metadata": {
        "trusted": true
      },
      "outputs": [],
      "execution_count": null
    },
    {
      "cell_type": "code",
      "source": "# Use the rename() function to rename some variables of interest (columns in the dataset) so that we can optimize them for data visualization. Add an argument to overwrite the currently-existing names with the new ones.\ndf.rename(columns = {\"race/ethnicity\":\"Ethnicity\", \"math score\":\"Math\", \"reading score\":\"Reading\", \"writing score\":\"Writing\"}, inplace = True) # You could the same thing with other variables of interest if you wanted to or needed to.",
      "metadata": {
        "trusted": true
      },
      "outputs": [],
      "execution_count": null
    },
    {
      "cell_type": "code",
      "source": "print(df.columns) # Use the \"print()\" function and the \".columns\" property together to show a list of the column names of a data frame on the screen along with index and data type information.",
      "metadata": {
        "trusted": true
      },
      "outputs": [],
      "execution_count": null
    },
    {
      "cell_type": "code",
      "source": "# Do some data engineering to create new features (columns) to add to your dataset.\ndf['Total Score'] = (df['Math'] + df['Reading'] + df['Writing'] ) # Create a new \"Total Score\" feature by adding the three exam scores (based on their optimized names Math, Reading, Writing).",
      "metadata": {
        "trusted": true
      },
      "outputs": [],
      "execution_count": null
    },
    {
      "cell_type": "code",
      "source": "# Create a new average score feature based on the three exam scores contained in the dataset\ndf['Average Score'] = df['Total Score']/3 # Create a new \"Average Score\" feature by dividing the new \"Total Score\" feature divided by the count of the three exam scores.",
      "metadata": {
        "trusted": true
      },
      "outputs": [],
      "execution_count": null
    },
    {
      "cell_type": "code",
      "source": "df.head() # To see the result of your work creating the new featues, use a function called \"head()\" to show the first five rows of the dataset that was assigned to a variable called \"df\".",
      "metadata": {
        "trusted": true
      },
      "outputs": [],
      "execution_count": null
    },
    {
      "cell_type": "code",
      "source": "# Make a new data frame with only selected variables of interest from the dataset.\ndf_ethnicity = df[['Ethnicity', 'Math', 'Reading', 'Writing']].copy() # Use the \"copy()\" function to create a new data frame called \"df_ethnicity\" by copying selected columns from the already-existing data frame called \"df\".",
      "metadata": {
        "trusted": true
      },
      "outputs": [],
      "execution_count": null
    },
    {
      "cell_type": "code",
      "source": "print(df_ethnicity) # Use the \"print()\" function to view the first five and last five rows of the data frame.",
      "metadata": {
        "trusted": true
      },
      "outputs": [],
      "execution_count": null
    },
    {
      "cell_type": "code",
      "source": "# Along with using the \"round()\" function of the \"numpy\" library that was imported as \"np\" to designate the number of decimals desired to be in a resultant set of numbers, use the \"pivot_table()\" function to create a pivot table to group the data of a designated data frame by a categorical (nominal) variable of interest and to add an argument called \"aggfunc\" to desigante the desire is to show the average exam scores for each group contained in a values list; assign the pivot table to a variable called \"pivot\".\npivot = np.round(df.pivot_table(index =['Ethnicity'],\n                       values =['Math', 'Reading', 'Writing'],\n                       aggfunc ='mean'), 2)\nprint(pivot) # Use the \"print()\" function to view the entire contents of the new pivot table.",
      "metadata": {
        "trusted": true
      },
      "outputs": [],
      "execution_count": null
    },
    {
      "cell_type": "code",
      "source": "# Convert the pivot table to a new data frame so that we can optimize it for data visualization.\nperformance_by_ethnicity = pivot.reset_index() # Use the \"reset_index()\" function to ensure that the new data frame is optmized for data visualization (in this example, we want our Ethnicity column to be the first column in our data frame).",
      "metadata": {
        "trusted": true
      },
      "outputs": [],
      "execution_count": null
    },
    {
      "cell_type": "code",
      "source": "performance_by_ethnicity # Call the new \"performance_by_ethnicity\" dataframe to see if the contents look correctly generated.",
      "metadata": {
        "trusted": true
      },
      "outputs": [],
      "execution_count": null
    },
    {
      "cell_type": "code",
      "source": "# Space intentionally blank to separate sections.",
      "metadata": {
        "trusted": true
      },
      "outputs": [],
      "execution_count": null
    },
    {
      "cell_type": "code",
      "source": "# Space intentionally blank to separate sections.",
      "metadata": {
        "trusted": true
      },
      "outputs": [],
      "execution_count": null
    },
    {
      "cell_type": "code",
      "source": "# Create the basic structure for a Parallel Coordinates plot using your new specialized data frame that you created above and add some customization components.\nparallel_coordinates(performance_by_ethnicity, 'Ethnicity', color=[\"lime\", \"tomato\",\"dodgerblue\", \"blueviolet\", \"yellow\"]) # Designate custom colors for each category of the chosen group variable in the order in which you want them to be used. You could also choose a different categorical variable (nominal level of measurement) from the dataset if you wanted to or needed to.\nplt.title(\"Comparison of Average Exam Performance Based on Ethnicity of \\nTested Student Population (masked ethnicity categories)\") # Use the title() function of matplotlib to add an optimal customized title to your DV (the \"\\n\" will designate the text that follows it to be positioned on a new line).\nplt.legend(bbox_to_anchor=(1.05, 1.0), loc='upper left') # Use the \"legend()\" function of the \"pyplot\" module from the \"matplotlib\" library that was imported as \"plt\" to move the legend outside of the plot so that we can see all of the lines in the chart. You can adjust the values to fine-tune its position.\nplt.savefig(\"StudentsPerformance-ParallelCoordinatesPlot-Python.png\") # Use the \"savefig()\" function of the \"pyplot\" module from the \"matplotlib\" library that was imported as \"plt\" to save the DV to a file called \"StudentsPerformance-ParallelCoordinatesPlot-Python.png\". If any text on your DV is cut off in your saved image, use the \"right-click, copy output to clipboard, paste\" method to insert DVs into assignment or reports.\nplt.show() # Use the \"show()\" function from the \"pyplot\" module from the \"matplotlib\" library that was imported as \"plt\" to show the chart. You don't always need this; it depends on the integrated development environment (IDE).\n# Explore the source from which this code was adapted: https://www.kaggle.com/code/crklausenburg/multivariate\n# Experiment with customizing your parallel coordinates plot: https://www.python-graph-gallery.com/parallel-plot/\n# Experiment with customizing your colors by choosing different \"Named Colors\" from: https://matplotlib.org/stable/gallery/color/named_colors.html",
      "metadata": {
        "trusted": true
      },
      "outputs": [],
      "execution_count": null
    },
    {
      "cell_type": "code",
      "source": "# Space intentionally blank to separate sections.",
      "metadata": {
        "trusted": true
      },
      "outputs": [],
      "execution_count": null
    },
    {
      "cell_type": "code",
      "source": "# Space intentionally blank to separate sections.",
      "metadata": {
        "trusted": true
      },
      "outputs": [],
      "execution_count": null
    },
    {
      "cell_type": "code",
      "source": "# Create the basic structure for a Radar Chart (Polar Chart) and add some customization components.\nfig = plt.figure(figsize=(8,6)) # Use the \"figure()\" function from the \"pyplot\" module from the \"matplotlib\" library that was imported as \"plt\" to create the figure object. Add an argument for manually adjusting the figure size.\nax = fig.add_subplot(111, projection=\"polar\") # Use the \"add_subplot()\" function to add the polar projection grid to the figure.\ntheta = np.arange(len(performance_by_ethnicity) + 1) / float(len(performance_by_ethnicity)) * 2 * np.pi # The theta parameter of the polar coordinate system defines the angle from the axis.\nvalues1 = performance_by_ethnicity['Math'].values # Designate a variable (column from the data frame) to be the first (inner-most) plotted line on the chart.\nvalues1 = np.append(values1, values1[0]) # Use the \"append()\" function to add the data that you defined to be the first inner-most variable to the end of an array.\nvalues2 = performance_by_ethnicity['Reading'].values # Designate a second variable (column from the data frame) to be the second-from-center plotted line on the chart.\nvalues2 = np.append(values2, values2[0]) # Use the \"append()\" function to add the data that you defined to be the second-from-center variable to the end of an array.\nvalues3 = performance_by_ethnicity['Writing'].values # Designate a third variable (column from the data frame) to be the third-from-center plotted line on the chart.\nvalues3 = np.append(values3, values3[0]) # Use the \"append()\" function to add the data that you defined to be the third-from-center variable to the end of an array.\n# Draw the polygon, mark the points for each angle/value combination, and add a customized label for each variable to show up on the DV.\nl1, = ax.plot(theta, values1, color=\"C2\", marker=\"o\", label=\"Math\") # This will be the contents of the inner-most line on the chart.\nl2, = ax.plot(theta, values2, color=\"C3\", marker=\"o\", label=\"Reading\") # This will be the contents of the second-from-center line on the chart.\nl3, = ax.plot(theta, values3, color=\"C4\", marker=\"o\", label=\"Writing\") # This will be the contents of the third-from-center line on the chart.\nplt.xticks(theta[:-1], performance_by_ethnicity['Ethnicity'], color='grey', size=10) # Use \"the xticks()\" function of the \"pyplot\" module from the \"matplotlib\" library that was imported as \"plt\" to adjust the location of x axis ticks and adjust the font size and color.\nax.tick_params(pad=10) # Use the \"ax.tick_params()\" function of the \"pyplot\" module from the \"matplotlib\" library that was imported as \"plt\" to adjust the distance of the axes tick labels from the plot.\nax.set_ylim(50) # Use the \"ax.set_ylim()\" function of the \"pyplot\" module from the \"matplotlib\" library that was imported as \"plt\" to set a new min of the y-axes (instead of zero); you can experiment with this.\n\n# Optional customizations to go in this section\n# Fill the area of the polygon with green, red, purple, and some transparency\n#ax.fill(theta, values1, 'green', alpha=0.05) # Uncomment this code line by removing only the first # at the beginning if you want to fill the polygons of your radar chart. Experiment with the transparency level.\n#ax.fill(theta, values2, 'red', alpha=0.05) # Uncomment this code line by removing only the first # at the beginning if you want to fill the polygons of your radar chart. Experiment with the transparency level.\n#ax.fill(theta, values3, 'purple', alpha=0.05) # Uncomment this code line by removing only the first # at the beginning if you want to fill the polygons of your radar chart. Experiment with the transparency level.\n\nax.set_title(\"Comparison of Average Exam Performance Based on Ethnicity of Tested Student Population\\n(masked ethnicity categories)\", pad=15) # Use the \"ax.set_title()\" function of the \"matplotlib\" library to adjust the position of the title to ensure that there is enough space between it and the chart. Experiement with the placement of the \"\\n\" new line character in the long title (and even add additional ones if needed).\n# Repeated here for emphasis: Experiement with the placement of the \"\\n\" new line character in long titles (and even add additional ones if needed).\n#plt.title(\"Comparison of Average Exam Performance Based on Ethnicity of Tested Student Population\\n(masked ethnicity categories)\").set_position([0.5, 1.10]) # In some integrated development environments (IDEs), the above line doesn't work and this one does (and vice versa). If you need to use this line uncomment it by removing only the first # at the beginning.\nplt.legend(loc=\"best\") # Use the \"legend()\" function of the \"pyplot\" module from the \"matplotlib\" library that was imported as \"plt\" to show the legend, using the labels you designated above (only when you are showing more than 1 polygon).\nplt.savefig(\"StudentsPerformance-RadarChart-Python.png\") # Use the \"savefig()\" function of the \"pyplot\" module from the \"matplotlib\" library that was imported as \"plt\" to save the DV to a file called \"StudentsPerformance-RadarChart-Python.png\". If any text on your DV is cut off in your saved image, use the \"right-click, copy output to clipboard, paste\" method to insert DVs into assignment or reports.\nplt.show() # Use the \"show()\" function of the \"pyplot\" module from the \"matplotlib\" library that was imported as \"plt\" to show the chart. You don't always need this; it depends on the integrated development environment (IDE).\n\n# Explore the source from which this code was adapted: https://stackoverflow.com/questions/60231146/how-can-i-turn-my-dataframe-into-a-radar-chart-using-python\n# Experiment with customizing your radar chart: https://www.python-graph-gallery.com/390-basic-radar-chart\n\n# For advanced students, if you want to try to make an interactive radar or polar chart with plotly:\n# https://plotly.com/python/radar-chart/\n# https://plotly.com/python/polar-chart/",
      "metadata": {
        "trusted": true
      },
      "outputs": [],
      "execution_count": null
    },
    {
      "cell_type": "code",
      "source": "# Space intentionally blank to separate sections.",
      "metadata": {
        "trusted": true
      },
      "outputs": [],
      "execution_count": null
    },
    {
      "cell_type": "code",
      "source": "# Space intentionally blank to separate sections.",
      "metadata": {
        "trusted": true
      },
      "outputs": [],
      "execution_count": null
    },
    {
      "cell_type": "code",
      "source": "# We next want to make a new data frame from our original dataset so that we can create some scatter plots for showing relationships.\ndf.head() # Use the \"head()\" function to recall what our original dataframe looked like.",
      "metadata": {
        "trusted": true
      },
      "outputs": [],
      "execution_count": null
    },
    {
      "cell_type": "code",
      "source": "# Now we can decide which columns we want to use to make a new data frame from our original dataset so that we can create some scatter plots for showing relationships.\nscatter = df[['Math', 'Reading', 'Writing']].copy() # Use the \"copy()\" function to create a new data frame called \"scatter\" by copying selected columns from the already-existing data frame called \"df\".",
      "metadata": {
        "trusted": true
      },
      "outputs": [],
      "execution_count": null
    },
    {
      "cell_type": "code",
      "source": "print(scatter) # Use the \"print()\" function to view the first five and last five rows of the new data frame.",
      "metadata": {
        "trusted": true
      },
      "outputs": [],
      "execution_count": null
    },
    {
      "cell_type": "code",
      "source": "# To easily generate a scatter plot for each combination of exam scores, we can define the variables that we want to use. There are numerous techniques for doing this. Here is one way.\nMath = scatter['Math']\nReading = scatter['Reading']\nWriting = scatter['Writing']",
      "metadata": {
        "trusted": true
      },
      "outputs": [],
      "execution_count": null
    },
    {
      "cell_type": "code",
      "source": "# Create the basic structure for a Scatter Plot and add some customization components.\nplt.scatter(Math, Reading, c = \"orange\") # Use the \"scatter()\" function of the \"pyplot\" module from the \"matplotlib\" library that was imported as \"plt\" to create a scatter plot to compare Math and Reading exam scores to see if there appears to be any relationship. # You can change the color here.\nplt.xlabel(\"Math\") # Use the \"xlabel()\" function of the \"pyplot\" module from the \"matplotlib\" library that was imported as \"plt\" to customize the x-axis label.\nplt.ylabel(\"Reading\") # Use the \"ylabel()\" function of the \"pyplot\" module from the \"matplotlib\" library that was imported as \"plt\" to customize the y-axis label.\nplt.title(\"Relationship Between Math and Reading Exam Scores\\nfor a Tested Student Population\") # Use the \"title()\" function of the \"pyplot\" module from the \"matplotlib\" library that was imported as \"plt\" to insert an optimal customized chart title.\n# Repeated here for emphasis: Experiement with the placement of the \"\\n\" new line character in long titles (and even add additional ones if needed).\nplt.savefig(\"Math_and_Reading_Exams-Scatter_Plot-Python.png\") # Use the \"savefig()\" function of the \"pyplot\" module from the \"matplotlib\" library that was imported as \"plt\" to save the DV to a file called \"Math_and_Reading_Exams-Scatter_Plot-Python.png\". If any text on your DV is cut off in your saved image, use the \"right-click, copy output to clipboard, paste\" method to insert DVs into assignment or reports.\nplt.show() # Use the \"show()\" function of the \"pyplot\" module from the \"matplotlib\" library that was imported as \"plt\" to show the chart. You don't always need this; it depends on the integrated development environment (IDE).",
      "metadata": {
        "trusted": true
      },
      "outputs": [],
      "execution_count": null
    },
    {
      "cell_type": "code",
      "source": "# Create the basic structure for a Scatter Plot and add some customization components.\nplt.scatter(Math, Writing, c = \"blue\") # Use the \"scatter()\" function of the \"pyplot\" module from the \"matplotlib\" library that was imported as \"plt\" to create a scatter plot to compare Math and Writing exam scores to see if there appears to be any relationship. # You can change the color here.\nplt.xlabel(\"Math\") # Use the \"xlabel()\" function of the \"pyplot\" module from the \"matplotlib\" library that was imported as \"plt\" to customize the x-axis label.\nplt.ylabel(\"Writing\") # Use the \"ylabel()\" function of the \"pyplot\" module from the \"matplotlib\" library that was imported as \"plt\" to customize the y-axis label.\nplt.title(\"Relationship Between Math and Writing Exam Scores\\nfor a Tested Student Population\") # Use the \"title()\" function of the \"pyplot\" module from the \"matplotlib\" library that was imported as \"plt\" to insert an optimal customized chart title.\n# Repeated here for emphasis: Experiement with the placement of the \"\\n\" new line character in long titles (and even add additional ones if needed).\nplt.savefig(\"Math_and_Writing_Exams-Scatter_Plot-Python.png\") # Use the \"savefig()\" function of the \"pyplot\" module from the \"matplotlib\" library that was imported as \"plt\" to save the DV to a file called \"Math_and_Writing_Exams-Scatter_Plot-Python.png\"\". If any text on your DV is cut off in your saved image, use the \"right-click, copy output to clipboard, paste\" method to insert DVs into assignment or reports.\nplt.show() # Use the \"show()\" function of the \"pyplot\" module from the \"matplotlib\" library that was imported as \"plt\" to show the chart. You don't always need this; it depends on the integrated development environment (IDE).",
      "metadata": {
        "trusted": true
      },
      "outputs": [],
      "execution_count": null
    },
    {
      "cell_type": "code",
      "source": "# Create the basic structure for a Scatter Plot and add some customization components.\nplt.scatter(Writing, Reading, c = \"green\") # Use the \"scatter()\" function of the \"pyplot\" module from the \"matplotlib\" library that was imported as \"plt\" to create a scatter plot to compare Writing and Reading exam scores to see if there appears to be any relationship. # You can change the color here.\nplt.xlabel(\"Writing\") # Use the \"xlabel()\" function of the \"pyplot\" module from the \"matplotlib\" library that was imported as \"plt\" to customize the x-axis label.\nplt.ylabel(\"Reading\") # Use the \"ylabel()\" function of the \"pyplot\" module from the \"matplotlib\" library that was imported as \"plt\" to customize the y-axis label.\nplt.title(\"Relationship Between Writing and Reading Exam Scores\\nfor a Tested Student Population\") # Use the \"title()\" function of the \"pyplot\" module from the \"matplotlib\" library that was imported as \"plt\" to insert an optimal customized chart title.\n# Repeated here for emphasis: Experiement with the placement of the \"\\n\" new line character in long titles (and even add additional ones if needed).\nplt.savefig(\"Writing_and_Reading_Exams-Scatter_Plot-Python.png\") # Use the \"savefig()\" function of the \"pyplot\" module from the \"matplotlib\" library that was imported as \"plt\" to save the DV to a file called \"Writing_and_Reading_Exams-Scatter_Plot-Python.png\". If any text on your DV is cut off in your saved image, use the \"right-click, copy output to clipboard, paste\" method to insert DVs into assignment or reports.\nplt.show() # Use the \"show()\" function of the \"pyplot\" module from the \"matplotlib\" library that was imported as \"plt\" to show the chart. You don't always need this; it depends on the integrated development environment (IDE).",
      "metadata": {
        "trusted": true
      },
      "outputs": [],
      "execution_count": null
    },
    {
      "cell_type": "code",
      "source": "# Generate a correlation matrix of R-squared scores, also called correlation coefficients, which allows us to determine if there is any relationship between the variables.\n# Correlation coefficients range from -1 to +1, where the extremes indicate a strong relationship and 0 indicates the absence of a relationship.\n# A negative correlation coefficient indicates that the variables move in oppposite directions in relation to each other (i.e., higher values of one are associated with lower values of the other).\n# A positive correlation coefficient indicates that the variables move in the same direction in relation to each other (i.e., higher values of one are associated with higher values of the other; and lower values of one are associated with lower values of the other).\nscatter.corr(method = \"pearson\") # Use the \"corr()\" function to generate a correlation matrix of R-squared scores for each variable pair in the data frame called \"scatter\".\n# The default correlation analysis method in Python is Pearson, and it is the appropriate statistic to use for data that is on the interval or ratio level of measurement.\n# You will need to revise the \"corr()\" function to include \"spearman\" in the argument if you are using ordinal data.\n# Use these values in your written Data Insights that accompany your DVs in assignments and reports.",
      "metadata": {
        "trusted": true
      },
      "outputs": [],
      "execution_count": null
    },
    {
      "cell_type": "code",
      "source": "# Space intentionally blank to separate sections.",
      "metadata": {
        "trusted": true
      },
      "outputs": [],
      "execution_count": null
    },
    {
      "cell_type": "code",
      "source": "# Space intentionally blank to separate sections.",
      "metadata": {
        "trusted": true
      },
      "outputs": [],
      "execution_count": null
    },
    {
      "cell_type": "code",
      "source": "# Warning! The sections below do not have fully optimized code documentation, and will need to be optimized before use in employee training or workplace reusability.",
      "metadata": {
        "trusted": true
      },
      "outputs": [],
      "execution_count": null
    },
    {
      "cell_type": "code",
      "source": "# Additional exercises for ADVANCED students (OPTIONAL).\n# Try using the \"scatter()\" function of the \"pyplot\" module from the \"matplotlib\" library that was imported as \"plt\" to put all of the exam comparisons on the same plot.\n# If you use the DVs that are generated from this advanced code block in any assignment or project, don't forget to discuss the correlation coefficients that you generated earlier.\n# You can experiment with changing colors and other customizations.\nplt.scatter(Math, Reading, c =\"pink\",\n            label = \"Math & Reading\",\n            linewidths = 1,\n            marker =\"s\",\n            edgecolor =\"green\",\n            alpha = 0.7, # To increase or decrease the opacity of the points.\n            s = 40) # To increase or decrease the size of the points.\n \nplt.scatter(Math, Writing, c =\"yellow\",\n            label = \"Math & Writing\",\n            linewidths = 1,\n            marker =\"^\",\n            edgecolor =\"red\",\n            alpha = 0.7, # To increase or decrease the opacity of the points.\n            s = 40) # To increase or decrease the size of the points.\n\nplt.scatter(Writing, Reading, c =\"blue\",\n            label = \"Writing & Reading\",\n            linewidths = 1,\n            marker =\"o\",\n            edgecolor =\"orange\",\n            alpha = 0.5, # To increase or decrease the opacity of the points.\n            s = 40) # To increase or decrease the size of the points.\n \nplt.xlabel(\"Score on 1st Exam in Comparison Group\") # Use the \"xlabel()\" function of the \"pyplot\" module from the \"matplotlib\" library that was imported as \"plt\" to customize the x-axis label.\nplt.ylabel(\"Score on 2nd Exam in Comparison Group\") # Use the \"ylabel()\" function of the \"pyplot\" module from the \"matplotlib\" library that was imported as \"plt\" to customize the y-axis label.\nplt.title(\"Relationship Between Exam Scores\\nfor a Tested Student Population\", size=\"13\") # Use the title() function of matplotlib to insert an optimal customized chart title. Add an argument to adjust the text font size..\n# Repeated here for emphasis: Experiement with the placement of the \"\\n\" new line character in long titles (and even add additional ones if needed).\nplt.legend(loc=\"best\", title=\"$\\\\bf{Comparison}$ $\\\\bf{Groups}$\") # Use the \"legend()\" function of the \"pyplot\" module from the \"matplotlib\" library that was imported as \"plt\" to adjust the location of the legend, to add a customized legend title with bolded text.\nplt.savefig(\"Math_Reading_Writing_Exams-Scatter_Plot-Python.png\") # Use the \"savefig()\" function of the \"pyplot\" module from the \"matplotlib\" library that was imported as \"plt\" to save the DV to a file called \"Math_Reading_Writing_Exams-Scatter_Plot-Python.png\". If any text on your DV is cut off in your saved image, use the \"right-click, copy output to clipboard, paste\" method to insert DVs into assignment or reports.\nplt.show() # Use the \"show()\" function of the \"pyplot\" module from the \"matplotlib\" library that was imported as \"plt\" to show the chart. You don't always need this; it depends on the development environment.\n\n# Experiment with cusomtizing line marker types: https://matplotlib.org/stable/api/markers_api.html\n# Experiment with other line argument options: https://matplotlib.org/stable/api/_as_gen/matplotlib.pyplot.scatter.html",
      "metadata": {
        "trusted": true
      },
      "outputs": [],
      "execution_count": null
    },
    {
      "cell_type": "code",
      "source": "# Space intentionally blank to separate sections.",
      "metadata": {
        "trusted": true
      },
      "outputs": [],
      "execution_count": null
    },
    {
      "cell_type": "code",
      "source": "# Space intentionally blank to separate sections.",
      "metadata": {
        "trusted": true
      },
      "outputs": [],
      "execution_count": null
    },
    {
      "cell_type": "code",
      "source": "# Space intentionally blank to separate sections.",
      "metadata": {
        "trusted": true
      },
      "outputs": [],
      "execution_count": null
    },
    {
      "cell_type": "code",
      "source": "# Space intentionally blank to separate sections.",
      "metadata": {
        "trusted": true
      },
      "outputs": [],
      "execution_count": null
    },
    {
      "cell_type": "code",
      "source": "# All below are additional exercises for ADVANCED students only (OPTIONAL).\n# Not all code steps are listed and you have to rely on what you have learned above in earlier steps (such as renaming variables to optimize for data visualization, etc.).\n# Do not include in professional reports without optimizing all of the chart components by inserting your own code that you learned from the current and past class sessions.\n# None of the below code blocks are fully nor optimally documented. You (the advanced student) need to fully document all below code blocks before using them for employment interviewing and training purposes.\n# All of the below code blocks are NOT fully nor optimally documented. You (the advanced student) need to fully document all below code blocks before using them for employment interviewing and training purposes.",
      "metadata": {
        "trusted": true
      },
      "outputs": [],
      "execution_count": null
    },
    {
      "cell_type": "code",
      "source": "# Load the dataset\ndata = pd.read_csv('Class_Session_8A_Activity.csv')\n# Take a look at the data\ndata.head()",
      "metadata": {
        "trusted": true
      },
      "outputs": [],
      "execution_count": null
    },
    {
      "cell_type": "code",
      "source": "# Define and segregate the categorical variables and the numeric variables of the dataset.\ncat_cols = ['gender', 'race/ethnicity', 'parental level of education', 'lunch', 'test preparation course']\nnum_cols = ['math score', 'reading score', 'writing score']\n# Don't forget to rename the variables on your own.",
      "metadata": {
        "trusted": true
      },
      "outputs": [],
      "execution_count": null
    },
    {
      "cell_type": "code",
      "source": "# Generate a scatter plot for each combination of categorical variable by exam type.\n# Don't forget to add code to optimize all components of the charts before use (e.g., add optimal chart titles, improve axis titles and legend titles, optimize font sizes, etc.).\n# If you want to discuss the correlation coefficients for these variables in this dataset, you must first generate a correlation matrix like you learned above; then you will be able to determine if and where there is any relationship between variables.\nnum_pairs = [[num_cols[0], num_cols[1]], \n         [num_cols[0], num_cols[2]], \n         [num_cols[1], num_cols[2]]]\n\nfix, ax = plt.subplots(figsize=(15,25), nrows=5, ncols=3)\n\nfor i,p in enumerate(num_pairs):\n    for j,hue in enumerate(cat_cols):\n        sns.scatterplot(data=data, x=p[0], y=p[1], hue=hue, ax=ax[j,i])\n\nplt.tight_layout()\nplt.show() # Use the \"show()\" function to show the chart on the screen. You don't always need this; it depends on the integrated development environment (IDE).",
      "metadata": {
        "trusted": true
      },
      "outputs": [],
      "execution_count": null
    },
    {
      "cell_type": "code",
      "source": "# Next, get with your team and experiment with using all of the Data Visualiation Programming skills that you have learned from engaging in this Class Session 8A Activity on your assigned DVP TCP Use Case datasets.",
      "metadata": {
        "trusted": true
      },
      "outputs": [],
      "execution_count": null
    },
    {
      "cell_type": "code",
      "source": "# End of coodbook",
      "metadata": {
        "trusted": true
      },
      "outputs": [],
      "execution_count": null
    }
  ]
}