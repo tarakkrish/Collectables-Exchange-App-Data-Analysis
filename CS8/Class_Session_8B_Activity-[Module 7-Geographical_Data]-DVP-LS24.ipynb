{
  "metadata": {
    "kernelspec": {
      "name": "python",
      "display_name": "Python (Pyodide)",
      "language": "python"
    },
    "language_info": {
      "codemirror_mode": {
        "name": "python",
        "version": 3
      },
      "file_extension": ".py",
      "mimetype": "text/x-python",
      "name": "python",
      "nbconvert_exporter": "python",
      "pygments_lexer": "ipython3",
      "version": "3.8"
    }
  },
  "nbformat_minor": 4,
  "nbformat": 4,
  "cells": [
    {
      "cell_type": "code",
      "source": "# Class_Session_8B_Activity-[Module 7-Geographical Data]-DVP-LS24",
      "metadata": {
        "trusted": true
      },
      "outputs": [],
      "execution_count": null
    },
    {
      "cell_type": "code",
      "source": "# M7 - Programming Data Visualizations that Show Geographical Data\n# Created by Dr. Esther Mead, Assistant Professor of Computer Science, Southern Arkansas University\n# Created for Dr. Esther Mead, SAU MCIS 6333 DVP Long Summer 2024\n# Created July 19, 2024",
      "metadata": {
        "trusted": true
      },
      "outputs": [],
      "execution_count": null
    },
    {
      "cell_type": "code",
      "source": "# This Class_Session_8B_Activity .ipynb requires the use of your team's D8 dataset.\n# Although this exercise does not actually use your team's D5 dataset, it is important to realize that the two datasets both contain information about the target customers who participated in the focus group for your assigned DVP TCP Use Case client.",
      "metadata": {
        "trusted": true
      },
      "outputs": [],
      "execution_count": null
    },
    {
      "cell_type": "code",
      "source": "# Dataset source: Dr. Esther Ledelle Mead, Southern Arkansas University, Assistant Professor of Computer Science, elmead@saumag.edu",
      "metadata": {
        "trusted": true
      },
      "outputs": [],
      "execution_count": null
    },
    {
      "cell_type": "code",
      "source": "# Hypothetical case: Recall from the Class Session 4 Actviity - Creating Data Distribution DVs Using DVP TCP D5 [wordcloud], that, in addition to survey research with customers in their target market, your Use Case Clients hired another research team to conduct a focus group wherein they asked a small group of target customers who did not take part in the survey research what they wanted in the specific product or service being offered.\n# For example, if your use case is Mobile Snack Store, the target customers in the focus group were asked to discuss: \"What do you want in a mobile snack store with delivery service?\"\n# OR if your use case is Yoga Studio, \"What do you want in a new yoga studio?\", etc.\n# During the focus group, the GPS coordinates of where each target customer lived is another data point that was captured and it was stored in your team's D8 dataset.\n# (Reminder: This is an entirely hypothetical case and does not contain real-world data, but instead contains data contrived by Dr. Mead for educational purposes.)",
      "metadata": {
        "trusted": true
      },
      "outputs": [],
      "execution_count": null
    },
    {
      "cell_type": "code",
      "source": "import piplite # When using the JupyterLite web-based environment, an \"import\" statement is used to load a layer called \"piplite\" that is needed for installing specific session-based libraries inside of a wrapper.\nawait piplite.install(\"openpyxl\") # An \"await\" statement is used for installing (when/if later called on) a library for working with xlsx files called \"openpyxl\" from within a piplite wrapper for use in a session within the JupyterLite web-based environment.\nawait piplite.install(\"folium\") # An \"await\" statement is used for installing (when/if later called on) a library for visualizing geospatial data called \"folium\" from within a piplite wrapper for use in a session within the JupyterLite web-based environment.",
      "metadata": {
        "trusted": true
      },
      "outputs": [],
      "execution_count": 15
    },
    {
      "cell_type": "code",
      "source": "import pandas as pd # An \"import\" statement is used for importing a library for data processing called \"pandas\" and assigning it to a variable called \"pd\".\nimport folium # An \"import\" statement is used for importing a library for visualizing geospatial data called \"folium\".",
      "metadata": {
        "trusted": true
      },
      "outputs": [],
      "execution_count": 16
    },
    {
      "cell_type": "code",
      "source": "# Create a base map centered around San Diego, which is where all of the target customers for the Use Case focus groups were selected from, and assign it to a variable called \"m\".\nm = folium.Map(location=[32.7157, -117.1611], zoom_start=9)",
      "metadata": {
        "trusted": true
      },
      "outputs": [],
      "execution_count": 17
    },
    {
      "cell_type": "code",
      "source": "# Use the \"read_excel()\" function from a library called \"pandas\" that was imported as \"pd\" to read in a file that contains the coordinates from your team's Use Case D8 dataset obtained from Dr. Mead.\ncoordinates = pd.read_excel(\"D8.xlsx\") # Truncate your filename down to simply \"D8.xlsx\" so that the code in this starter codebook will work. If any output is showing in the example executed code of the freshly-loaded-in version of this .ipynb, realize that it is for a random Use Case that Dr. Mead used to create this illustrative codebook, and that your team's Use Case dataset will produce different results.",
      "metadata": {
        "trusted": true
      },
      "outputs": [],
      "execution_count": 20
    },
    {
      "cell_type": "code",
      "source": "# Call the \"coordinates\" variable to view the contents. You will see that it contains two columns, \"Latitude\" and \"Longitude\" of the GPS data for each of the target customers who participated in the focus group for your Use Case client.\ncoordinates",
      "metadata": {
        "trusted": true
      },
      "outputs": [
        {
          "execution_count": 21,
          "output_type": "execute_result",
          "data": {
            "text/plain": "     Latitude   Longitude\n0   32.855681 -117.293285\n1   32.697760 -117.416096\n2   32.805054 -117.060191\n3   32.678860 -117.500743\n4   32.678896 -117.012186\n5   32.559604 -117.413058\n6   32.595945 -116.986573\n7   32.706699 -117.427006\n8   32.556429 -117.146530\n9   32.617542 -117.103584\n10  32.742573 -117.352842\n11  32.543887 -117.212079\n12  32.675475 -116.814146\n13  32.667252 -117.354360\n14  32.869225 -116.821906\n15  32.665397 -117.251830\n16  32.772372 -116.858530\n17  32.788034 -117.003094\n18  32.757034 -117.543075\n19  32.669788 -117.222902\n20  32.593882 -117.441614\n21  32.739702 -117.386436\n22  32.579357 -116.894346\n23  32.845628 -117.179013\n24  32.725222 -117.250722\n25  32.567928 -117.356379\n26  32.576680 -117.293163\n27  32.597889 -116.912735\n28  32.557887 -117.255834\n29  32.873679 -116.869227\n30  32.863089 -117.147372\n31  32.530713 -117.545158\n32  32.776906 -116.962967\n33  32.638591 -117.549078\n34  32.859540 -117.476242\n35  32.722191 -116.769199\n36  32.545781 -117.219589\n37  32.588361 -117.160498\n38  32.688782 -117.553140\n39  32.683552 -117.530913",
            "text/html": "<div>\n<style scoped>\n    .dataframe tbody tr th:only-of-type {\n        vertical-align: middle;\n    }\n\n    .dataframe tbody tr th {\n        vertical-align: top;\n    }\n\n    .dataframe thead th {\n        text-align: right;\n    }\n</style>\n<table border=\"1\" class=\"dataframe\">\n  <thead>\n    <tr style=\"text-align: right;\">\n      <th></th>\n      <th>Latitude</th>\n      <th>Longitude</th>\n    </tr>\n  </thead>\n  <tbody>\n    <tr>\n      <th>0</th>\n      <td>32.855681</td>\n      <td>-117.293285</td>\n    </tr>\n    <tr>\n      <th>1</th>\n      <td>32.697760</td>\n      <td>-117.416096</td>\n    </tr>\n    <tr>\n      <th>2</th>\n      <td>32.805054</td>\n      <td>-117.060191</td>\n    </tr>\n    <tr>\n      <th>3</th>\n      <td>32.678860</td>\n      <td>-117.500743</td>\n    </tr>\n    <tr>\n      <th>4</th>\n      <td>32.678896</td>\n      <td>-117.012186</td>\n    </tr>\n    <tr>\n      <th>5</th>\n      <td>32.559604</td>\n      <td>-117.413058</td>\n    </tr>\n    <tr>\n      <th>6</th>\n      <td>32.595945</td>\n      <td>-116.986573</td>\n    </tr>\n    <tr>\n      <th>7</th>\n      <td>32.706699</td>\n      <td>-117.427006</td>\n    </tr>\n    <tr>\n      <th>8</th>\n      <td>32.556429</td>\n      <td>-117.146530</td>\n    </tr>\n    <tr>\n      <th>9</th>\n      <td>32.617542</td>\n      <td>-117.103584</td>\n    </tr>\n    <tr>\n      <th>10</th>\n      <td>32.742573</td>\n      <td>-117.352842</td>\n    </tr>\n    <tr>\n      <th>11</th>\n      <td>32.543887</td>\n      <td>-117.212079</td>\n    </tr>\n    <tr>\n      <th>12</th>\n      <td>32.675475</td>\n      <td>-116.814146</td>\n    </tr>\n    <tr>\n      <th>13</th>\n      <td>32.667252</td>\n      <td>-117.354360</td>\n    </tr>\n    <tr>\n      <th>14</th>\n      <td>32.869225</td>\n      <td>-116.821906</td>\n    </tr>\n    <tr>\n      <th>15</th>\n      <td>32.665397</td>\n      <td>-117.251830</td>\n    </tr>\n    <tr>\n      <th>16</th>\n      <td>32.772372</td>\n      <td>-116.858530</td>\n    </tr>\n    <tr>\n      <th>17</th>\n      <td>32.788034</td>\n      <td>-117.003094</td>\n    </tr>\n    <tr>\n      <th>18</th>\n      <td>32.757034</td>\n      <td>-117.543075</td>\n    </tr>\n    <tr>\n      <th>19</th>\n      <td>32.669788</td>\n      <td>-117.222902</td>\n    </tr>\n    <tr>\n      <th>20</th>\n      <td>32.593882</td>\n      <td>-117.441614</td>\n    </tr>\n    <tr>\n      <th>21</th>\n      <td>32.739702</td>\n      <td>-117.386436</td>\n    </tr>\n    <tr>\n      <th>22</th>\n      <td>32.579357</td>\n      <td>-116.894346</td>\n    </tr>\n    <tr>\n      <th>23</th>\n      <td>32.845628</td>\n      <td>-117.179013</td>\n    </tr>\n    <tr>\n      <th>24</th>\n      <td>32.725222</td>\n      <td>-117.250722</td>\n    </tr>\n    <tr>\n      <th>25</th>\n      <td>32.567928</td>\n      <td>-117.356379</td>\n    </tr>\n    <tr>\n      <th>26</th>\n      <td>32.576680</td>\n      <td>-117.293163</td>\n    </tr>\n    <tr>\n      <th>27</th>\n      <td>32.597889</td>\n      <td>-116.912735</td>\n    </tr>\n    <tr>\n      <th>28</th>\n      <td>32.557887</td>\n      <td>-117.255834</td>\n    </tr>\n    <tr>\n      <th>29</th>\n      <td>32.873679</td>\n      <td>-116.869227</td>\n    </tr>\n    <tr>\n      <th>30</th>\n      <td>32.863089</td>\n      <td>-117.147372</td>\n    </tr>\n    <tr>\n      <th>31</th>\n      <td>32.530713</td>\n      <td>-117.545158</td>\n    </tr>\n    <tr>\n      <th>32</th>\n      <td>32.776906</td>\n      <td>-116.962967</td>\n    </tr>\n    <tr>\n      <th>33</th>\n      <td>32.638591</td>\n      <td>-117.549078</td>\n    </tr>\n    <tr>\n      <th>34</th>\n      <td>32.859540</td>\n      <td>-117.476242</td>\n    </tr>\n    <tr>\n      <th>35</th>\n      <td>32.722191</td>\n      <td>-116.769199</td>\n    </tr>\n    <tr>\n      <th>36</th>\n      <td>32.545781</td>\n      <td>-117.219589</td>\n    </tr>\n    <tr>\n      <th>37</th>\n      <td>32.588361</td>\n      <td>-117.160498</td>\n    </tr>\n    <tr>\n      <th>38</th>\n      <td>32.688782</td>\n      <td>-117.553140</td>\n    </tr>\n    <tr>\n      <th>39</th>\n      <td>32.683552</td>\n      <td>-117.530913</td>\n    </tr>\n  </tbody>\n</table>\n</div>"
          },
          "metadata": {}
        }
      ],
      "execution_count": 21
    },
    {
      "cell_type": "code",
      "source": "# Use a for loop to iterate over the rows of the DataFrame and use the \"Marker()\" function of the \"folium\" library to add markers for the latitude and longitude GPS data.\nfor index, row in coordinates.iterrows():\n    latitude = row[\"Latitude\"]\n    longitude = row[\"Longitude\"]\n    folium.Marker(location=[latitude, longitude]).add_to(m)",
      "metadata": {
        "trusted": true
      },
      "outputs": [],
      "execution_count": 22
    },
    {
      "cell_type": "code",
      "source": "# Use the save() function to save the map to an HTML file.\nm.save(\"map.html\")",
      "metadata": {
        "trusted": true
      },
      "outputs": [],
      "execution_count": 23
    },
    {
      "cell_type": "code",
      "source": "# The \"map.html\" file will show up in your Files panel to the left.\n# Double-click it to open it up in a new JupyterLite tab.\n# Click the \"Trust HTML\" button on the tab to show the map.\n# To generate a stand-alone image file of the map for insertion into a .docx component of a professional report, you will need to take a selection screenshot of it (command + shift + 4 on a mac. windows button + shift + S on a windows machine).",
      "metadata": {
        "trusted": true
      },
      "outputs": [],
      "execution_count": null
    },
    {
      "cell_type": "code",
      "source": "# If you want to experiment with creating your own set of GPS data, create a copy of this file so that you don't mess this one up, and then experiment with the below set of data engineering steps, which will get you to where you need to be to then start again from the top of this codebook to then use your new data to create a geographical data visualization (DV).",
      "metadata": {
        "trusted": true
      },
      "outputs": [],
      "execution_count": null
    },
    {
      "cell_type": "code",
      "source": "# Use ChatGPT to find a set of GPS coordinates for a specific city of interest.\n# For example, try asking ChatGPT: I need GPS coordinates to create a base map centered around Little Rock, AR",
      "metadata": {
        "trusted": true
      },
      "outputs": [],
      "execution_count": null
    },
    {
      "cell_type": "code",
      "source": "# Note your results in this cell for later use. For example, I got the following result from the above query:\n# Latitude: 34.7465° N\n# Longitude: 92.2896° W",
      "metadata": {
        "trusted": true
      },
      "outputs": [],
      "execution_count": null
    },
    {
      "cell_type": "code",
      "source": "# Next, ask ChatGPT for a dataset of n rows of random GPS coordinates from within your latitude and longitude base.\n# For example, try asking ChatGPT: I need a dataset of 50 rows of random GPS coordinates from within Latitude: 34.7465° N and Longitude: 92.2896° W",
      "metadata": {
        "trusted": true
      },
      "outputs": [],
      "execution_count": null
    },
    {
      "cell_type": "code",
      "source": "# Next, ask ChatGPT to display python code to do that that saves it to an xlsx file! :D",
      "metadata": {
        "trusted": true
      },
      "outputs": [],
      "execution_count": null
    },
    {
      "cell_type": "code",
      "source": "# Note your results in this cell for use in the next step of this experiment. For example, I got the following result from the above query (a direct copy and paste without any editing or customization):\nimport pandas as pd\nimport random\n\n# Function to generate random coordinates within a given range\ndef generate_random_coordinates(num_points, center_lat, center_lon, range_radius):\n    coordinates = []\n    for _ in range(num_points):\n        lat = center_lat + random.uniform(-range_radius, range_radius)\n        lon = center_lon + random.uniform(-range_radius, range_radius)\n        coordinates.append((lat, lon))\n    return coordinates\n\n# Parameters\nnum_rows = 50\ncenter_lat = 34.7465\ncenter_lon = -92.2896\nrange_radius = 0.05  # Adjust as needed, this is roughly 5 km range\n\n# Generate random coordinates\ncoordinates = generate_random_coordinates(num_rows, center_lat, center_lon, range_radius)\n\n# Convert to DataFrame\ndf = pd.DataFrame(coordinates, columns=['Latitude', 'Longitude'])\n\n# Save to Excel file\noutput_file = 'random_coordinates.xlsx'\ndf.to_excel(output_file, index=False)\n\nprint(f\"Random coordinates saved to {output_file}\")\n# Try running the code to see if it works, and make some notes about the results in the next cell to remind you of important details.",
      "metadata": {
        "trusted": true
      },
      "outputs": [],
      "execution_count": null
    },
    {
      "cell_type": "code",
      "source": "# Notes about the results of the code execution in the above cell:\n# When I (Dr. Mead) ran the code, a new XLSX file appeared in the files pane of the JupyterLite Integrated Development Environment (IDE).",
      "metadata": {
        "trusted": true
      },
      "outputs": [],
      "execution_count": null
    },
    {
      "cell_type": "code",
      "source": "# If you got the same result as I did, now try loading the XLSX file and take a look at it!\n# Use the \"read_excel()\" function from a library called \"pandas\" that was imported as \"pd\" to read in a file called \"random_coordinates.xlsx\" that contains the random GPD coordinates generated from a previous step and assign it to a variable called \"gps_experiment\".\ngps_experiment = pd.read_excel(\"random_coordinates.xlsx\")",
      "metadata": {
        "trusted": true
      },
      "outputs": [],
      "execution_count": null
    },
    {
      "cell_type": "code",
      "source": "# Call the \"gps_experiment\" variable to view the contents. You will see that it contains two columns, \"Latitude\" and \"Longitude\" of the GPS data that was generated in your experiment.\ngps_experiment",
      "metadata": {
        "trusted": true
      },
      "outputs": [],
      "execution_count": null
    },
    {
      "cell_type": "code",
      "source": "# Now you can move on to continue with the experiment by repeating the steps that were used at the beginning of the codebook and editing the code where required to reflect your new experiment.\n# For example, I'll go ahead and do it for my experiment for GPS data from the Little Rock, AR location.",
      "metadata": {
        "trusted": true
      },
      "outputs": [],
      "execution_count": null
    },
    {
      "cell_type": "code",
      "source": "# Create a base map centered around Little Rock, AR and assign it to a variable called \"m_LR_AR\".\nm_LR_AR = folium.Map(location=[34.7465, -92.2896], zoom_start=9) # Enter in your new latitude and longitude for the base map that you got from ChatGPT that you noted in an above cell.\n# Be carefull NOT to remove the - sign from the longitude value in the above code line.",
      "metadata": {
        "trusted": true
      },
      "outputs": [],
      "execution_count": null
    },
    {
      "cell_type": "code",
      "source": "# Use a for loop to iterate over the rows of the gps_experiment DataFrame and use the \"Marker()\" function of the \"folium\" library to add markers for the latitude and longitude GPS data.\nfor index, row in gps_experiment.iterrows():\n    latitude = row[\"Latitude\"]\n    longitude = row[\"Longitude\"]\n    folium.Marker(location=[latitude, longitude]).add_to(m_LR_AR) # change \"m\" in the original code to whatever you called your new experiment base map (remember I called mind \"m_LR_AR\").",
      "metadata": {
        "trusted": true
      },
      "outputs": [],
      "execution_count": null
    },
    {
      "cell_type": "code",
      "source": "# Use the save() function to save your new experiment map to an HTML file.\nm_LR_AR.save(\"map_m_LR_AR.html\") # Set a unique name for your new experiment map so that it does not overwrite your previous work.",
      "metadata": {
        "trusted": true
      },
      "outputs": [],
      "execution_count": null
    },
    {
      "cell_type": "code",
      "source": "# Recall from above that the map.html file (with whatever name you gave it) will show up in your Files panel to the left.\n# Double-click it to open it up in a new JupyterLite tab.\n# Click the \"Trust HTML\" button on the tab to show the map.\n# To generate a stand-alone image file of the map for insertion into assignments and report, you will need to take a selection screenshot of it (command + shift + 4 on a mac. windows button + shift + S on a windows machine).",
      "metadata": {
        "trusted": true
      },
      "outputs": [],
      "execution_count": null
    },
    {
      "cell_type": "code",
      "source": "# Try your own experiments below with what city of the world you wish! :D\n# Some blank cells have been added below for you to begin.\n# Just add more blank cells if/as needed by clicking the plus + button near the top left of the center pane of the JupyterLite IDE window.",
      "metadata": {
        "trusted": true
      },
      "outputs": [],
      "execution_count": null
    },
    {
      "cell_type": "code",
      "source": "",
      "metadata": {
        "trusted": true
      },
      "outputs": [],
      "execution_count": null
    },
    {
      "cell_type": "code",
      "source": "",
      "metadata": {
        "trusted": true
      },
      "outputs": [],
      "execution_count": null
    },
    {
      "cell_type": "code",
      "source": "",
      "metadata": {
        "trusted": true
      },
      "outputs": [],
      "execution_count": null
    },
    {
      "cell_type": "code",
      "source": "",
      "metadata": {
        "trusted": true
      },
      "outputs": [],
      "execution_count": null
    },
    {
      "cell_type": "code",
      "source": "",
      "metadata": {
        "trusted": true
      },
      "outputs": [],
      "execution_count": null
    },
    {
      "cell_type": "code",
      "source": "",
      "metadata": {
        "trusted": true
      },
      "outputs": [],
      "execution_count": null
    },
    {
      "cell_type": "code",
      "source": "",
      "metadata": {
        "trusted": true
      },
      "outputs": [],
      "execution_count": null
    },
    {
      "cell_type": "code",
      "source": "# End of file.",
      "metadata": {
        "trusted": true
      },
      "outputs": [],
      "execution_count": null
    }
  ]
}