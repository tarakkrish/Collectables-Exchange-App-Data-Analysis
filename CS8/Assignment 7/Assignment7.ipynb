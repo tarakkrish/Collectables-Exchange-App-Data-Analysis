{
  "metadata": {
    "kernelspec": {
      "name": "python",
      "display_name": "Python (Pyodide)",
      "language": "python"
    },
    "language_info": {
      "codemirror_mode": {
        "name": "python",
        "version": 3
      },
      "file_extension": ".py",
      "mimetype": "text/x-python",
      "name": "python",
      "nbconvert_exporter": "python",
      "pygments_lexer": "ipython3",
      "version": "3.8"
    }
  },
  "nbformat_minor": 4,
  "nbformat": 4,
  "cells": [
    {
      "cell_type": "code",
      "source": "#ASSIGNMENT 7 - GEOGRAPHICAL DATA - D8 DATASET  OF COLLECTABLES EXCHANGE APP",
      "metadata": {
        "trusted": true
      },
      "outputs": [],
      "execution_count": null
    },
    {
      "cell_type": "code",
      "source": "import piplite  # Load the piplite layer in the JupyterLite web environment, which is necessary for installing session-based libraries.\nawait piplite.install(\"openpyxl\")  # Use await to install the openpyxl library for working with Excel files within a piplite wrapper in the JupyterLite session.\nawait piplite.install(\"folium\")  # Use await to install the folium library for visualizing geospatial data within a piplite wrapper in the JupyterLite session.\n",
      "metadata": {
        "trusted": true
      },
      "outputs": [],
      "execution_count": 1
    },
    {
      "cell_type": "code",
      "source": "import pandas as pd  # Import the pandas library for data processing and assign it the alias \"pd\".\nimport folium  # Import the folium library for visualizing geospatial data.",
      "metadata": {
        "trusted": true
      },
      "outputs": [],
      "execution_count": 2
    },
    {
      "cell_type": "code",
      "source": "# Create a base map centered around San Diego, where the target customers for the Use Case focus groups are from, and assign it to a variable called \"m\".\nm = folium.Map(location=[32.7157, -117.1611], zoom_start=9)",
      "metadata": {
        "trusted": true
      },
      "outputs": [],
      "execution_count": 3
    },
    {
      "cell_type": "code",
      "source": "# Use the \"read_excel()\" function from the pandas library (imported as \"pd\") to read the coordinates from the Use Case D8 dataset provided by Dr. Mead.\ncoordinates = pd.read_excel(\"D8.xlsx\")  # Truncate the filename to \"D8.xlsx\" to ensure the code works correctly in this starter codebook.\n",
      "metadata": {
        "trusted": true
      },
      "outputs": [],
      "execution_count": 4
    },
    {
      "cell_type": "code",
      "source": "# Display the contents of the \"coordinates\" variable to view the data.\n# The dataset contains two columns: \"Latitude\" and \"Longitude\" for the GPS data of target customers in the focus group.\ncoordinates\n",
      "metadata": {
        "trusted": true
      },
      "outputs": [
        {
          "execution_count": 5,
          "output_type": "execute_result",
          "data": {
            "text/plain": "     Latitude   Longitude\n0   32.742870 -117.518484\n1   32.518996 -117.460069\n2   32.907810 -117.398624\n3   32.758091 -116.957397\n4   32.847869 -117.146721\n5   32.558081 -117.124310\n6   32.811575 -117.399743\n7   32.852119 -116.843464\n8   32.709620 -117.548491\n9   32.783209 -117.292119\n10  32.536155 -117.198803\n11  32.567485 -116.917028\n12  32.589243 -116.968781\n13  32.735951 -117.324392\n14  32.892584 -117.072438\n15  32.543267 -116.927517\n16  32.763652 -116.991332\n17  32.737068 -117.091320\n18  32.821217 -117.550332\n19  32.638426 -117.460755\n20  32.677344 -117.032146\n21  32.575811 -117.371921\n22  32.891819 -117.387735\n23  32.717673 -117.109185\n24  32.526889 -117.443439\n25  32.873599 -117.113323\n26  32.567636 -117.017228\n27  32.590506 -116.965797\n28  32.839470 -116.968495\n29  32.591027 -117.012422\n30  32.717243 -117.283140\n31  32.833201 -117.414438\n32  32.861678 -116.939800\n33  32.758287 -116.889739\n34  32.578834 -116.813276\n35  32.630704 -117.027027\n36  32.722535 -117.185530\n37  32.646674 -116.838046\n38  32.732457 -116.964516\n39  32.741915 -117.551383",
            "text/html": "<div>\n<style scoped>\n    .dataframe tbody tr th:only-of-type {\n        vertical-align: middle;\n    }\n\n    .dataframe tbody tr th {\n        vertical-align: top;\n    }\n\n    .dataframe thead th {\n        text-align: right;\n    }\n</style>\n<table border=\"1\" class=\"dataframe\">\n  <thead>\n    <tr style=\"text-align: right;\">\n      <th></th>\n      <th>Latitude</th>\n      <th>Longitude</th>\n    </tr>\n  </thead>\n  <tbody>\n    <tr>\n      <th>0</th>\n      <td>32.742870</td>\n      <td>-117.518484</td>\n    </tr>\n    <tr>\n      <th>1</th>\n      <td>32.518996</td>\n      <td>-117.460069</td>\n    </tr>\n    <tr>\n      <th>2</th>\n      <td>32.907810</td>\n      <td>-117.398624</td>\n    </tr>\n    <tr>\n      <th>3</th>\n      <td>32.758091</td>\n      <td>-116.957397</td>\n    </tr>\n    <tr>\n      <th>4</th>\n      <td>32.847869</td>\n      <td>-117.146721</td>\n    </tr>\n    <tr>\n      <th>5</th>\n      <td>32.558081</td>\n      <td>-117.124310</td>\n    </tr>\n    <tr>\n      <th>6</th>\n      <td>32.811575</td>\n      <td>-117.399743</td>\n    </tr>\n    <tr>\n      <th>7</th>\n      <td>32.852119</td>\n      <td>-116.843464</td>\n    </tr>\n    <tr>\n      <th>8</th>\n      <td>32.709620</td>\n      <td>-117.548491</td>\n    </tr>\n    <tr>\n      <th>9</th>\n      <td>32.783209</td>\n      <td>-117.292119</td>\n    </tr>\n    <tr>\n      <th>10</th>\n      <td>32.536155</td>\n      <td>-117.198803</td>\n    </tr>\n    <tr>\n      <th>11</th>\n      <td>32.567485</td>\n      <td>-116.917028</td>\n    </tr>\n    <tr>\n      <th>12</th>\n      <td>32.589243</td>\n      <td>-116.968781</td>\n    </tr>\n    <tr>\n      <th>13</th>\n      <td>32.735951</td>\n      <td>-117.324392</td>\n    </tr>\n    <tr>\n      <th>14</th>\n      <td>32.892584</td>\n      <td>-117.072438</td>\n    </tr>\n    <tr>\n      <th>15</th>\n      <td>32.543267</td>\n      <td>-116.927517</td>\n    </tr>\n    <tr>\n      <th>16</th>\n      <td>32.763652</td>\n      <td>-116.991332</td>\n    </tr>\n    <tr>\n      <th>17</th>\n      <td>32.737068</td>\n      <td>-117.091320</td>\n    </tr>\n    <tr>\n      <th>18</th>\n      <td>32.821217</td>\n      <td>-117.550332</td>\n    </tr>\n    <tr>\n      <th>19</th>\n      <td>32.638426</td>\n      <td>-117.460755</td>\n    </tr>\n    <tr>\n      <th>20</th>\n      <td>32.677344</td>\n      <td>-117.032146</td>\n    </tr>\n    <tr>\n      <th>21</th>\n      <td>32.575811</td>\n      <td>-117.371921</td>\n    </tr>\n    <tr>\n      <th>22</th>\n      <td>32.891819</td>\n      <td>-117.387735</td>\n    </tr>\n    <tr>\n      <th>23</th>\n      <td>32.717673</td>\n      <td>-117.109185</td>\n    </tr>\n    <tr>\n      <th>24</th>\n      <td>32.526889</td>\n      <td>-117.443439</td>\n    </tr>\n    <tr>\n      <th>25</th>\n      <td>32.873599</td>\n      <td>-117.113323</td>\n    </tr>\n    <tr>\n      <th>26</th>\n      <td>32.567636</td>\n      <td>-117.017228</td>\n    </tr>\n    <tr>\n      <th>27</th>\n      <td>32.590506</td>\n      <td>-116.965797</td>\n    </tr>\n    <tr>\n      <th>28</th>\n      <td>32.839470</td>\n      <td>-116.968495</td>\n    </tr>\n    <tr>\n      <th>29</th>\n      <td>32.591027</td>\n      <td>-117.012422</td>\n    </tr>\n    <tr>\n      <th>30</th>\n      <td>32.717243</td>\n      <td>-117.283140</td>\n    </tr>\n    <tr>\n      <th>31</th>\n      <td>32.833201</td>\n      <td>-117.414438</td>\n    </tr>\n    <tr>\n      <th>32</th>\n      <td>32.861678</td>\n      <td>-116.939800</td>\n    </tr>\n    <tr>\n      <th>33</th>\n      <td>32.758287</td>\n      <td>-116.889739</td>\n    </tr>\n    <tr>\n      <th>34</th>\n      <td>32.578834</td>\n      <td>-116.813276</td>\n    </tr>\n    <tr>\n      <th>35</th>\n      <td>32.630704</td>\n      <td>-117.027027</td>\n    </tr>\n    <tr>\n      <th>36</th>\n      <td>32.722535</td>\n      <td>-117.185530</td>\n    </tr>\n    <tr>\n      <th>37</th>\n      <td>32.646674</td>\n      <td>-116.838046</td>\n    </tr>\n    <tr>\n      <th>38</th>\n      <td>32.732457</td>\n      <td>-116.964516</td>\n    </tr>\n    <tr>\n      <th>39</th>\n      <td>32.741915</td>\n      <td>-117.551383</td>\n    </tr>\n  </tbody>\n</table>\n</div>"
          },
          "metadata": {}
        }
      ],
      "execution_count": 5
    },
    {
      "cell_type": "code",
      "source": "# Use a for loop to iterate over the rows of the DataFrame and add markers for the latitude and longitude GPS data using the \"Marker()\" function from the folium library.\nfor index, row in coordinates.iterrows():\n    latitude = row[\"Latitude\"]\n    longitude = row[\"Longitude\"]\n    folium.Marker(location=[latitude, longitude]).add_to(m)\n",
      "metadata": {
        "trusted": true
      },
      "outputs": [],
      "execution_count": 6
    },
    {
      "cell_type": "code",
      "source": "# Use the save() function to save the map to an HTML file.\nm.save(\"map.html\")",
      "metadata": {
        "trusted": true
      },
      "outputs": [],
      "execution_count": 7
    },
    {
      "cell_type": "code",
      "source": "",
      "metadata": {
        "trusted": true
      },
      "outputs": [],
      "execution_count": null
    }
  ]
}