{
  "metadata": {
    "kernelspec": {
      "name": "python",
      "display_name": "Python (Pyodide)",
      "language": "python"
    },
    "language_info": {
      "codemirror_mode": {
        "name": "python",
        "version": 3
      },
      "file_extension": ".py",
      "mimetype": "text/x-python",
      "name": "python",
      "nbconvert_exporter": "python",
      "pygments_lexer": "ipython3",
      "version": "3.8"
    }
  },
  "nbformat_minor": 4,
  "nbformat": 4,
  "cells": [
    {
      "cell_type": "code",
      "source": "#ASSIGNMENT 7 - GEOGRAPHICAL DATA - D8 DATASET  OF COLLECTABLES EXCHANGE APP",
      "metadata": {
        "trusted": true
      },
      "outputs": [],
      "execution_count": 39
    },
    {
      "cell_type": "code",
      "source": "import piplite  # Load the piplite layer in the JupyterLite web environment, which is necessary for installing session-based libraries.\nawait piplite.install(\"openpyxl\")  # Use await to install the openpyxl library for working with Excel files within a piplite wrapper in the JupyterLite session.\nawait piplite.install(\"folium\")  # Use await to install the folium library for visualizing geospatial data within a piplite wrapper in the JupyterLite session.\n",
      "metadata": {
        "trusted": true
      },
      "outputs": [],
      "execution_count": 1
    },
    {
      "cell_type": "code",
      "source": "import pandas as pd  # Import the pandas library for data processing and assign it the alias \"pd\".\nimport folium  # Import the folium library for visualizing geospatial data.\nfrom folium.plugins import MarkerCluster\n",
      "metadata": {
        "trusted": true
      },
      "outputs": [],
      "execution_count": 2
    },
    {
      "cell_type": "code",
      "source": "# Create a base map centered around San Diego, where the target customers for the Use Case focus groups are from, and assign it to a variable called \"m\".\nm = folium.Map(location=[32.7157, -117.1611], zoom_start=9)",
      "metadata": {
        "trusted": true
      },
      "outputs": [],
      "execution_count": 3
    },
    {
      "cell_type": "code",
      "source": "# Use the \"read_excel()\" function from the pandas library (imported as \"pd\") to read the coordinates from the Use Case D8 dataset provided by Dr. Mead.\ncoordinates = pd.read_excel(\"O-Collectables Exchange App-D8.xlsx\")  # Truncate the filename to \"D8.xlsx\" to ensure the code works correctly in this starter codebook.\n",
      "metadata": {
        "trusted": true
      },
      "outputs": [],
      "execution_count": 4
    },
    {
      "cell_type": "code",
      "source": "# Display the contents of the \"coordinates\" variable to view the data.\n# The dataset contains two columns: \"Latitude\" and \"Longitude\" for the GPS data of target customers in the focus group.\ncoordinates\n",
      "metadata": {
        "trusted": true
      },
      "outputs": [
        {
          "execution_count": 5,
          "output_type": "execute_result",
          "data": {
            "text/plain": "     Latitude   Longitude\n0   32.742870 -117.518484\n1   32.518996 -117.460069\n2   32.907810 -117.398624\n3   32.758091 -116.957397\n4   32.847869 -117.146721\n5   32.558081 -117.124310\n6   32.811575 -117.399743\n7   32.852119 -116.843464\n8   32.709620 -117.548491\n9   32.783209 -117.292119\n10  32.536155 -117.198803\n11  32.567485 -116.917028\n12  32.589243 -116.968781\n13  32.735951 -117.324392\n14  32.892584 -117.072438\n15  32.543267 -116.927517\n16  32.763652 -116.991332\n17  32.737068 -117.091320\n18  32.821217 -117.550332\n19  32.638426 -117.460755\n20  32.677344 -117.032146\n21  32.575811 -117.371921\n22  32.891819 -117.387735\n23  32.717673 -117.109185\n24  32.526889 -117.443439\n25  32.873599 -117.113323\n26  32.567636 -117.017228\n27  32.590506 -116.965797\n28  32.839470 -116.968495\n29  32.591027 -117.012422\n30  32.717243 -117.283140\n31  32.833201 -117.414438\n32  32.861678 -116.939800\n33  32.758287 -116.889739\n34  32.578834 -116.813276\n35  32.630704 -117.027027\n36  32.722535 -117.185530\n37  32.646674 -116.838046\n38  32.732457 -116.964516\n39  32.741915 -117.551383",
            "text/html": "<div>\n<style scoped>\n    .dataframe tbody tr th:only-of-type {\n        vertical-align: middle;\n    }\n\n    .dataframe tbody tr th {\n        vertical-align: top;\n    }\n\n    .dataframe thead th {\n        text-align: right;\n    }\n</style>\n<table border=\"1\" class=\"dataframe\">\n  <thead>\n    <tr style=\"text-align: right;\">\n      <th></th>\n      <th>Latitude</th>\n      <th>Longitude</th>\n    </tr>\n  </thead>\n  <tbody>\n    <tr>\n      <th>0</th>\n      <td>32.742870</td>\n      <td>-117.518484</td>\n    </tr>\n    <tr>\n      <th>1</th>\n      <td>32.518996</td>\n      <td>-117.460069</td>\n    </tr>\n    <tr>\n      <th>2</th>\n      <td>32.907810</td>\n      <td>-117.398624</td>\n    </tr>\n    <tr>\n      <th>3</th>\n      <td>32.758091</td>\n      <td>-116.957397</td>\n    </tr>\n    <tr>\n      <th>4</th>\n      <td>32.847869</td>\n      <td>-117.146721</td>\n    </tr>\n    <tr>\n      <th>5</th>\n      <td>32.558081</td>\n      <td>-117.124310</td>\n    </tr>\n    <tr>\n      <th>6</th>\n      <td>32.811575</td>\n      <td>-117.399743</td>\n    </tr>\n    <tr>\n      <th>7</th>\n      <td>32.852119</td>\n      <td>-116.843464</td>\n    </tr>\n    <tr>\n      <th>8</th>\n      <td>32.709620</td>\n      <td>-117.548491</td>\n    </tr>\n    <tr>\n      <th>9</th>\n      <td>32.783209</td>\n      <td>-117.292119</td>\n    </tr>\n    <tr>\n      <th>10</th>\n      <td>32.536155</td>\n      <td>-117.198803</td>\n    </tr>\n    <tr>\n      <th>11</th>\n      <td>32.567485</td>\n      <td>-116.917028</td>\n    </tr>\n    <tr>\n      <th>12</th>\n      <td>32.589243</td>\n      <td>-116.968781</td>\n    </tr>\n    <tr>\n      <th>13</th>\n      <td>32.735951</td>\n      <td>-117.324392</td>\n    </tr>\n    <tr>\n      <th>14</th>\n      <td>32.892584</td>\n      <td>-117.072438</td>\n    </tr>\n    <tr>\n      <th>15</th>\n      <td>32.543267</td>\n      <td>-116.927517</td>\n    </tr>\n    <tr>\n      <th>16</th>\n      <td>32.763652</td>\n      <td>-116.991332</td>\n    </tr>\n    <tr>\n      <th>17</th>\n      <td>32.737068</td>\n      <td>-117.091320</td>\n    </tr>\n    <tr>\n      <th>18</th>\n      <td>32.821217</td>\n      <td>-117.550332</td>\n    </tr>\n    <tr>\n      <th>19</th>\n      <td>32.638426</td>\n      <td>-117.460755</td>\n    </tr>\n    <tr>\n      <th>20</th>\n      <td>32.677344</td>\n      <td>-117.032146</td>\n    </tr>\n    <tr>\n      <th>21</th>\n      <td>32.575811</td>\n      <td>-117.371921</td>\n    </tr>\n    <tr>\n      <th>22</th>\n      <td>32.891819</td>\n      <td>-117.387735</td>\n    </tr>\n    <tr>\n      <th>23</th>\n      <td>32.717673</td>\n      <td>-117.109185</td>\n    </tr>\n    <tr>\n      <th>24</th>\n      <td>32.526889</td>\n      <td>-117.443439</td>\n    </tr>\n    <tr>\n      <th>25</th>\n      <td>32.873599</td>\n      <td>-117.113323</td>\n    </tr>\n    <tr>\n      <th>26</th>\n      <td>32.567636</td>\n      <td>-117.017228</td>\n    </tr>\n    <tr>\n      <th>27</th>\n      <td>32.590506</td>\n      <td>-116.965797</td>\n    </tr>\n    <tr>\n      <th>28</th>\n      <td>32.839470</td>\n      <td>-116.968495</td>\n    </tr>\n    <tr>\n      <th>29</th>\n      <td>32.591027</td>\n      <td>-117.012422</td>\n    </tr>\n    <tr>\n      <th>30</th>\n      <td>32.717243</td>\n      <td>-117.283140</td>\n    </tr>\n    <tr>\n      <th>31</th>\n      <td>32.833201</td>\n      <td>-117.414438</td>\n    </tr>\n    <tr>\n      <th>32</th>\n      <td>32.861678</td>\n      <td>-116.939800</td>\n    </tr>\n    <tr>\n      <th>33</th>\n      <td>32.758287</td>\n      <td>-116.889739</td>\n    </tr>\n    <tr>\n      <th>34</th>\n      <td>32.578834</td>\n      <td>-116.813276</td>\n    </tr>\n    <tr>\n      <th>35</th>\n      <td>32.630704</td>\n      <td>-117.027027</td>\n    </tr>\n    <tr>\n      <th>36</th>\n      <td>32.722535</td>\n      <td>-117.185530</td>\n    </tr>\n    <tr>\n      <th>37</th>\n      <td>32.646674</td>\n      <td>-116.838046</td>\n    </tr>\n    <tr>\n      <th>38</th>\n      <td>32.732457</td>\n      <td>-116.964516</td>\n    </tr>\n    <tr>\n      <th>39</th>\n      <td>32.741915</td>\n      <td>-117.551383</td>\n    </tr>\n  </tbody>\n</table>\n</div>"
          },
          "metadata": {}
        }
      ],
      "execution_count": 5
    },
    {
      "cell_type": "code",
      "source": "idx = 0\nnew_col = [i for i in range(1,41)]  # can be a list, a Series, an array or a scalar   \ncoordinates.insert(loc=idx, column='User', value=new_col)",
      "metadata": {
        "trusted": true
      },
      "outputs": [],
      "execution_count": 6
    },
    {
      "cell_type": "code",
      "source": "coordinates",
      "metadata": {
        "trusted": true
      },
      "outputs": [
        {
          "execution_count": 7,
          "output_type": "execute_result",
          "data": {
            "text/plain": "    User   Latitude   Longitude\n0      1  32.742870 -117.518484\n1      2  32.518996 -117.460069\n2      3  32.907810 -117.398624\n3      4  32.758091 -116.957397\n4      5  32.847869 -117.146721\n5      6  32.558081 -117.124310\n6      7  32.811575 -117.399743\n7      8  32.852119 -116.843464\n8      9  32.709620 -117.548491\n9     10  32.783209 -117.292119\n10    11  32.536155 -117.198803\n11    12  32.567485 -116.917028\n12    13  32.589243 -116.968781\n13    14  32.735951 -117.324392\n14    15  32.892584 -117.072438\n15    16  32.543267 -116.927517\n16    17  32.763652 -116.991332\n17    18  32.737068 -117.091320\n18    19  32.821217 -117.550332\n19    20  32.638426 -117.460755\n20    21  32.677344 -117.032146\n21    22  32.575811 -117.371921\n22    23  32.891819 -117.387735\n23    24  32.717673 -117.109185\n24    25  32.526889 -117.443439\n25    26  32.873599 -117.113323\n26    27  32.567636 -117.017228\n27    28  32.590506 -116.965797\n28    29  32.839470 -116.968495\n29    30  32.591027 -117.012422\n30    31  32.717243 -117.283140\n31    32  32.833201 -117.414438\n32    33  32.861678 -116.939800\n33    34  32.758287 -116.889739\n34    35  32.578834 -116.813276\n35    36  32.630704 -117.027027\n36    37  32.722535 -117.185530\n37    38  32.646674 -116.838046\n38    39  32.732457 -116.964516\n39    40  32.741915 -117.551383",
            "text/html": "<div>\n<style scoped>\n    .dataframe tbody tr th:only-of-type {\n        vertical-align: middle;\n    }\n\n    .dataframe tbody tr th {\n        vertical-align: top;\n    }\n\n    .dataframe thead th {\n        text-align: right;\n    }\n</style>\n<table border=\"1\" class=\"dataframe\">\n  <thead>\n    <tr style=\"text-align: right;\">\n      <th></th>\n      <th>User</th>\n      <th>Latitude</th>\n      <th>Longitude</th>\n    </tr>\n  </thead>\n  <tbody>\n    <tr>\n      <th>0</th>\n      <td>1</td>\n      <td>32.742870</td>\n      <td>-117.518484</td>\n    </tr>\n    <tr>\n      <th>1</th>\n      <td>2</td>\n      <td>32.518996</td>\n      <td>-117.460069</td>\n    </tr>\n    <tr>\n      <th>2</th>\n      <td>3</td>\n      <td>32.907810</td>\n      <td>-117.398624</td>\n    </tr>\n    <tr>\n      <th>3</th>\n      <td>4</td>\n      <td>32.758091</td>\n      <td>-116.957397</td>\n    </tr>\n    <tr>\n      <th>4</th>\n      <td>5</td>\n      <td>32.847869</td>\n      <td>-117.146721</td>\n    </tr>\n    <tr>\n      <th>5</th>\n      <td>6</td>\n      <td>32.558081</td>\n      <td>-117.124310</td>\n    </tr>\n    <tr>\n      <th>6</th>\n      <td>7</td>\n      <td>32.811575</td>\n      <td>-117.399743</td>\n    </tr>\n    <tr>\n      <th>7</th>\n      <td>8</td>\n      <td>32.852119</td>\n      <td>-116.843464</td>\n    </tr>\n    <tr>\n      <th>8</th>\n      <td>9</td>\n      <td>32.709620</td>\n      <td>-117.548491</td>\n    </tr>\n    <tr>\n      <th>9</th>\n      <td>10</td>\n      <td>32.783209</td>\n      <td>-117.292119</td>\n    </tr>\n    <tr>\n      <th>10</th>\n      <td>11</td>\n      <td>32.536155</td>\n      <td>-117.198803</td>\n    </tr>\n    <tr>\n      <th>11</th>\n      <td>12</td>\n      <td>32.567485</td>\n      <td>-116.917028</td>\n    </tr>\n    <tr>\n      <th>12</th>\n      <td>13</td>\n      <td>32.589243</td>\n      <td>-116.968781</td>\n    </tr>\n    <tr>\n      <th>13</th>\n      <td>14</td>\n      <td>32.735951</td>\n      <td>-117.324392</td>\n    </tr>\n    <tr>\n      <th>14</th>\n      <td>15</td>\n      <td>32.892584</td>\n      <td>-117.072438</td>\n    </tr>\n    <tr>\n      <th>15</th>\n      <td>16</td>\n      <td>32.543267</td>\n      <td>-116.927517</td>\n    </tr>\n    <tr>\n      <th>16</th>\n      <td>17</td>\n      <td>32.763652</td>\n      <td>-116.991332</td>\n    </tr>\n    <tr>\n      <th>17</th>\n      <td>18</td>\n      <td>32.737068</td>\n      <td>-117.091320</td>\n    </tr>\n    <tr>\n      <th>18</th>\n      <td>19</td>\n      <td>32.821217</td>\n      <td>-117.550332</td>\n    </tr>\n    <tr>\n      <th>19</th>\n      <td>20</td>\n      <td>32.638426</td>\n      <td>-117.460755</td>\n    </tr>\n    <tr>\n      <th>20</th>\n      <td>21</td>\n      <td>32.677344</td>\n      <td>-117.032146</td>\n    </tr>\n    <tr>\n      <th>21</th>\n      <td>22</td>\n      <td>32.575811</td>\n      <td>-117.371921</td>\n    </tr>\n    <tr>\n      <th>22</th>\n      <td>23</td>\n      <td>32.891819</td>\n      <td>-117.387735</td>\n    </tr>\n    <tr>\n      <th>23</th>\n      <td>24</td>\n      <td>32.717673</td>\n      <td>-117.109185</td>\n    </tr>\n    <tr>\n      <th>24</th>\n      <td>25</td>\n      <td>32.526889</td>\n      <td>-117.443439</td>\n    </tr>\n    <tr>\n      <th>25</th>\n      <td>26</td>\n      <td>32.873599</td>\n      <td>-117.113323</td>\n    </tr>\n    <tr>\n      <th>26</th>\n      <td>27</td>\n      <td>32.567636</td>\n      <td>-117.017228</td>\n    </tr>\n    <tr>\n      <th>27</th>\n      <td>28</td>\n      <td>32.590506</td>\n      <td>-116.965797</td>\n    </tr>\n    <tr>\n      <th>28</th>\n      <td>29</td>\n      <td>32.839470</td>\n      <td>-116.968495</td>\n    </tr>\n    <tr>\n      <th>29</th>\n      <td>30</td>\n      <td>32.591027</td>\n      <td>-117.012422</td>\n    </tr>\n    <tr>\n      <th>30</th>\n      <td>31</td>\n      <td>32.717243</td>\n      <td>-117.283140</td>\n    </tr>\n    <tr>\n      <th>31</th>\n      <td>32</td>\n      <td>32.833201</td>\n      <td>-117.414438</td>\n    </tr>\n    <tr>\n      <th>32</th>\n      <td>33</td>\n      <td>32.861678</td>\n      <td>-116.939800</td>\n    </tr>\n    <tr>\n      <th>33</th>\n      <td>34</td>\n      <td>32.758287</td>\n      <td>-116.889739</td>\n    </tr>\n    <tr>\n      <th>34</th>\n      <td>35</td>\n      <td>32.578834</td>\n      <td>-116.813276</td>\n    </tr>\n    <tr>\n      <th>35</th>\n      <td>36</td>\n      <td>32.630704</td>\n      <td>-117.027027</td>\n    </tr>\n    <tr>\n      <th>36</th>\n      <td>37</td>\n      <td>32.722535</td>\n      <td>-117.185530</td>\n    </tr>\n    <tr>\n      <th>37</th>\n      <td>38</td>\n      <td>32.646674</td>\n      <td>-116.838046</td>\n    </tr>\n    <tr>\n      <th>38</th>\n      <td>39</td>\n      <td>32.732457</td>\n      <td>-116.964516</td>\n    </tr>\n    <tr>\n      <th>39</th>\n      <td>40</td>\n      <td>32.741915</td>\n      <td>-117.551383</td>\n    </tr>\n  </tbody>\n</table>\n</div>"
          },
          "metadata": {}
        }
      ],
      "execution_count": 7
    },
    {
      "cell_type": "code",
      "source": "# Use a for loop to iterate over the rows of the DataFrame and add markers for the latitude and longitude GPS data using the \"Marker()\" function from the folium library.\nfor index, row in coordinates.iterrows():\n    latitude = row[\"Latitude\"]\n    longitude = row[\"Longitude\"]\n    folium.Marker(location=[latitude, longitude]).add_to(m)\n",
      "metadata": {
        "trusted": true
      },
      "outputs": [],
      "execution_count": 8
    },
    {
      "cell_type": "code",
      "source": "# Use the save() function to save the map to an HTML file.\nm.save(\"map.html\")",
      "metadata": {
        "trusted": true
      },
      "outputs": [],
      "execution_count": 9
    },
    {
      "cell_type": "code",
      "source": "# Use the \"read_excel()\" function from the pandas library (imported as \"pd\") to read the coordinates from the Use Case D8 dataset provided by Dr. Mead.\nD5 = pd.read_excel(\"O-Collectables Exchange App-D5.xlsx\") ",
      "metadata": {
        "trusted": true
      },
      "outputs": [],
      "execution_count": 10
    },
    {
      "cell_type": "code",
      "source": "D5",
      "metadata": {
        "trusted": true
      },
      "outputs": [
        {
          "execution_count": 11,
          "output_type": "execute_result",
          "data": {
            "text/plain": "    User   What do you want in a collectables exchange app?\n0      1  I'd like a collectibles exchange app that allo...\n1      2  User-friendly and intuitive interface for brow...\n2      3  Robust search and filter options to find speci...\n3      4  A secure and trustworthy payment system for sa...\n4      5  A rating and review system for both buyers and...\n5      6  Detailed item descriptions and high-quality im...\n6      7  Integration with social media for sharing and ...\n7      8  In-app chat or messaging for communication bet...\n8      9  Notifications for new listings, offers, and me...\n9     10  Access to collectible appraisal and valuation ...\n10    11  Support for a wide range of collectible catego...\n11    12  A feedback and dispute resolution system for i...\n12    13  A collectibles database with historical price ...\n13    14  Options for both auction-style and fixed-price...\n14    15  User profiles with verification and trusted se...\n15    16  Local pickup and delivery options for convenie...\n16    17   An escrow service for higher-value collectibles.\n17    18  Automatic listing renewal and inventory manage...\n18    19   Exclusive features for premium users or sellers.\n19    20  Regular updates and improvements to enhance th...\n20    21  Secure and reliable payment methods for buying...\n21    22  Transparent fee structure for sellers and buyers.\n22    23  An escrow service for high-value collectible t...\n23    24  A rating system for sellers and buyers to buil...\n24    25  Detailed collectible descriptions, including c...\n25    26  In-app notifications for offers, sales, and ch...\n26    27  Integration with shipping and tracking service...\n27    28  Access to collectible trade shows and events t...\n28    29  A mobile app with cross-platform compatibility...\n29    30  Collectibles insurance options for added prote...\n30    31  Integration with collectible authentication se...\n31    32  Regular newsletters and updates about collecti...\n32    33  A secure and private messaging system for buye...\n33    34  Inclusion of categories for vintage, limited e...\n34    35  A discussion forum or community board for coll...\n35    36  Support for bulk uploads and listings for coll...\n36    37  A user-friendly photo uploader and editor for ...\n37    38  Advanced search options, including filters for...\n38    39  Support for both digital and physical collecti...\n39    40  Integration with auction houses and specialty ...",
            "text/html": "<div>\n<style scoped>\n    .dataframe tbody tr th:only-of-type {\n        vertical-align: middle;\n    }\n\n    .dataframe tbody tr th {\n        vertical-align: top;\n    }\n\n    .dataframe thead th {\n        text-align: right;\n    }\n</style>\n<table border=\"1\" class=\"dataframe\">\n  <thead>\n    <tr style=\"text-align: right;\">\n      <th></th>\n      <th>User</th>\n      <th>What do you want in a collectables exchange app?</th>\n    </tr>\n  </thead>\n  <tbody>\n    <tr>\n      <th>0</th>\n      <td>1</td>\n      <td>I'd like a collectibles exchange app that allo...</td>\n    </tr>\n    <tr>\n      <th>1</th>\n      <td>2</td>\n      <td>User-friendly and intuitive interface for brow...</td>\n    </tr>\n    <tr>\n      <th>2</th>\n      <td>3</td>\n      <td>Robust search and filter options to find speci...</td>\n    </tr>\n    <tr>\n      <th>3</th>\n      <td>4</td>\n      <td>A secure and trustworthy payment system for sa...</td>\n    </tr>\n    <tr>\n      <th>4</th>\n      <td>5</td>\n      <td>A rating and review system for both buyers and...</td>\n    </tr>\n    <tr>\n      <th>5</th>\n      <td>6</td>\n      <td>Detailed item descriptions and high-quality im...</td>\n    </tr>\n    <tr>\n      <th>6</th>\n      <td>7</td>\n      <td>Integration with social media for sharing and ...</td>\n    </tr>\n    <tr>\n      <th>7</th>\n      <td>8</td>\n      <td>In-app chat or messaging for communication bet...</td>\n    </tr>\n    <tr>\n      <th>8</th>\n      <td>9</td>\n      <td>Notifications for new listings, offers, and me...</td>\n    </tr>\n    <tr>\n      <th>9</th>\n      <td>10</td>\n      <td>Access to collectible appraisal and valuation ...</td>\n    </tr>\n    <tr>\n      <th>10</th>\n      <td>11</td>\n      <td>Support for a wide range of collectible catego...</td>\n    </tr>\n    <tr>\n      <th>11</th>\n      <td>12</td>\n      <td>A feedback and dispute resolution system for i...</td>\n    </tr>\n    <tr>\n      <th>12</th>\n      <td>13</td>\n      <td>A collectibles database with historical price ...</td>\n    </tr>\n    <tr>\n      <th>13</th>\n      <td>14</td>\n      <td>Options for both auction-style and fixed-price...</td>\n    </tr>\n    <tr>\n      <th>14</th>\n      <td>15</td>\n      <td>User profiles with verification and trusted se...</td>\n    </tr>\n    <tr>\n      <th>15</th>\n      <td>16</td>\n      <td>Local pickup and delivery options for convenie...</td>\n    </tr>\n    <tr>\n      <th>16</th>\n      <td>17</td>\n      <td>An escrow service for higher-value collectibles.</td>\n    </tr>\n    <tr>\n      <th>17</th>\n      <td>18</td>\n      <td>Automatic listing renewal and inventory manage...</td>\n    </tr>\n    <tr>\n      <th>18</th>\n      <td>19</td>\n      <td>Exclusive features for premium users or sellers.</td>\n    </tr>\n    <tr>\n      <th>19</th>\n      <td>20</td>\n      <td>Regular updates and improvements to enhance th...</td>\n    </tr>\n    <tr>\n      <th>20</th>\n      <td>21</td>\n      <td>Secure and reliable payment methods for buying...</td>\n    </tr>\n    <tr>\n      <th>21</th>\n      <td>22</td>\n      <td>Transparent fee structure for sellers and buyers.</td>\n    </tr>\n    <tr>\n      <th>22</th>\n      <td>23</td>\n      <td>An escrow service for high-value collectible t...</td>\n    </tr>\n    <tr>\n      <th>23</th>\n      <td>24</td>\n      <td>A rating system for sellers and buyers to buil...</td>\n    </tr>\n    <tr>\n      <th>24</th>\n      <td>25</td>\n      <td>Detailed collectible descriptions, including c...</td>\n    </tr>\n    <tr>\n      <th>25</th>\n      <td>26</td>\n      <td>In-app notifications for offers, sales, and ch...</td>\n    </tr>\n    <tr>\n      <th>26</th>\n      <td>27</td>\n      <td>Integration with shipping and tracking service...</td>\n    </tr>\n    <tr>\n      <th>27</th>\n      <td>28</td>\n      <td>Access to collectible trade shows and events t...</td>\n    </tr>\n    <tr>\n      <th>28</th>\n      <td>29</td>\n      <td>A mobile app with cross-platform compatibility...</td>\n    </tr>\n    <tr>\n      <th>29</th>\n      <td>30</td>\n      <td>Collectibles insurance options for added prote...</td>\n    </tr>\n    <tr>\n      <th>30</th>\n      <td>31</td>\n      <td>Integration with collectible authentication se...</td>\n    </tr>\n    <tr>\n      <th>31</th>\n      <td>32</td>\n      <td>Regular newsletters and updates about collecti...</td>\n    </tr>\n    <tr>\n      <th>32</th>\n      <td>33</td>\n      <td>A secure and private messaging system for buye...</td>\n    </tr>\n    <tr>\n      <th>33</th>\n      <td>34</td>\n      <td>Inclusion of categories for vintage, limited e...</td>\n    </tr>\n    <tr>\n      <th>34</th>\n      <td>35</td>\n      <td>A discussion forum or community board for coll...</td>\n    </tr>\n    <tr>\n      <th>35</th>\n      <td>36</td>\n      <td>Support for bulk uploads and listings for coll...</td>\n    </tr>\n    <tr>\n      <th>36</th>\n      <td>37</td>\n      <td>A user-friendly photo uploader and editor for ...</td>\n    </tr>\n    <tr>\n      <th>37</th>\n      <td>38</td>\n      <td>Advanced search options, including filters for...</td>\n    </tr>\n    <tr>\n      <th>38</th>\n      <td>39</td>\n      <td>Support for both digital and physical collecti...</td>\n    </tr>\n    <tr>\n      <th>39</th>\n      <td>40</td>\n      <td>Integration with auction houses and specialty ...</td>\n    </tr>\n  </tbody>\n</table>\n</div>"
          },
          "metadata": {}
        }
      ],
      "execution_count": 11
    },
    {
      "cell_type": "code",
      "source": "result = pd.merge(coordinates,D5)",
      "metadata": {
        "trusted": true
      },
      "outputs": [],
      "execution_count": 12
    },
    {
      "cell_type": "code",
      "source": "result",
      "metadata": {
        "trusted": true
      },
      "outputs": [
        {
          "execution_count": 13,
          "output_type": "execute_result",
          "data": {
            "text/plain": "    User   Latitude   Longitude  \\\n0      1  32.742870 -117.518484   \n1      2  32.518996 -117.460069   \n2      3  32.907810 -117.398624   \n3      4  32.758091 -116.957397   \n4      5  32.847869 -117.146721   \n5      6  32.558081 -117.124310   \n6      7  32.811575 -117.399743   \n7      8  32.852119 -116.843464   \n8      9  32.709620 -117.548491   \n9     10  32.783209 -117.292119   \n10    11  32.536155 -117.198803   \n11    12  32.567485 -116.917028   \n12    13  32.589243 -116.968781   \n13    14  32.735951 -117.324392   \n14    15  32.892584 -117.072438   \n15    16  32.543267 -116.927517   \n16    17  32.763652 -116.991332   \n17    18  32.737068 -117.091320   \n18    19  32.821217 -117.550332   \n19    20  32.638426 -117.460755   \n20    21  32.677344 -117.032146   \n21    22  32.575811 -117.371921   \n22    23  32.891819 -117.387735   \n23    24  32.717673 -117.109185   \n24    25  32.526889 -117.443439   \n25    26  32.873599 -117.113323   \n26    27  32.567636 -117.017228   \n27    28  32.590506 -116.965797   \n28    29  32.839470 -116.968495   \n29    30  32.591027 -117.012422   \n30    31  32.717243 -117.283140   \n31    32  32.833201 -117.414438   \n32    33  32.861678 -116.939800   \n33    34  32.758287 -116.889739   \n34    35  32.578834 -116.813276   \n35    36  32.630704 -117.027027   \n36    37  32.722535 -117.185530   \n37    38  32.646674 -116.838046   \n38    39  32.732457 -116.964516   \n39    40  32.741915 -117.551383   \n\n     What do you want in a collectables exchange app?  \n0   I'd like a collectibles exchange app that allo...  \n1   User-friendly and intuitive interface for brow...  \n2   Robust search and filter options to find speci...  \n3   A secure and trustworthy payment system for sa...  \n4   A rating and review system for both buyers and...  \n5   Detailed item descriptions and high-quality im...  \n6   Integration with social media for sharing and ...  \n7   In-app chat or messaging for communication bet...  \n8   Notifications for new listings, offers, and me...  \n9   Access to collectible appraisal and valuation ...  \n10  Support for a wide range of collectible catego...  \n11  A feedback and dispute resolution system for i...  \n12  A collectibles database with historical price ...  \n13  Options for both auction-style and fixed-price...  \n14  User profiles with verification and trusted se...  \n15  Local pickup and delivery options for convenie...  \n16   An escrow service for higher-value collectibles.  \n17  Automatic listing renewal and inventory manage...  \n18   Exclusive features for premium users or sellers.  \n19  Regular updates and improvements to enhance th...  \n20  Secure and reliable payment methods for buying...  \n21  Transparent fee structure for sellers and buyers.  \n22  An escrow service for high-value collectible t...  \n23  A rating system for sellers and buyers to buil...  \n24  Detailed collectible descriptions, including c...  \n25  In-app notifications for offers, sales, and ch...  \n26  Integration with shipping and tracking service...  \n27  Access to collectible trade shows and events t...  \n28  A mobile app with cross-platform compatibility...  \n29  Collectibles insurance options for added prote...  \n30  Integration with collectible authentication se...  \n31  Regular newsletters and updates about collecti...  \n32  A secure and private messaging system for buye...  \n33  Inclusion of categories for vintage, limited e...  \n34  A discussion forum or community board for coll...  \n35  Support for bulk uploads and listings for coll...  \n36  A user-friendly photo uploader and editor for ...  \n37  Advanced search options, including filters for...  \n38  Support for both digital and physical collecti...  \n39  Integration with auction houses and specialty ...  ",
            "text/html": "<div>\n<style scoped>\n    .dataframe tbody tr th:only-of-type {\n        vertical-align: middle;\n    }\n\n    .dataframe tbody tr th {\n        vertical-align: top;\n    }\n\n    .dataframe thead th {\n        text-align: right;\n    }\n</style>\n<table border=\"1\" class=\"dataframe\">\n  <thead>\n    <tr style=\"text-align: right;\">\n      <th></th>\n      <th>User</th>\n      <th>Latitude</th>\n      <th>Longitude</th>\n      <th>What do you want in a collectables exchange app?</th>\n    </tr>\n  </thead>\n  <tbody>\n    <tr>\n      <th>0</th>\n      <td>1</td>\n      <td>32.742870</td>\n      <td>-117.518484</td>\n      <td>I'd like a collectibles exchange app that allo...</td>\n    </tr>\n    <tr>\n      <th>1</th>\n      <td>2</td>\n      <td>32.518996</td>\n      <td>-117.460069</td>\n      <td>User-friendly and intuitive interface for brow...</td>\n    </tr>\n    <tr>\n      <th>2</th>\n      <td>3</td>\n      <td>32.907810</td>\n      <td>-117.398624</td>\n      <td>Robust search and filter options to find speci...</td>\n    </tr>\n    <tr>\n      <th>3</th>\n      <td>4</td>\n      <td>32.758091</td>\n      <td>-116.957397</td>\n      <td>A secure and trustworthy payment system for sa...</td>\n    </tr>\n    <tr>\n      <th>4</th>\n      <td>5</td>\n      <td>32.847869</td>\n      <td>-117.146721</td>\n      <td>A rating and review system for both buyers and...</td>\n    </tr>\n    <tr>\n      <th>5</th>\n      <td>6</td>\n      <td>32.558081</td>\n      <td>-117.124310</td>\n      <td>Detailed item descriptions and high-quality im...</td>\n    </tr>\n    <tr>\n      <th>6</th>\n      <td>7</td>\n      <td>32.811575</td>\n      <td>-117.399743</td>\n      <td>Integration with social media for sharing and ...</td>\n    </tr>\n    <tr>\n      <th>7</th>\n      <td>8</td>\n      <td>32.852119</td>\n      <td>-116.843464</td>\n      <td>In-app chat or messaging for communication bet...</td>\n    </tr>\n    <tr>\n      <th>8</th>\n      <td>9</td>\n      <td>32.709620</td>\n      <td>-117.548491</td>\n      <td>Notifications for new listings, offers, and me...</td>\n    </tr>\n    <tr>\n      <th>9</th>\n      <td>10</td>\n      <td>32.783209</td>\n      <td>-117.292119</td>\n      <td>Access to collectible appraisal and valuation ...</td>\n    </tr>\n    <tr>\n      <th>10</th>\n      <td>11</td>\n      <td>32.536155</td>\n      <td>-117.198803</td>\n      <td>Support for a wide range of collectible catego...</td>\n    </tr>\n    <tr>\n      <th>11</th>\n      <td>12</td>\n      <td>32.567485</td>\n      <td>-116.917028</td>\n      <td>A feedback and dispute resolution system for i...</td>\n    </tr>\n    <tr>\n      <th>12</th>\n      <td>13</td>\n      <td>32.589243</td>\n      <td>-116.968781</td>\n      <td>A collectibles database with historical price ...</td>\n    </tr>\n    <tr>\n      <th>13</th>\n      <td>14</td>\n      <td>32.735951</td>\n      <td>-117.324392</td>\n      <td>Options for both auction-style and fixed-price...</td>\n    </tr>\n    <tr>\n      <th>14</th>\n      <td>15</td>\n      <td>32.892584</td>\n      <td>-117.072438</td>\n      <td>User profiles with verification and trusted se...</td>\n    </tr>\n    <tr>\n      <th>15</th>\n      <td>16</td>\n      <td>32.543267</td>\n      <td>-116.927517</td>\n      <td>Local pickup and delivery options for convenie...</td>\n    </tr>\n    <tr>\n      <th>16</th>\n      <td>17</td>\n      <td>32.763652</td>\n      <td>-116.991332</td>\n      <td>An escrow service for higher-value collectibles.</td>\n    </tr>\n    <tr>\n      <th>17</th>\n      <td>18</td>\n      <td>32.737068</td>\n      <td>-117.091320</td>\n      <td>Automatic listing renewal and inventory manage...</td>\n    </tr>\n    <tr>\n      <th>18</th>\n      <td>19</td>\n      <td>32.821217</td>\n      <td>-117.550332</td>\n      <td>Exclusive features for premium users or sellers.</td>\n    </tr>\n    <tr>\n      <th>19</th>\n      <td>20</td>\n      <td>32.638426</td>\n      <td>-117.460755</td>\n      <td>Regular updates and improvements to enhance th...</td>\n    </tr>\n    <tr>\n      <th>20</th>\n      <td>21</td>\n      <td>32.677344</td>\n      <td>-117.032146</td>\n      <td>Secure and reliable payment methods for buying...</td>\n    </tr>\n    <tr>\n      <th>21</th>\n      <td>22</td>\n      <td>32.575811</td>\n      <td>-117.371921</td>\n      <td>Transparent fee structure for sellers and buyers.</td>\n    </tr>\n    <tr>\n      <th>22</th>\n      <td>23</td>\n      <td>32.891819</td>\n      <td>-117.387735</td>\n      <td>An escrow service for high-value collectible t...</td>\n    </tr>\n    <tr>\n      <th>23</th>\n      <td>24</td>\n      <td>32.717673</td>\n      <td>-117.109185</td>\n      <td>A rating system for sellers and buyers to buil...</td>\n    </tr>\n    <tr>\n      <th>24</th>\n      <td>25</td>\n      <td>32.526889</td>\n      <td>-117.443439</td>\n      <td>Detailed collectible descriptions, including c...</td>\n    </tr>\n    <tr>\n      <th>25</th>\n      <td>26</td>\n      <td>32.873599</td>\n      <td>-117.113323</td>\n      <td>In-app notifications for offers, sales, and ch...</td>\n    </tr>\n    <tr>\n      <th>26</th>\n      <td>27</td>\n      <td>32.567636</td>\n      <td>-117.017228</td>\n      <td>Integration with shipping and tracking service...</td>\n    </tr>\n    <tr>\n      <th>27</th>\n      <td>28</td>\n      <td>32.590506</td>\n      <td>-116.965797</td>\n      <td>Access to collectible trade shows and events t...</td>\n    </tr>\n    <tr>\n      <th>28</th>\n      <td>29</td>\n      <td>32.839470</td>\n      <td>-116.968495</td>\n      <td>A mobile app with cross-platform compatibility...</td>\n    </tr>\n    <tr>\n      <th>29</th>\n      <td>30</td>\n      <td>32.591027</td>\n      <td>-117.012422</td>\n      <td>Collectibles insurance options for added prote...</td>\n    </tr>\n    <tr>\n      <th>30</th>\n      <td>31</td>\n      <td>32.717243</td>\n      <td>-117.283140</td>\n      <td>Integration with collectible authentication se...</td>\n    </tr>\n    <tr>\n      <th>31</th>\n      <td>32</td>\n      <td>32.833201</td>\n      <td>-117.414438</td>\n      <td>Regular newsletters and updates about collecti...</td>\n    </tr>\n    <tr>\n      <th>32</th>\n      <td>33</td>\n      <td>32.861678</td>\n      <td>-116.939800</td>\n      <td>A secure and private messaging system for buye...</td>\n    </tr>\n    <tr>\n      <th>33</th>\n      <td>34</td>\n      <td>32.758287</td>\n      <td>-116.889739</td>\n      <td>Inclusion of categories for vintage, limited e...</td>\n    </tr>\n    <tr>\n      <th>34</th>\n      <td>35</td>\n      <td>32.578834</td>\n      <td>-116.813276</td>\n      <td>A discussion forum or community board for coll...</td>\n    </tr>\n    <tr>\n      <th>35</th>\n      <td>36</td>\n      <td>32.630704</td>\n      <td>-117.027027</td>\n      <td>Support for bulk uploads and listings for coll...</td>\n    </tr>\n    <tr>\n      <th>36</th>\n      <td>37</td>\n      <td>32.722535</td>\n      <td>-117.185530</td>\n      <td>A user-friendly photo uploader and editor for ...</td>\n    </tr>\n    <tr>\n      <th>37</th>\n      <td>38</td>\n      <td>32.646674</td>\n      <td>-116.838046</td>\n      <td>Advanced search options, including filters for...</td>\n    </tr>\n    <tr>\n      <th>38</th>\n      <td>39</td>\n      <td>32.732457</td>\n      <td>-116.964516</td>\n      <td>Support for both digital and physical collecti...</td>\n    </tr>\n    <tr>\n      <th>39</th>\n      <td>40</td>\n      <td>32.741915</td>\n      <td>-117.551383</td>\n      <td>Integration with auction houses and specialty ...</td>\n    </tr>\n  </tbody>\n</table>\n</div>"
          },
          "metadata": {}
        }
      ],
      "execution_count": 13
    },
    {
      "cell_type": "code",
      "source": "#This creates the base map centered on San Diego (latitude 32.7157, longitude -117.1611) with a zoom level of 10.\nm = folium.Map(location=[32.7157, -117.1611], zoom_start=10) #",
      "metadata": {
        "trusted": true
      },
      "outputs": [],
      "execution_count": 14
    },
    {
      "cell_type": "code",
      "source": "#This creates a MarkerCluster object and adds it to the map\nmarker_cluster = MarkerCluster().add_to(m)\n",
      "metadata": {
        "trusted": true
      },
      "outputs": [],
      "execution_count": 15
    },
    {
      "cell_type": "code",
      "source": "#The purpose of this code is to create interactive map markers that represent user locations and their preferences for a collectibles exchange app\n# Iterate through each row in the coordinates DataFrame\nfor i in range(len(coordinates)):\n    # Extract the latitude and longitude for the current point\n    lat = coordinates.iloc[i]['Latitude']\n    lon = coordinates.iloc[i]['Longitude']\n    \n    # Get the corresponding preference from the D5 DataFrame\n    # Assuming the order of rows in D5 matches the order in coordinates\n    preference = D5.iloc[i]['What do you want in a collectables exchange app?']\n    \n    # Create the popup text, including the user number and their preference\n    popup_text = f\"User {i+1}: {preference}\"\n    \n    # Create a Marker object for this point\n    folium.Marker(\n        location=[lat, lon],  # Set the marker's location using the extracted coordinates\n        popup=popup_text,     # Attach the created popup text to this marker\n    ).add_to(marker_cluster)  # Add this marker to the MarkerCluster object\n    # This allows for automatic clustering of nearby markers",
      "metadata": {
        "trusted": true
      },
      "outputs": [],
      "execution_count": 16
    },
    {
      "cell_type": "code",
      "source": "#saves the map as an HTML file\nm.save(\"collectables_preferences_map.html\")",
      "metadata": {
        "trusted": true
      },
      "outputs": [],
      "execution_count": 17
    },
    {
      "cell_type": "code",
      "source": "",
      "metadata": {
        "trusted": true
      },
      "outputs": [],
      "execution_count": null
    }
  ]
}