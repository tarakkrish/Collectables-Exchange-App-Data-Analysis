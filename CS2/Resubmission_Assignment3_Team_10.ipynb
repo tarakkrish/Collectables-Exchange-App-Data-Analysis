{
  "metadata": {
    "kernelspec": {
      "name": "python",
      "display_name": "Python (Pyodide)",
      "language": "python"
    },
    "language_info": {
      "codemirror_mode": {
        "name": "python",
        "version": 3
      },
      "file_extension": ".py",
      "mimetype": "text/x-python",
      "name": "python",
      "nbconvert_exporter": "python",
      "pygments_lexer": "ipython3",
      "version": "3.8"
    }
  },
  "nbformat_minor": 4,
  "nbformat": 4,
  "cells": [
    {
      "cell_type": "code",
      "source": "# Import basic libraries (A non-optimized code documentation line.)\nimport piplite\nawait piplite.install(\"openpyxl\")\nimport pandas as pd\nimport numpy as np\nimport matplotlib.pyplot as plt\n",
      "metadata": {
        "trusted": true
      },
      "outputs": [],
      "execution_count": 68
    },
    {
      "cell_type": "code",
      "source": "# Use the \"ExcelFile()\" function from a library called \"pandas\" that was imported as a variable called \"pd\" to read an excel file called \"O-Collectables Exchange App-D1.xlsx\" and each of its sheets and save it to a variable called \"D1\" for later use.\nD1 = pd.ExcelFile('O-Collectables Exchange App-D1.xlsx')",
      "metadata": {
        "trusted": true
      },
      "outputs": [],
      "execution_count": 69
    },
    {
      "cell_type": "code",
      "source": "# Use the \"sheet_names\" attribute to output a list of all sheets in the an xlsx file that was assigned to a variable called \"D1\".\nD1.sheet_names",
      "metadata": {
        "trusted": true
      },
      "outputs": [
        {
          "execution_count": 70,
          "output_type": "execute_result",
          "data": {
            "text/plain": "['Data', 'Data Dictionary']"
          },
          "metadata": {}
        }
      ],
      "execution_count": 70
    },
    {
      "cell_type": "code",
      "source": "# Use the \"read_excel()\" function from a library called \"panda\" that was imported as a variable called \"pd\" to read just one sheet to a dataframe assigned to a variable called \"D1_data\".\nD1_data = pd.read_excel(D1, sheet_name=\"Data\")",
      "metadata": {
        "trusted": true
      },
      "outputs": [],
      "execution_count": 71
    },
    {
      "cell_type": "code",
      "source": "# Use the \"read_excel()\" function from a library called \"panda\" that was imported as a variable called \"pd\" to read just one sheet to a dataframe assigned to a variable called \"D1_DD\".\nD1_DD = pd.read_excel(D1, sheet_name=\"Data Dictionary\")",
      "metadata": {
        "trusted": true
      },
      "outputs": [],
      "execution_count": 72
    },
    {
      "cell_type": "code",
      "source": "D1_DD",
      "metadata": {
        "trusted": true
      },
      "outputs": [
        {
          "execution_count": 73,
          "output_type": "execute_result",
          "data": {
            "text/plain": "   ID                    Identification Number           Unnamed: 2  \\\n0  Q1                                   Gender             Male (1)   \n1  Q2                                Ethnicity  American Indian (1)   \n2  Q3                                      Age                  NaN   \n3  Q4                           Classification         Freshman (1)   \n4  Q5  What college does your major belong to?   Arts & Letters (1)   \n5  Q6                         Income (monthly)     $499 or less (1)   \n\n             Unnamed: 3            Unnamed: 4            Unnamed: 5  \\\n0            Female (2)                   NaN                   NaN   \n1  African American (2)  Mexican American (3)    Other Hispanic (4)   \n2                   NaN                   NaN                   NaN   \n3         Sophomore (2)            Junior (3)            Senior (4)   \n4          Business (2)         Education (3)       Engineering (4)   \n5      $500 to $999 (2)  $1,000 to $1,499 (3)  $1,500 to $1,999 (4)   \n\n                    Unnamed: 6                    Unnamed: 7  \\\n0                          NaN                           NaN   \n1                    Asian (5)           Southeast Asian (6)   \n2                          NaN                           NaN   \n3                 Graduate (5)                           NaN   \n4  Health & Human Services (5)  Professional & Fine Arts (6)   \n5           $2,000 or more (5)                           NaN   \n\n             Unnamed: 8                 Unnamed: 9               Unnamed: 10  \\\n0                   NaN                        NaN                       NaN   \n1  Pacific Islander (7)               Filipino (8)  Multiple Ethnicities (9)   \n2                   NaN                        NaN                       NaN   \n3                   NaN                        NaN                       NaN   \n4          Sciences (7)  Undergraduate Studies (8)      Graduate Studies (9)   \n5                   NaN                        NaN                       NaN   \n\n  Unnamed: 11            Unnamed: 12         Unnamed: 13  \n0         NaN                    NaN                 NaN  \n1  White (10)  Other/Not Stated (11)  International (12)  \n2         NaN                    NaN                 NaN  \n3         NaN                    NaN                 NaN  \n4         NaN                    NaN                 NaN  \n5         NaN                    NaN                 NaN  ",
            "text/html": "<div>\n<style scoped>\n    .dataframe tbody tr th:only-of-type {\n        vertical-align: middle;\n    }\n\n    .dataframe tbody tr th {\n        vertical-align: top;\n    }\n\n    .dataframe thead th {\n        text-align: right;\n    }\n</style>\n<table border=\"1\" class=\"dataframe\">\n  <thead>\n    <tr style=\"text-align: right;\">\n      <th></th>\n      <th>ID</th>\n      <th>Identification Number</th>\n      <th>Unnamed: 2</th>\n      <th>Unnamed: 3</th>\n      <th>Unnamed: 4</th>\n      <th>Unnamed: 5</th>\n      <th>Unnamed: 6</th>\n      <th>Unnamed: 7</th>\n      <th>Unnamed: 8</th>\n      <th>Unnamed: 9</th>\n      <th>Unnamed: 10</th>\n      <th>Unnamed: 11</th>\n      <th>Unnamed: 12</th>\n      <th>Unnamed: 13</th>\n    </tr>\n  </thead>\n  <tbody>\n    <tr>\n      <th>0</th>\n      <td>Q1</td>\n      <td>Gender</td>\n      <td>Male (1)</td>\n      <td>Female (2)</td>\n      <td>NaN</td>\n      <td>NaN</td>\n      <td>NaN</td>\n      <td>NaN</td>\n      <td>NaN</td>\n      <td>NaN</td>\n      <td>NaN</td>\n      <td>NaN</td>\n      <td>NaN</td>\n      <td>NaN</td>\n    </tr>\n    <tr>\n      <th>1</th>\n      <td>Q2</td>\n      <td>Ethnicity</td>\n      <td>American Indian (1)</td>\n      <td>African American (2)</td>\n      <td>Mexican American (3)</td>\n      <td>Other Hispanic (4)</td>\n      <td>Asian (5)</td>\n      <td>Southeast Asian (6)</td>\n      <td>Pacific Islander (7)</td>\n      <td>Filipino (8)</td>\n      <td>Multiple Ethnicities (9)</td>\n      <td>White (10)</td>\n      <td>Other/Not Stated (11)</td>\n      <td>International (12)</td>\n    </tr>\n    <tr>\n      <th>2</th>\n      <td>Q3</td>\n      <td>Age</td>\n      <td>NaN</td>\n      <td>NaN</td>\n      <td>NaN</td>\n      <td>NaN</td>\n      <td>NaN</td>\n      <td>NaN</td>\n      <td>NaN</td>\n      <td>NaN</td>\n      <td>NaN</td>\n      <td>NaN</td>\n      <td>NaN</td>\n      <td>NaN</td>\n    </tr>\n    <tr>\n      <th>3</th>\n      <td>Q4</td>\n      <td>Classification</td>\n      <td>Freshman (1)</td>\n      <td>Sophomore (2)</td>\n      <td>Junior (3)</td>\n      <td>Senior (4)</td>\n      <td>Graduate (5)</td>\n      <td>NaN</td>\n      <td>NaN</td>\n      <td>NaN</td>\n      <td>NaN</td>\n      <td>NaN</td>\n      <td>NaN</td>\n      <td>NaN</td>\n    </tr>\n    <tr>\n      <th>4</th>\n      <td>Q5</td>\n      <td>What college does your major belong to?</td>\n      <td>Arts &amp; Letters (1)</td>\n      <td>Business (2)</td>\n      <td>Education (3)</td>\n      <td>Engineering (4)</td>\n      <td>Health &amp; Human Services (5)</td>\n      <td>Professional &amp; Fine Arts (6)</td>\n      <td>Sciences (7)</td>\n      <td>Undergraduate Studies (8)</td>\n      <td>Graduate Studies (9)</td>\n      <td>NaN</td>\n      <td>NaN</td>\n      <td>NaN</td>\n    </tr>\n    <tr>\n      <th>5</th>\n      <td>Q6</td>\n      <td>Income (monthly)</td>\n      <td>$499 or less (1)</td>\n      <td>$500 to $999 (2)</td>\n      <td>$1,000 to $1,499 (3)</td>\n      <td>$1,500 to $1,999 (4)</td>\n      <td>$2,000 or more (5)</td>\n      <td>NaN</td>\n      <td>NaN</td>\n      <td>NaN</td>\n      <td>NaN</td>\n      <td>NaN</td>\n      <td>NaN</td>\n      <td>NaN</td>\n    </tr>\n  </tbody>\n</table>\n</div>"
          },
          "metadata": {}
        }
      ],
      "execution_count": 73
    },
    {
      "cell_type": "code",
      "source": "# Use the \"T\" attribute to Transpose the D6_DD dataframe to give another way to read it in an output cell. You decide which is easier for your and your team to understand.\nD1_DD.T\n",
      "metadata": {
        "trusted": true
      },
      "outputs": [
        {
          "execution_count": 74,
          "output_type": "execute_result",
          "data": {
            "text/plain": "                                0                         1    2  \\\nID                             Q1                        Q2   Q3   \nIdentification Number      Gender                 Ethnicity  Age   \nUnnamed: 2               Male (1)       American Indian (1)  NaN   \nUnnamed: 3             Female (2)      African American (2)  NaN   \nUnnamed: 4                    NaN      Mexican American (3)  NaN   \nUnnamed: 5                    NaN        Other Hispanic (4)  NaN   \nUnnamed: 6                    NaN                 Asian (5)  NaN   \nUnnamed: 7                    NaN       Southeast Asian (6)  NaN   \nUnnamed: 8                    NaN      Pacific Islander (7)  NaN   \nUnnamed: 9                    NaN              Filipino (8)  NaN   \nUnnamed: 10                   NaN  Multiple Ethnicities (9)  NaN   \nUnnamed: 11                   NaN                White (10)  NaN   \nUnnamed: 12                   NaN     Other/Not Stated (11)  NaN   \nUnnamed: 13                   NaN        International (12)  NaN   \n\n                                    3  \\\nID                                 Q4   \nIdentification Number  Classification   \nUnnamed: 2               Freshman (1)   \nUnnamed: 3              Sophomore (2)   \nUnnamed: 4                 Junior (3)   \nUnnamed: 5                 Senior (4)   \nUnnamed: 6               Graduate (5)   \nUnnamed: 7                        NaN   \nUnnamed: 8                        NaN   \nUnnamed: 9                        NaN   \nUnnamed: 10                       NaN   \nUnnamed: 11                       NaN   \nUnnamed: 12                       NaN   \nUnnamed: 13                       NaN   \n\n                                                             4  \\\nID                                                          Q5   \nIdentification Number  What college does your major belong to?   \nUnnamed: 2                                  Arts & Letters (1)   \nUnnamed: 3                                        Business (2)   \nUnnamed: 4                                       Education (3)   \nUnnamed: 5                                     Engineering (4)   \nUnnamed: 6                         Health & Human Services (5)   \nUnnamed: 7                        Professional & Fine Arts (6)   \nUnnamed: 8                                        Sciences (7)   \nUnnamed: 9                           Undergraduate Studies (8)   \nUnnamed: 10                               Graduate Studies (9)   \nUnnamed: 11                                                NaN   \nUnnamed: 12                                                NaN   \nUnnamed: 13                                                NaN   \n\n                                          5  \nID                                       Q6  \nIdentification Number      Income (monthly)  \nUnnamed: 2                 $499 or less (1)  \nUnnamed: 3                 $500 to $999 (2)  \nUnnamed: 4             $1,000 to $1,499 (3)  \nUnnamed: 5             $1,500 to $1,999 (4)  \nUnnamed: 6               $2,000 or more (5)  \nUnnamed: 7                              NaN  \nUnnamed: 8                              NaN  \nUnnamed: 9                              NaN  \nUnnamed: 10                             NaN  \nUnnamed: 11                             NaN  \nUnnamed: 12                             NaN  \nUnnamed: 13                             NaN  ",
            "text/html": "<div>\n<style scoped>\n    .dataframe tbody tr th:only-of-type {\n        vertical-align: middle;\n    }\n\n    .dataframe tbody tr th {\n        vertical-align: top;\n    }\n\n    .dataframe thead th {\n        text-align: right;\n    }\n</style>\n<table border=\"1\" class=\"dataframe\">\n  <thead>\n    <tr style=\"text-align: right;\">\n      <th></th>\n      <th>0</th>\n      <th>1</th>\n      <th>2</th>\n      <th>3</th>\n      <th>4</th>\n      <th>5</th>\n    </tr>\n  </thead>\n  <tbody>\n    <tr>\n      <th>ID</th>\n      <td>Q1</td>\n      <td>Q2</td>\n      <td>Q3</td>\n      <td>Q4</td>\n      <td>Q5</td>\n      <td>Q6</td>\n    </tr>\n    <tr>\n      <th>Identification Number</th>\n      <td>Gender</td>\n      <td>Ethnicity</td>\n      <td>Age</td>\n      <td>Classification</td>\n      <td>What college does your major belong to?</td>\n      <td>Income (monthly)</td>\n    </tr>\n    <tr>\n      <th>Unnamed: 2</th>\n      <td>Male (1)</td>\n      <td>American Indian (1)</td>\n      <td>NaN</td>\n      <td>Freshman (1)</td>\n      <td>Arts &amp; Letters (1)</td>\n      <td>$499 or less (1)</td>\n    </tr>\n    <tr>\n      <th>Unnamed: 3</th>\n      <td>Female (2)</td>\n      <td>African American (2)</td>\n      <td>NaN</td>\n      <td>Sophomore (2)</td>\n      <td>Business (2)</td>\n      <td>$500 to $999 (2)</td>\n    </tr>\n    <tr>\n      <th>Unnamed: 4</th>\n      <td>NaN</td>\n      <td>Mexican American (3)</td>\n      <td>NaN</td>\n      <td>Junior (3)</td>\n      <td>Education (3)</td>\n      <td>$1,000 to $1,499 (3)</td>\n    </tr>\n    <tr>\n      <th>Unnamed: 5</th>\n      <td>NaN</td>\n      <td>Other Hispanic (4)</td>\n      <td>NaN</td>\n      <td>Senior (4)</td>\n      <td>Engineering (4)</td>\n      <td>$1,500 to $1,999 (4)</td>\n    </tr>\n    <tr>\n      <th>Unnamed: 6</th>\n      <td>NaN</td>\n      <td>Asian (5)</td>\n      <td>NaN</td>\n      <td>Graduate (5)</td>\n      <td>Health &amp; Human Services (5)</td>\n      <td>$2,000 or more (5)</td>\n    </tr>\n    <tr>\n      <th>Unnamed: 7</th>\n      <td>NaN</td>\n      <td>Southeast Asian (6)</td>\n      <td>NaN</td>\n      <td>NaN</td>\n      <td>Professional &amp; Fine Arts (6)</td>\n      <td>NaN</td>\n    </tr>\n    <tr>\n      <th>Unnamed: 8</th>\n      <td>NaN</td>\n      <td>Pacific Islander (7)</td>\n      <td>NaN</td>\n      <td>NaN</td>\n      <td>Sciences (7)</td>\n      <td>NaN</td>\n    </tr>\n    <tr>\n      <th>Unnamed: 9</th>\n      <td>NaN</td>\n      <td>Filipino (8)</td>\n      <td>NaN</td>\n      <td>NaN</td>\n      <td>Undergraduate Studies (8)</td>\n      <td>NaN</td>\n    </tr>\n    <tr>\n      <th>Unnamed: 10</th>\n      <td>NaN</td>\n      <td>Multiple Ethnicities (9)</td>\n      <td>NaN</td>\n      <td>NaN</td>\n      <td>Graduate Studies (9)</td>\n      <td>NaN</td>\n    </tr>\n    <tr>\n      <th>Unnamed: 11</th>\n      <td>NaN</td>\n      <td>White (10)</td>\n      <td>NaN</td>\n      <td>NaN</td>\n      <td>NaN</td>\n      <td>NaN</td>\n    </tr>\n    <tr>\n      <th>Unnamed: 12</th>\n      <td>NaN</td>\n      <td>Other/Not Stated (11)</td>\n      <td>NaN</td>\n      <td>NaN</td>\n      <td>NaN</td>\n      <td>NaN</td>\n    </tr>\n    <tr>\n      <th>Unnamed: 13</th>\n      <td>NaN</td>\n      <td>International (12)</td>\n      <td>NaN</td>\n      <td>NaN</td>\n      <td>NaN</td>\n      <td>NaN</td>\n    </tr>\n  </tbody>\n</table>\n</div>"
          },
          "metadata": {}
        }
      ],
      "execution_count": 74
    },
    {
      "cell_type": "code",
      "source": "#Get the \"Identification Number\" column from \"D1_DD\" data to Create list with variable \"l\"\n#Later use that list \"l\" to rename the \"D1_Data\" columns\nl = D1_DD[\"Identification Number\"]",
      "metadata": {
        "trusted": true
      },
      "outputs": [],
      "execution_count": 75
    },
    {
      "cell_type": "code",
      "source": "# Use the \"rename()\" function to create a Python dictionary called \"D1_data_renamed_columns\" that consists of key-value pairs where the key (left of the colon :) are the column codes labels, and the value (right of the colon :) are the explanation labels for the column names taken from list 'l'.\nD1_data_renamed_columns = D1_data.rename(columns={\"Q1\": l[0], \"Q2\": l[1], \"Q3\": l[2], \"Q4\": l[3], \"Q5\": l[4], \"Q6\": l[5]})\nD1_data_renamed_columns",
      "metadata": {
        "trusted": true
      },
      "outputs": [
        {
          "execution_count": 76,
          "output_type": "execute_result",
          "data": {
            "text/plain": "      ID  Gender  Ethnicity  Age  Classification  \\\n0      1       2         10   22               4   \n1      2       2         10   21               3   \n2      3       2         11   21               3   \n3      4       2         10   20               3   \n4      5       1         10   22               4   \n..   ...     ...        ...  ...             ...   \n185  186       2          9   20               2   \n186  187       2         10   21               4   \n187  188       2         10   21               4   \n188  189       2          2   21               4   \n189  190       2         10   22               4   \n\n     What college does your major belong to?  Income (monthly)  \n0                                          6                 3  \n1                                          2                 1  \n2                                          7                 1  \n3                                          6                 1  \n4                                          2                 3  \n..                                       ...               ...  \n185                                        2                 1  \n186                                        6                 3  \n187                                        2                 3  \n188                                        6                 1  \n189                                        7                 1  \n\n[190 rows x 7 columns]",
            "text/html": "<div>\n<style scoped>\n    .dataframe tbody tr th:only-of-type {\n        vertical-align: middle;\n    }\n\n    .dataframe tbody tr th {\n        vertical-align: top;\n    }\n\n    .dataframe thead th {\n        text-align: right;\n    }\n</style>\n<table border=\"1\" class=\"dataframe\">\n  <thead>\n    <tr style=\"text-align: right;\">\n      <th></th>\n      <th>ID</th>\n      <th>Gender</th>\n      <th>Ethnicity</th>\n      <th>Age</th>\n      <th>Classification</th>\n      <th>What college does your major belong to?</th>\n      <th>Income (monthly)</th>\n    </tr>\n  </thead>\n  <tbody>\n    <tr>\n      <th>0</th>\n      <td>1</td>\n      <td>2</td>\n      <td>10</td>\n      <td>22</td>\n      <td>4</td>\n      <td>6</td>\n      <td>3</td>\n    </tr>\n    <tr>\n      <th>1</th>\n      <td>2</td>\n      <td>2</td>\n      <td>10</td>\n      <td>21</td>\n      <td>3</td>\n      <td>2</td>\n      <td>1</td>\n    </tr>\n    <tr>\n      <th>2</th>\n      <td>3</td>\n      <td>2</td>\n      <td>11</td>\n      <td>21</td>\n      <td>3</td>\n      <td>7</td>\n      <td>1</td>\n    </tr>\n    <tr>\n      <th>3</th>\n      <td>4</td>\n      <td>2</td>\n      <td>10</td>\n      <td>20</td>\n      <td>3</td>\n      <td>6</td>\n      <td>1</td>\n    </tr>\n    <tr>\n      <th>4</th>\n      <td>5</td>\n      <td>1</td>\n      <td>10</td>\n      <td>22</td>\n      <td>4</td>\n      <td>2</td>\n      <td>3</td>\n    </tr>\n    <tr>\n      <th>...</th>\n      <td>...</td>\n      <td>...</td>\n      <td>...</td>\n      <td>...</td>\n      <td>...</td>\n      <td>...</td>\n      <td>...</td>\n    </tr>\n    <tr>\n      <th>185</th>\n      <td>186</td>\n      <td>2</td>\n      <td>9</td>\n      <td>20</td>\n      <td>2</td>\n      <td>2</td>\n      <td>1</td>\n    </tr>\n    <tr>\n      <th>186</th>\n      <td>187</td>\n      <td>2</td>\n      <td>10</td>\n      <td>21</td>\n      <td>4</td>\n      <td>6</td>\n      <td>3</td>\n    </tr>\n    <tr>\n      <th>187</th>\n      <td>188</td>\n      <td>2</td>\n      <td>10</td>\n      <td>21</td>\n      <td>4</td>\n      <td>2</td>\n      <td>3</td>\n    </tr>\n    <tr>\n      <th>188</th>\n      <td>189</td>\n      <td>2</td>\n      <td>2</td>\n      <td>21</td>\n      <td>4</td>\n      <td>6</td>\n      <td>1</td>\n    </tr>\n    <tr>\n      <th>189</th>\n      <td>190</td>\n      <td>2</td>\n      <td>10</td>\n      <td>22</td>\n      <td>4</td>\n      <td>7</td>\n      <td>1</td>\n    </tr>\n  </tbody>\n</table>\n<p>190 rows × 7 columns</p>\n</div>"
          },
          "metadata": {}
        }
      ],
      "execution_count": 76
    },
    {
      "cell_type": "code",
      "source": "#Use to 'copy()' to create a copy of 'D1_data_renamed_columns' and assign it to variable 'df1'.\ndf1 = D1_data_renamed_columns.copy()",
      "metadata": {
        "trusted": true
      },
      "outputs": [],
      "execution_count": 77
    },
    {
      "cell_type": "code",
      "source": "#Use 'groupby()' to aggregate dataframe 'df1' by 'Gender' and use size() to get the count of genders.\ngender_counts = df1.groupby(['Gender']).size()\ndata = {'Gender': [1, 2]}  # Create a dictionary with key 'Gender' and a list of gender codes [1, 2]\ncounts = gender_counts  # Assign the gender_counts series to the variable counts\ndf1 = pd.DataFrame(data)  # Create a DataFrame from the dictionary data\ndf1['Count'] = counts  # Add a new column 'Count' to df1 with values from the counts series\ngender_map = {1: 'Male', 2: 'Female'}  # Create a dictionary for mapping gender codes to labels\ndf1['Gender'] = df1['Gender'].map(gender_map)  # Replace gender codes in df1 with labels using the gender_map dictionary\ngender_counts_df = gender_counts.reset_index(name='Count')  # Reset index of gender_counts series and convert to DataFrame with 'Count' column\ngender_counts_df  # Display the DataFrame gender_counts_df",
      "metadata": {
        "trusted": true
      },
      "outputs": [
        {
          "execution_count": 78,
          "output_type": "execute_result",
          "data": {
            "text/plain": "   Gender  Count\n0       1     58\n1       2    132",
            "text/html": "<div>\n<style scoped>\n    .dataframe tbody tr th:only-of-type {\n        vertical-align: middle;\n    }\n\n    .dataframe tbody tr th {\n        vertical-align: top;\n    }\n\n    .dataframe thead th {\n        text-align: right;\n    }\n</style>\n<table border=\"1\" class=\"dataframe\">\n  <thead>\n    <tr style=\"text-align: right;\">\n      <th></th>\n      <th>Gender</th>\n      <th>Count</th>\n    </tr>\n  </thead>\n  <tbody>\n    <tr>\n      <th>0</th>\n      <td>1</td>\n      <td>58</td>\n    </tr>\n    <tr>\n      <th>1</th>\n      <td>2</td>\n      <td>132</td>\n    </tr>\n  </tbody>\n</table>\n</div>"
          },
          "metadata": {}
        }
      ],
      "execution_count": 78
    },
    {
      "cell_type": "code",
      "source": "gender = gender_counts_df['Gender']  # Extract the 'Gender' column from the gender_counts_df DataFrame and assign it to the variable gender\ncount = gender_counts_df['Count']  # Extract the 'Count' column from the gender_counts_df DataFrame and assign it to the variable count",
      "metadata": {
        "trusted": true
      },
      "outputs": [],
      "execution_count": 79
    },
    {
      "cell_type": "code",
      "source": "# Experiment with making a donut DV for 2022 by repeating the code for a pie chart but \"cutting a hole\" in the center of it.\n#Use the 'subplots' function from the 'pyplot' module in the 'matplotlib' library to create a figure and axes with specific size, aspect ratio, and resolution.\nfig, ax = plt.subplots(figsize=(12, 7), subplot_kw=dict(aspect=\"equal\"), dpi=80)  \nplt.pie(count, autopct='%.2f%%')  # Create a pie chart with percentage labels using the 'pie' function from 'pyplot', plotting the 'count' variable\ncentre_circle = plt.Circle((0, 0), 0.50, fc='white')  # Create a white circle to add at the center of the pie chart for the donut chart effect using the 'Circle' function from 'pyplot'\nfig.gca().add_artist(centre_circle)  # Add the center circle to the pie chart using the 'add_artist' method from the current axes obtained by 'gca'\nfig = plt.gcf()  # Get the current figure using the 'gcf' function from 'pyplot' and assign it to the variable 'fig'\nplt.title(\"Count by Gender\")  # Set the title of the plot to \"Count by Gender\" using the 'title' function from 'pyplot'\nplt.legend(['Male', 'Female'], loc='upper left', framealpha=0.25)  # Add a legend to the plot with labels 'Male' and 'Female', located at the upper left, with a frame transparency of 0.25 using the 'legend' function from 'pyplot'\nplt.savefig(\"Count_by_Gender-donut-Python.png\")  # Save the plot as a PNG image file using the 'savefig' function from 'pyplot' with the specified filename\nplt.show()  # Use the 'show' function from 'pyplot' to display the plot.",
      "metadata": {
        "trusted": true
      },
      "outputs": [
        {
          "output_type": "display_data",
          "data": {
            "text/plain": "<Figure size 960x560 with 1 Axes>",
            "image/png": "[encoded data removed]"
          },
          "metadata": {}
        }
      ],
      "execution_count": 80
    },
    {
      "cell_type": "code",
      "source": "",
      "metadata": {
        "trusted": true
      },
      "outputs": [],
      "execution_count": null
    },
    {
      "cell_type": "code",
      "source": "",
      "metadata": {
        "trusted": true
      },
      "outputs": [],
      "execution_count": null
    },
    {
      "cell_type": "code",
      "source": "#Use to 'copy()' to create a copy of 'D1_data_renamed_columns' and assign it to variable 'df2'.\ndf2=D1_data_renamed_columns.copy()",
      "metadata": {
        "trusted": true
      },
      "outputs": [],
      "execution_count": 81
    },
    {
      "cell_type": "code",
      "source": "#Use 'groupby()' to aggregate dataframe 'df2' by 'Gender' and use size() to get the occurrences of the 'Age' .\nage_counts = df2.groupby(['Age']).size()",
      "metadata": {
        "trusted": true
      },
      "outputs": [],
      "execution_count": 82
    },
    {
      "cell_type": "code",
      "source": "# Use the 'to_frame' function from 'pandas' to convert the 'age_counts' Series into a DataFrame and reset the index, storing the result in 'df'.\ndf = age_counts.to_frame().reset_index()\n# Use the 'rename' function from 'pandas' to change the column name from '0' to 'count' in the 'df' DataFrame.\ndf = df.rename(columns={0: 'count'})\n# Use the 'loc' function from 'pandas' to set the 'Age' column to 'Other' where the 'count' column is less than 5 in the 'df' DataFrame.\ndf.loc[df['count'] < 5, 'Age'] = 'Other'\n# Use the 'groupby' function from 'pandas' on the 'Age' column and the 'sum' function on the 'count' column, then reset the index, to consolidate counts under 'Other' in the 'df' DataFrame.\ndf = df.groupby('Age')['count'].sum().reset_index()\n# Display the resulting 'df' DataFrame.\ndf",
      "metadata": {
        "trusted": true
      },
      "outputs": [
        {
          "execution_count": 83,
          "output_type": "execute_result",
          "data": {
            "text/plain": "     Age  count\n0     18      5\n1     19     15\n2     20     21\n3     21     56\n4     22     55\n5     23     15\n6     24      8\n7     25      5\n8  Other     10",
            "text/html": "<div>\n<style scoped>\n    .dataframe tbody tr th:only-of-type {\n        vertical-align: middle;\n    }\n\n    .dataframe tbody tr th {\n        vertical-align: top;\n    }\n\n    .dataframe thead th {\n        text-align: right;\n    }\n</style>\n<table border=\"1\" class=\"dataframe\">\n  <thead>\n    <tr style=\"text-align: right;\">\n      <th></th>\n      <th>Age</th>\n      <th>count</th>\n    </tr>\n  </thead>\n  <tbody>\n    <tr>\n      <th>0</th>\n      <td>18</td>\n      <td>5</td>\n    </tr>\n    <tr>\n      <th>1</th>\n      <td>19</td>\n      <td>15</td>\n    </tr>\n    <tr>\n      <th>2</th>\n      <td>20</td>\n      <td>21</td>\n    </tr>\n    <tr>\n      <th>3</th>\n      <td>21</td>\n      <td>56</td>\n    </tr>\n    <tr>\n      <th>4</th>\n      <td>22</td>\n      <td>55</td>\n    </tr>\n    <tr>\n      <th>5</th>\n      <td>23</td>\n      <td>15</td>\n    </tr>\n    <tr>\n      <th>6</th>\n      <td>24</td>\n      <td>8</td>\n    </tr>\n    <tr>\n      <th>7</th>\n      <td>25</td>\n      <td>5</td>\n    </tr>\n    <tr>\n      <th>8</th>\n      <td>Other</td>\n      <td>10</td>\n    </tr>\n  </tbody>\n</table>\n</div>"
          },
          "metadata": {}
        }
      ],
      "execution_count": 83
    },
    {
      "cell_type": "code",
      "source": "# Extract the 'Age' column from the 'df' DataFrame and store it in the 'age22' variable.\nage22 = df['Age']\n# Extract the 'count' column from the 'df' DataFrame and store it in the 'count22' variable.\ncount22 = df['count']\n# Define the 'explode' list to control the separation of slices in the pie chart.\nexplode = [0.3, 0, 0, 0, 0, 0, 0.3, 0.3, 0.5]\n# Use the 'subplots' function from 'pyplot' in the 'matplotlib' library to create a figure and axes with specific size, aspect ratio, and resolution.\nfig, ax = plt.subplots(figsize=(12, 7), subplot_kw=dict(aspect=\"equal\"), dpi=80)\nplt.pie(count22, autopct='%.2f%%', explode=explode)# Use the 'pie' function from 'pyplot' to create a pie chart with 'count22' data, showing percentages and applying the 'explode' list.\n# Use the 'Circle' class from 'pyplot' in the 'matplotlib' library to draw a circle at the center of the pie chart with a radius of 0.0 and white color.\ncentre_circle = plt.Circle((0, 0), 0.0, fc='white')\nfig.gca().add_artist(centre_circle) # Use the 'add_artist' function from 'pyplot' in the 'matplotlib' library to add the circle to the pie chart.\nfig = plt.gcf() # Use the 'gcf' function from 'pyplot' to get the current figure.\n# Use the 'title' function from 'pyplot' to set the title of the pie chart to \"2022 U.S. Count by Age Distribution\".\nplt.title(\"2022 U.S. Count by Age Distribution\")\nplt.legend(age22, loc='upper left', framealpha=0.25) # Use the 'legend' function from 'pyplot' to create a legend with 'age22' labels, positioned at the upper left with a transparent frame.\nplt.savefig(\"Count_by_Age_2020-pie-Python.png\") # Use the 'savefig' function from 'pyplot' to save the pie chart as a PNG file named \"Count_by_Age_2020-pie-Python.png\".\nplt.show() # Use the 'show' function from 'pyplot' to display the pie chart.",
      "metadata": {
        "trusted": true
      },
      "outputs": [
        {
          "output_type": "display_data",
          "data": {
            "text/plain": "<Figure size 960x560 with 1 Axes>",
            "image/png": "[encoded data removed]"
          },
          "metadata": {}
        }
      ],
      "execution_count": 84
    },
    {
      "cell_type": "code",
      "source": "\n\n\n",
      "metadata": {
        "trusted": true
      },
      "outputs": [],
      "execution_count": null
    },
    {
      "cell_type": "code",
      "source": "",
      "metadata": {
        "trusted": true
      },
      "outputs": [],
      "execution_count": null
    },
    {
      "cell_type": "code",
      "source": "",
      "metadata": {
        "trusted": true
      },
      "outputs": [],
      "execution_count": null
    },
    {
      "cell_type": "code",
      "source": "",
      "metadata": {
        "trusted": true
      },
      "outputs": [],
      "execution_count": null
    },
    {
      "cell_type": "code",
      "source": "",
      "metadata": {
        "trusted": true
      },
      "outputs": [],
      "execution_count": null
    },
    {
      "cell_type": "code",
      "source": "",
      "metadata": {
        "trusted": true
      },
      "outputs": [],
      "execution_count": null
    },
    {
      "cell_type": "code",
      "source": "#Below is previous work.",
      "metadata": {
        "trusted": true
      },
      "outputs": [],
      "execution_count": null
    },
    {
      "cell_type": "code",
      "source": "",
      "metadata": {
        "trusted": true
      },
      "outputs": [],
      "execution_count": null
    },
    {
      "cell_type": "code",
      "source": "# Use the \"read_excel()\" function from a library called \"panda\" that was imported as a variable called \"pd\" to read just one sheet to a dataframe assigned to a variable called \"df\".\n# df = pd.read_excel(xlsx, sheet_name=\"Ethnicity\") # Experiment with calling in different sheet names from the list of sheets output from the previous step.",
      "metadata": {
        "trusted": true
      },
      "outputs": [],
      "execution_count": null
    },
    {
      "cell_type": "code",
      "source": "# Call the \"df\" variable to see what the data for that sheet looks like\ndf = ",
      "metadata": {
        "trusted": true
      },
      "outputs": [],
      "execution_count": null
    },
    {
      "cell_type": "code",
      "source": "# Do some data engineering to make separate dataframes for years 2020 and 2021\ndf_2020 = df[df.Year == 2020]\ndf_2021 = df[df.Year == 2021]",
      "metadata": {
        "trusted": true
      },
      "outputs": [],
      "execution_count": null
    },
    {
      "cell_type": "code",
      "source": "# Call the \"df_2020\" variable to see what the data for that sheet looks like\ndf_2020",
      "metadata": {
        "trusted": true
      },
      "outputs": [],
      "execution_count": null
    },
    {
      "cell_type": "code",
      "source": "# Call the \"df_2021\" variable to see what the data for that sheet looks like\ndf_2021\n",
      "metadata": {
        "trusted": true
      },
      "outputs": [],
      "execution_count": null
    },
    {
      "cell_type": "code",
      "source": "# Do some data engineering to define some variables and to create some additional new variables for potential use later. (We might not actually use them in this Activity, but It's good practice.)\nethnicity20 = df_2020['Ethnicity']\npoverty20 = df_2020['Poverty']\nethnicity21 = df_2021['Ethnicity']\npoverty21 = df_2021['Poverty']",
      "metadata": {
        "trusted": true
      },
      "outputs": [],
      "execution_count": null
    },
    {
      "cell_type": "code",
      "source": "explode = [0, 0, 0.2, 0.2, 0.5, 0.2, 0.2] # An \"explode\" list variable is useful in some DVs for when you want to make certain data of the composition to stand out to the viewer. The number of components in your explode list variable must match the number of categories of the variable that you are visualizing. Experiment with the values later to see how it changes the look of your DV.",
      "metadata": {
        "trusted": true
      },
      "outputs": [],
      "execution_count": null
    },
    {
      "cell_type": "code",
      "source": "# Create a customized pie DV to show the composition of the poverty data for the year 2020. \nfig, ax = plt.subplots(figsize=(12, 7), subplot_kw=dict(aspect=\"equal\"), dpi= 80)\nplt.pie(poverty20, autopct='%.0f%%', explode=explode) # To make sure it shows percentages and to use your \"explode\" variable.\nplt.title(\"2020 U.S. Poverty by Ethnicity\")\nplt.ylabel(\"\") # To make sure that ylabel is blank because we don't need one this time.\nplt.xlabel(\"\") # To make sure that xlabel is blank because we don't need one this time.\nplt.legend(ethnicity20, loc='upper left', framealpha=0.25) # Variations on legend placement and properties to enhance viewability when needed\nplt.savefig(\"Poverty_by_Ethnicity_2020-pie-Python.png\") # Use the \"savefig()\" function from the module called \"pyplot\" from the library called \"matplotlib\" that was imported as a variable called \"plt\" to to save your DV as a stand-alone image asset (file) (.png or .jpg, etc.).\nplt.show()",
      "metadata": {
        "trusted": true
      },
      "outputs": [],
      "execution_count": null
    },
    {
      "cell_type": "code",
      "source": "# Create a copy the code for the 2020 year pie chart on this slide and edit it in all relevant parts to create a pie DV for poverty by the same demographic that you used for 2021. This will allow for visual comparisons between the two data compositions. \n# Don't forget to download your completed .ipynb codebook for later reuse.\n",
      "metadata": {
        "trusted": true
      },
      "outputs": [],
      "execution_count": null
    },
    {
      "cell_type": "code",
      "source": "# Create a customized pie DV to show the composition of the poverty data for the year 2020. \nfig, ax = plt.subplots(figsize=(12, 7), subplot_kw=dict(aspect=\"equal\"), dpi= 80)\nplt.pie(poverty21, autopct='%.2f%%', explode=explode) # To make sure it shows percentages and to use your \"explode\" variable.\nplt.title(\"2021 U.S. Poverty by Ethnicity\")\nplt.ylabel(\"\") # To make sure that ylabel is blank because we don't need one this time.\nplt.xlabel(\"\") # To make sure that xlabel is blank because we don't need one this time.\nplt.legend(ethnicity21, loc='upper left', framealpha=0.25) # Variations on legend placement and properties to enhance viewability when needed\nplt.savefig(\"Poverty_by_Ethnicity_2021-pie-Python.png\") # Use the \"savefig()\" function from the module called \"pyplot\" from the library called \"matplotlib\" that was imported as a variable called \"plt\" to to save your DV as a stand-alone image asset (file) (.png or .jpg, etc.).\nplt.show()",
      "metadata": {
        "trusted": true
      },
      "outputs": [],
      "execution_count": null
    },
    {
      "cell_type": "code",
      "source": "# Experiment with customizing your Python DV: https://indianaiproduction.com/matplotlib-pie-chart/\n# Experiment with repeating the above code sections (P1, P2, P3) to visualize a different sheet (variable) in the dataset, such as Gender, Age, Nativity, Region, Work, Education.\n## Note: this will require you to make several edits in the code to get it to work for that specific variable.\n### For example, one edit is that you will have to edit the number of items in the explode set to match the number of variable types.\n",
      "metadata": {
        "trusted": true
      },
      "outputs": [],
      "execution_count": null
    },
    {
      "cell_type": "code",
      "source": "# Experiment with making a donut DV for 2020 by repeating the code for a pie chart but \"cutting a hole\" in the center of it.\nfig, ax = plt.subplots(figsize=(12, 7), subplot_kw=dict(aspect=\"equal\"), dpi= 80)\nplt.pie(poverty20, autopct='%.2f%%', explode=explode)\ncentre_circle = plt.Circle((0, 0), 0.50, fc='white') # draw the circle\nfig.gca().add_artist(centre_circle) # Add the circle into the pie\nfig = plt.gcf()\nplt.title(\"2020 U.S. Poverty by Ethnicity\")\n\nplt.legend(ethnicity20, loc='center left', framealpha=0.25)\nplt.savefig(\"Poverty_by_Ethnicity_2020-donut-Python.png\") # Use the \"savefig()\" function from the module called \"pyplot\" from the library called \"matplotlib\" that was imported as a variable called \"plt\" to to save your DV as a stand-alone image asset (file) (.png or .jpg, etc.).\nplt.show()",
      "metadata": {
        "trusted": true
      },
      "outputs": [],
      "execution_count": null
    },
    {
      "cell_type": "code",
      "source": "# Experiment with making a donut DV for 2020 by repeating the code for a pie chart but \"cutting a hole\" in the center of it.\nfig, ax = plt.subplots(figsize=(12, 7), subplot_kw=dict(aspect=\"equal\"), dpi= 80)\nplt.pie(poverty21, autopct='%.0f%%', explode=explode)\ncentre_circle = plt.Circle((0, 0), 0.70, fc='white') # draw the circle\nfig.gca().add_artist(centre_circle) # Add the circle into the pie\nfig = plt.gcf()\nplt.title(\"2021 U.S. Poverty by Ethnicity\")\nplt.ylabel(\"\")\nplt.xlabel(\"\")\nplt.legend(ethnicity21, loc='center left', framealpha=0.25)\nplt.savefig(\"Poverty_by_Ethnicity_2021-donut-Python.png\") # Use the \"savefig()\" function from the module called \"pyplot\" from the library called \"matplotlib\" that was imported as a variable called \"plt\" to to save your DV as a stand-alone image asset (file) (.png or .jpg, etc.).\nplt.show()",
      "metadata": {
        "trusted": true
      },
      "outputs": [],
      "execution_count": null
    },
    {
      "cell_type": "code",
      "source": "# Experiment with making a basic horizontal bar DV with the data.\nNew_Colors = ['green', 'blue', 'purple', 'brown', 'black', 'orange', 'gray'] # Data engineer a new variable to define some colors that to use in the DV.\n# Experiment with the different colors to customize your DV.\n",
      "metadata": {
        "trusted": true
      },
      "outputs": [],
      "execution_count": null
    },
    {
      "cell_type": "code",
      "source": "plt.barh(ethnicity20, poverty20, color=New_Colors) # User your \"New_Colors\" variable here.\nplt.title('2020 U.S. Poverty by Ethnicity')\nplt.ylabel('')\nplt.xlabel('People Living in Poverty')\nplt.savefig(\"Poverty_by_Ethnicity_2020-bar-Python.png\") # Use the \"savefig()\" function from the module called \"pyplot\" from the library called \"matplotlib\" that was imported as a variable called \"plt\" to to save your DV as a stand-alone image asset (file) (.png or .jpg, etc.).\nplt.show()",
      "metadata": {
        "trusted": true
      },
      "outputs": [],
      "execution_count": null
    },
    {
      "cell_type": "code",
      "source": "plt.barh(ethnicity21, poverty21, color=New_Colors) # User your \"New_Colors\" variable here.\nplt.title('2021 U.S. Poverty by Ethnicity')\nplt.ylabel('')\nplt.xlabel('People Living in Poverty')\nplt.savefig(\"Poverty_by_Ethnicity_2021-bar-Python.png\") # Use the \"savefig()\" function from the module called \"pyplot\" from the library called \"matplotlib\" that was imported as a variable called \"plt\" to to save your DV as a stand-alone image asset (file) (.png or .jpg, etc.).\nplt.show()",
      "metadata": {
        "trusted": true,
        "scrolled": true
      },
      "outputs": [],
      "execution_count": null
    },
    {
      "cell_type": "code",
      "source": "#End of Code Activity",
      "metadata": {
        "trusted": true
      },
      "outputs": [],
      "execution_count": null
    },
    {
      "cell_type": "code",
      "source": "#all below was from the previous class Session 4 activity - holdinh for possible reuse.",
      "metadata": {
        "trusted": true
      },
      "outputs": [],
      "execution_count": null
    },
    {
      "cell_type": "code",
      "source": "# Experiment with ways to customize your Python Line Chart DV here: https://www.python-graph-gallery.com/line-chart/",
      "metadata": {
        "trusted": true
      },
      "outputs": [],
      "execution_count": null
    },
    {
      "cell_type": "code",
      "source": "xlsx = pd.ExcelFile('O-Collectables Exchange App-D1.xlsx')\n# Use the \"read_excel()\" function from a library called \"panda\" that was imported as a variable called \"pd\" to read just one sheet to a dataframe assigned to a variable called \"df\".\ndf1 = pd.read_excel(xlsx,'Data')\ndf1# Experiment with calling in different sheet names from the list of sheets output from the previous step.\n",
      "metadata": {
        "trusted": true
      },
      "outputs": [],
      "execution_count": null
    },
    {
      "cell_type": "code",
      "source": "df1 = D1_data_renamed_columns.copy()",
      "metadata": {
        "trusted": true
      },
      "outputs": [],
      "execution_count": null
    },
    {
      "cell_type": "code",
      "source": "gender_counts = df1.groupby(['Gender']).size()\ndata = {'Gender': [1, 2]}\ncounts = gender_counts\ndf1 = pd.DataFrame(data)\ndf1['Count'] = counts\n\n# Map gender codes to labels\ngender_map = {1: 'Male', 2: 'Female'}\ndf1['Gender'] = df1['Gender'].map(gender_map)\n# Convert the series to a dataframe\ngender_counts_df = gender_counts.reset_index(name='Count')\n\ngender_counts_df",
      "metadata": {
        "trusted": true
      },
      "outputs": [],
      "execution_count": null
    },
    {
      "cell_type": "code",
      "source": "gender_counts = df1.groupby(['Gender']).size()\ndf = gender_counts.to_frame().reset_index()\ndf = df.rename(columns= {0: 'count'})",
      "metadata": {
        "trusted": true,
        "scrolled": true
      },
      "outputs": [],
      "execution_count": null
    },
    {
      "cell_type": "code",
      "source": "# Do some data engineering to define some variables and to create some additional new variables for potential use later. (We might not actually use them in this Activity, but It's good practice.)\ngender = gender_counts_df['Gender']\ncount = gender_counts_df['Count']",
      "metadata": {
        "trusted": true
      },
      "outputs": [],
      "execution_count": null
    },
    {
      "cell_type": "code",
      "source": "# Experiment with making a donut DV for 2020 by repeating the code for a pie chart but \"cutting a hole\" in the center of it.\nfig, ax = plt.subplots(figsize=(12, 7), subplot_kw=dict(aspect=\"equal\"), dpi= 80)\nplt.pie(count, autopct='%.2f%%')\ncentre_circle = plt.Circle((0, 0), 0.50, fc='white') # draw the circle\nfig.gca().add_artist(centre_circle) # Add the circle into the pie\nfig = plt.gcf()\nplt.title(\"2022 U.S. Count by Gender\")\nplt.ylabel(\"\")\nplt.xlabel(\"\")\nplt.legend(['Male','Female'], loc='upper left', framealpha=0.25)\nplt.savefig(\"Count_by_Gender_2022-donut-Python.png\") # Use the \"savefig()\" function from the module called \"pyplot\" from the library called \"matplotlib\" that was imported as a variable called \"plt\" to to save your DV as a stand-alone image asset (file) (.png or .jpg, etc.).\nplt.show()",
      "metadata": {
        "trusted": true
      },
      "outputs": [],
      "execution_count": null
    },
    {
      "cell_type": "code",
      "source": "xlsx = pd.ExcelFile('D1_D2_data_renamed_columns.xlsx')\n# Use the \"read_excel()\" function from a library called \"panda\" that was imported as a variable called \"pd\" to read just one sheet to a dataframe assigned to a variable called \"df\".\ndf2 = pd.read_excel(xlsx)\ndf2# Experiment with calling in different sheet names from the list of sheets output from the previous step.\n",
      "metadata": {
        "trusted": true
      },
      "outputs": [],
      "execution_count": null
    },
    {
      "cell_type": "code",
      "source": "df2=D1_data_renamed_columns.copy()",
      "metadata": {
        "trusted": true
      },
      "outputs": [],
      "execution_count": null
    },
    {
      "cell_type": "code",
      "source": "age_counts = df2.groupby(['Age']).size()\nage_counts",
      "metadata": {
        "trusted": true
      },
      "outputs": [],
      "execution_count": null
    },
    {
      "cell_type": "code",
      "source": "age_counts\ndf = age_counts.to_frame().reset_index()\ndf = df.rename(columns= {0: 'count'})\ndf.loc[df['count'] < 5, 'Age'] = 'Other'\ndf = df.groupby('Age')['count'].sum().reset_index()\ndf",
      "metadata": {
        "trusted": true
      },
      "outputs": [],
      "execution_count": null
    },
    {
      "cell_type": "code",
      "source": "age22 =df['Age']\ncount22 = df['count']",
      "metadata": {
        "trusted": true
      },
      "outputs": [],
      "execution_count": null
    },
    {
      "cell_type": "code",
      "source": "explode = [0.3,0,0,0,0,0,0.3,0.3,0.5]",
      "metadata": {
        "trusted": true
      },
      "outputs": [],
      "execution_count": null
    },
    {
      "cell_type": "code",
      "source": "fig, ax = plt.subplots(figsize=(12, 7), subplot_kw=dict(aspect=\"equal\"), dpi= 80)\nplt.pie(count22, autopct='%.2f%%',explode = explode)\ncentre_circle = plt.Circle((0, 0), 0.0, fc='white') # draw the circle\nfig.gca().add_artist(centre_circle) # Add the circle into the pie\nfig = plt.gcf()\nplt.title(\"2022 U.S. Count by Age Distribution\")\nplt.ylabel(\"\")\nplt.xlabel(\"\")\nplt.legend(age22, loc='upper left', framealpha=0.25)\nplt.savefig(\"Count_by_Age_2020-pie-Python.png\") # Use the \"savefig()\" function from the module called \"pyplot\" from the library called \"matplotlib\" that was imported as a variable called \"plt\" to to save your DV as a stand-alone image asset (file) (.png or .jpg, etc.).\nplt.show()",
      "metadata": {
        "trusted": true
      },
      "outputs": [],
      "execution_count": null
    },
    {
      "cell_type": "code",
      "source": "",
      "metadata": {
        "trusted": true
      },
      "outputs": [],
      "execution_count": null
    },
    {
      "cell_type": "code",
      "source": "",
      "metadata": {
        "trusted": true
      },
      "outputs": [],
      "execution_count": null
    },
    {
      "cell_type": "code",
      "source": "",
      "metadata": {
        "trusted": true
      },
      "outputs": [],
      "execution_count": null
    },
    {
      "cell_type": "code",
      "source": "",
      "metadata": {
        "trusted": true
      },
      "outputs": [],
      "execution_count": null
    },
    {
      "cell_type": "code",
      "source": "",
      "metadata": {
        "trusted": true
      },
      "outputs": [],
      "execution_count": null
    },
    {
      "cell_type": "code",
      "source": "",
      "metadata": {
        "trusted": true
      },
      "outputs": [],
      "execution_count": null
    },
    {
      "cell_type": "code",
      "source": "",
      "metadata": {
        "trusted": true
      },
      "outputs": [],
      "execution_count": null
    }
  ]
}